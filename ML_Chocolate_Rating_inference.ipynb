{
 "cells": [
  {
   "cell_type": "code",
   "execution_count": 1,
   "id": "435f463a-7830-43e6-bfc9-adb7ba6b460e",
   "metadata": {},
   "outputs": [],
   "source": [
    "# Importing libraries\n",
    "import numpy as np\n",
    "import pandas as pd\n",
    "import matplotlib.pyplot as plt\n",
    "import category_encoders as ce\n",
    "import random \n",
    "import seaborn as sns\n",
    "from datetime import datetime\n",
    "from sklearn.preprocessing import StandardScaler,MinMaxScaler\n",
    "from sklearn.model_selection import train_test_split\n",
    "\n",
    "# Importing models\n",
    "from statsmodels.tsa.seasonal import seasonal_decompose\n",
    "from sklearn.linear_model import LinearRegression\n",
    "import xgboost as xgb\n",
    "from sklearn.metrics import mean_absolute_error, mean_squared_error, r2_score"
   ]
  },
  {
   "cell_type": "markdown",
   "id": "bc4ecc27-0420-4007-9000-8f6523ad7905",
   "metadata": {},
   "source": [
    "### I can summarize the steps followed throughout this project as the following:\n",
    "1. Loading and initial insights and data cleaning\n",
    "2. Data analysis\n",
    "3. Feature engineering\n",
    "4. Categorical encoding\n",
    "5. Modelling and evaluation\n",
    "6. Dealing with classes within features\n",
    "7. Re-Modelling\n",
    "8. Conclusions\n",
    "9. Appendix: extra tests"
   ]
  },
  {
   "cell_type": "markdown",
   "id": "9935b5c7-b04f-4631-a546-96b9059e574e",
   "metadata": {},
   "source": [
    "## 1. Loading and initial insights from the data"
   ]
  },
  {
   "cell_type": "code",
   "execution_count": 2,
   "id": "1828e189-0386-4816-902f-f1dec3b22c98",
   "metadata": {},
   "outputs": [],
   "source": [
    "df = pd.read_csv('flavors_of_cacao.csv',delimiter=\",\",low_memory=False,na_values=[' ','NA','NaN',' NA'])"
   ]
  },
  {
   "cell_type": "code",
   "execution_count": 3,
   "id": "698ea95d-e6ac-4c1b-bcd0-a46132090e05",
   "metadata": {},
   "outputs": [
    {
     "name": "stdout",
     "output_type": "stream",
     "text": [
      "<class 'pandas.core.frame.DataFrame'>\n",
      "RangeIndex: 1795 entries, 0 to 1794\n",
      "Data columns (total 9 columns):\n",
      " #   Column                            Non-Null Count  Dtype  \n",
      "---  ------                            --------------  -----  \n",
      " 0   Company (Maker-if known)          1795 non-null   object \n",
      " 1   Specific Bean Origin or Bar Name  1795 non-null   object \n",
      " 2   REF                               1795 non-null   int64  \n",
      " 3   Review Date                       1795 non-null   int64  \n",
      " 4   Cocoa Percent                     1795 non-null   object \n",
      " 5   Company Location                  1795 non-null   object \n",
      " 6   Rating                            1795 non-null   float64\n",
      " 7   Bean Type                         1794 non-null   object \n",
      " 8   Broad Bean Origin                 1794 non-null   object \n",
      "dtypes: float64(1), int64(2), object(6)\n",
      "memory usage: 126.3+ KB\n"
     ]
    }
   ],
   "source": [
    "df.info() \n",
    "# I made a quick manual correction in the header of the original Dataset by removing unnecessary returns."
   ]
  },
  {
   "cell_type": "code",
   "execution_count": 4,
   "id": "154b83de-71df-460e-b01f-f24e2c39ef7b",
   "metadata": {},
   "outputs": [
    {
     "data": {
      "text/plain": [
       "(1795, 9)"
      ]
     },
     "execution_count": 4,
     "metadata": {},
     "output_type": "execute_result"
    }
   ],
   "source": [
    "df.shape"
   ]
  },
  {
   "cell_type": "code",
   "execution_count": 5,
   "id": "ecb9e8c1-eadd-4bf2-89fa-10cabdc166ed",
   "metadata": {},
   "outputs": [
    {
     "data": {
      "text/html": [
       "<div>\n",
       "<style scoped>\n",
       "    .dataframe tbody tr th:only-of-type {\n",
       "        vertical-align: middle;\n",
       "    }\n",
       "\n",
       "    .dataframe tbody tr th {\n",
       "        vertical-align: top;\n",
       "    }\n",
       "\n",
       "    .dataframe thead th {\n",
       "        text-align: right;\n",
       "    }\n",
       "</style>\n",
       "<table border=\"1\" class=\"dataframe\">\n",
       "  <thead>\n",
       "    <tr style=\"text-align: right;\">\n",
       "      <th></th>\n",
       "      <th>Company (Maker-if known)</th>\n",
       "      <th>Specific Bean Origin or Bar Name</th>\n",
       "      <th>REF</th>\n",
       "      <th>Review Date</th>\n",
       "      <th>Cocoa Percent</th>\n",
       "      <th>Company Location</th>\n",
       "      <th>Rating</th>\n",
       "      <th>Bean Type</th>\n",
       "      <th>Broad Bean Origin</th>\n",
       "    </tr>\n",
       "  </thead>\n",
       "  <tbody>\n",
       "    <tr>\n",
       "      <th>0</th>\n",
       "      <td>A. Morin</td>\n",
       "      <td>Agua Grande</td>\n",
       "      <td>1876</td>\n",
       "      <td>2016</td>\n",
       "      <td>63%</td>\n",
       "      <td>France</td>\n",
       "      <td>3.75</td>\n",
       "      <td></td>\n",
       "      <td>Sao Tome</td>\n",
       "    </tr>\n",
       "    <tr>\n",
       "      <th>1</th>\n",
       "      <td>A. Morin</td>\n",
       "      <td>Kpime</td>\n",
       "      <td>1676</td>\n",
       "      <td>2015</td>\n",
       "      <td>70%</td>\n",
       "      <td>France</td>\n",
       "      <td>2.75</td>\n",
       "      <td></td>\n",
       "      <td>Togo</td>\n",
       "    </tr>\n",
       "    <tr>\n",
       "      <th>2</th>\n",
       "      <td>A. Morin</td>\n",
       "      <td>Atsane</td>\n",
       "      <td>1676</td>\n",
       "      <td>2015</td>\n",
       "      <td>70%</td>\n",
       "      <td>France</td>\n",
       "      <td>3.00</td>\n",
       "      <td></td>\n",
       "      <td>Togo</td>\n",
       "    </tr>\n",
       "    <tr>\n",
       "      <th>3</th>\n",
       "      <td>A. Morin</td>\n",
       "      <td>Akata</td>\n",
       "      <td>1680</td>\n",
       "      <td>2015</td>\n",
       "      <td>70%</td>\n",
       "      <td>France</td>\n",
       "      <td>3.50</td>\n",
       "      <td></td>\n",
       "      <td>Togo</td>\n",
       "    </tr>\n",
       "    <tr>\n",
       "      <th>4</th>\n",
       "      <td>A. Morin</td>\n",
       "      <td>Quilla</td>\n",
       "      <td>1704</td>\n",
       "      <td>2015</td>\n",
       "      <td>70%</td>\n",
       "      <td>France</td>\n",
       "      <td>3.50</td>\n",
       "      <td></td>\n",
       "      <td>Peru</td>\n",
       "    </tr>\n",
       "    <tr>\n",
       "      <th>...</th>\n",
       "      <td>...</td>\n",
       "      <td>...</td>\n",
       "      <td>...</td>\n",
       "      <td>...</td>\n",
       "      <td>...</td>\n",
       "      <td>...</td>\n",
       "      <td>...</td>\n",
       "      <td>...</td>\n",
       "      <td>...</td>\n",
       "    </tr>\n",
       "    <tr>\n",
       "      <th>1790</th>\n",
       "      <td>Zotter</td>\n",
       "      <td>Peru</td>\n",
       "      <td>647</td>\n",
       "      <td>2011</td>\n",
       "      <td>70%</td>\n",
       "      <td>Austria</td>\n",
       "      <td>3.75</td>\n",
       "      <td></td>\n",
       "      <td>Peru</td>\n",
       "    </tr>\n",
       "    <tr>\n",
       "      <th>1791</th>\n",
       "      <td>Zotter</td>\n",
       "      <td>Congo</td>\n",
       "      <td>749</td>\n",
       "      <td>2011</td>\n",
       "      <td>65%</td>\n",
       "      <td>Austria</td>\n",
       "      <td>3.00</td>\n",
       "      <td>Forastero</td>\n",
       "      <td>Congo</td>\n",
       "    </tr>\n",
       "    <tr>\n",
       "      <th>1792</th>\n",
       "      <td>Zotter</td>\n",
       "      <td>Kerala State</td>\n",
       "      <td>749</td>\n",
       "      <td>2011</td>\n",
       "      <td>65%</td>\n",
       "      <td>Austria</td>\n",
       "      <td>3.50</td>\n",
       "      <td>Forastero</td>\n",
       "      <td>India</td>\n",
       "    </tr>\n",
       "    <tr>\n",
       "      <th>1793</th>\n",
       "      <td>Zotter</td>\n",
       "      <td>Kerala State</td>\n",
       "      <td>781</td>\n",
       "      <td>2011</td>\n",
       "      <td>62%</td>\n",
       "      <td>Austria</td>\n",
       "      <td>3.25</td>\n",
       "      <td></td>\n",
       "      <td>India</td>\n",
       "    </tr>\n",
       "    <tr>\n",
       "      <th>1794</th>\n",
       "      <td>Zotter</td>\n",
       "      <td>Brazil, Mitzi Blue</td>\n",
       "      <td>486</td>\n",
       "      <td>2010</td>\n",
       "      <td>65%</td>\n",
       "      <td>Austria</td>\n",
       "      <td>3.00</td>\n",
       "      <td></td>\n",
       "      <td>Brazil</td>\n",
       "    </tr>\n",
       "  </tbody>\n",
       "</table>\n",
       "<p>1795 rows × 9 columns</p>\n",
       "</div>"
      ],
      "text/plain": [
       "     Company (Maker-if known) Specific Bean Origin or Bar Name   REF  \\\n",
       "0                    A. Morin                      Agua Grande  1876   \n",
       "1                    A. Morin                            Kpime  1676   \n",
       "2                    A. Morin                           Atsane  1676   \n",
       "3                    A. Morin                            Akata  1680   \n",
       "4                    A. Morin                           Quilla  1704   \n",
       "...                       ...                              ...   ...   \n",
       "1790                   Zotter                             Peru   647   \n",
       "1791                   Zotter                            Congo   749   \n",
       "1792                   Zotter                     Kerala State   749   \n",
       "1793                   Zotter                     Kerala State   781   \n",
       "1794                   Zotter               Brazil, Mitzi Blue   486   \n",
       "\n",
       "      Review Date Cocoa Percent Company Location  Rating  Bean Type  \\\n",
       "0            2016           63%           France    3.75              \n",
       "1            2015           70%           France    2.75              \n",
       "2            2015           70%           France    3.00              \n",
       "3            2015           70%           France    3.50              \n",
       "4            2015           70%           France    3.50              \n",
       "...           ...           ...              ...     ...        ...   \n",
       "1790         2011           70%          Austria    3.75              \n",
       "1791         2011           65%          Austria    3.00  Forastero   \n",
       "1792         2011           65%          Austria    3.50  Forastero   \n",
       "1793         2011           62%          Austria    3.25              \n",
       "1794         2010           65%          Austria    3.00              \n",
       "\n",
       "     Broad Bean Origin  \n",
       "0             Sao Tome  \n",
       "1                 Togo  \n",
       "2                 Togo  \n",
       "3                 Togo  \n",
       "4                 Peru  \n",
       "...                ...  \n",
       "1790              Peru  \n",
       "1791             Congo  \n",
       "1792             India  \n",
       "1793             India  \n",
       "1794            Brazil  \n",
       "\n",
       "[1795 rows x 9 columns]"
      ]
     },
     "execution_count": 5,
     "metadata": {},
     "output_type": "execute_result"
    }
   ],
   "source": [
    "df"
   ]
  },
  {
   "cell_type": "markdown",
   "id": "e3ba9a0d-aa06-4566-a441-be934b50ab30",
   "metadata": {},
   "source": [
    "### Just by looking at the table above, we can see that there are several Empty values that we will have to deal with."
   ]
  },
  {
   "cell_type": "code",
   "execution_count": 6,
   "id": "3253d305-e362-4af2-9d93-45afbd296f49",
   "metadata": {},
   "outputs": [
    {
     "data": {
      "text/plain": [
       "Index(['Company (Maker-if known)', 'Specific Bean Origin or Bar Name', 'REF',\n",
       "       'Review Date', 'Cocoa Percent', 'Company Location', 'Rating',\n",
       "       'Bean Type', 'Broad Bean Origin'],\n",
       "      dtype='object')"
      ]
     },
     "execution_count": 6,
     "metadata": {},
     "output_type": "execute_result"
    }
   ],
   "source": [
    "df.columns"
   ]
  },
  {
   "cell_type": "markdown",
   "id": "98251a9e-8415-4370-92b5-733203d11720",
   "metadata": {},
   "source": [
    "#### Only 1795 rows, it is not much, so we have to bear it in mind."
   ]
  },
  {
   "cell_type": "code",
   "execution_count": 7,
   "id": "b2f874c3-1625-4e20-b8e1-effca2058dfc",
   "metadata": {},
   "outputs": [],
   "source": [
    "column_names = df.columns.tolist()\n",
    "column_names[0]='Company'\n",
    "column_names[1]='Specific_Bean_Origin_or_Bar_Name'\n",
    "column_names[3] = 'Review_Date'\n",
    "column_names[4] = 'Cocoa_Percent'\n",
    "column_names[5] = 'Company_Location'\n",
    "column_names[-2] = 'Bean_Type'\n",
    "column_names[-1] = 'Broad_Bean_Origin'\n",
    "\n",
    "df.columns = column_names"
   ]
  },
  {
   "cell_type": "markdown",
   "id": "c4ecd526-613a-422e-a571-6a0df52fecef",
   "metadata": {},
   "source": [
    "#### Columns information:\n",
    "- Company (Maker-if known) = Name of the company manufacturing the bar\n",
    "- Specific Bean Origin\\nor Bar Name = The specific geo-region of origin for the bar\n",
    "- #REF = A value linked to when the review was entered in the database. Higher = more recent\n",
    "- Review Date = Date of publication of the review\n",
    "- Cocoa Percent = Cocoa percentage (darkness) of the chocolate bar being reviewed\n",
    "- Company Location = Manufacturer base country\n",
    "- Rating = Expert rating for the bar\n",
    "- Bean Type = The variety (breed) of bean used, if provided\n",
    "- Broad Bean Origin = The broad geo-region of origin for the bean"
   ]
  },
  {
   "cell_type": "code",
   "execution_count": 8,
   "id": "6dfa2231-72e5-43e8-a743-5d2e46441988",
   "metadata": {},
   "outputs": [
    {
     "data": {
      "text/html": [
       "<div>\n",
       "<style scoped>\n",
       "    .dataframe tbody tr th:only-of-type {\n",
       "        vertical-align: middle;\n",
       "    }\n",
       "\n",
       "    .dataframe tbody tr th {\n",
       "        vertical-align: top;\n",
       "    }\n",
       "\n",
       "    .dataframe thead th {\n",
       "        text-align: right;\n",
       "    }\n",
       "</style>\n",
       "<table border=\"1\" class=\"dataframe\">\n",
       "  <thead>\n",
       "    <tr style=\"text-align: right;\">\n",
       "      <th></th>\n",
       "      <th>count</th>\n",
       "      <th>mean</th>\n",
       "      <th>std</th>\n",
       "      <th>min</th>\n",
       "      <th>25%</th>\n",
       "      <th>50%</th>\n",
       "      <th>75%</th>\n",
       "      <th>max</th>\n",
       "    </tr>\n",
       "  </thead>\n",
       "  <tbody>\n",
       "    <tr>\n",
       "      <th>REF</th>\n",
       "      <td>1795.0</td>\n",
       "      <td>1035.904735</td>\n",
       "      <td>552.886365</td>\n",
       "      <td>5.0</td>\n",
       "      <td>576.000</td>\n",
       "      <td>1069.00</td>\n",
       "      <td>1502.0</td>\n",
       "      <td>1952.0</td>\n",
       "    </tr>\n",
       "    <tr>\n",
       "      <th>Review_Date</th>\n",
       "      <td>1795.0</td>\n",
       "      <td>2012.325348</td>\n",
       "      <td>2.927210</td>\n",
       "      <td>2006.0</td>\n",
       "      <td>2010.000</td>\n",
       "      <td>2013.00</td>\n",
       "      <td>2015.0</td>\n",
       "      <td>2017.0</td>\n",
       "    </tr>\n",
       "    <tr>\n",
       "      <th>Rating</th>\n",
       "      <td>1795.0</td>\n",
       "      <td>3.185933</td>\n",
       "      <td>0.478062</td>\n",
       "      <td>1.0</td>\n",
       "      <td>2.875</td>\n",
       "      <td>3.25</td>\n",
       "      <td>3.5</td>\n",
       "      <td>5.0</td>\n",
       "    </tr>\n",
       "  </tbody>\n",
       "</table>\n",
       "</div>"
      ],
      "text/plain": [
       "              count         mean         std     min       25%      50%  \\\n",
       "REF          1795.0  1035.904735  552.886365     5.0   576.000  1069.00   \n",
       "Review_Date  1795.0  2012.325348    2.927210  2006.0  2010.000  2013.00   \n",
       "Rating       1795.0     3.185933    0.478062     1.0     2.875     3.25   \n",
       "\n",
       "                75%     max  \n",
       "REF          1502.0  1952.0  \n",
       "Review_Date  2015.0  2017.0  \n",
       "Rating          3.5     5.0  "
      ]
     },
     "execution_count": 8,
     "metadata": {},
     "output_type": "execute_result"
    }
   ],
   "source": [
    "df.describe().T"
   ]
  },
  {
   "cell_type": "code",
   "execution_count": 9,
   "id": "cbaef179-6352-46fc-a38b-afc15e80393d",
   "metadata": {},
   "outputs": [
    {
     "data": {
      "text/plain": [
       "Company                             0\n",
       "Specific_Bean_Origin_or_Bar_Name    0\n",
       "REF                                 0\n",
       "Review_Date                         0\n",
       "Cocoa_Percent                       0\n",
       "Company_Location                    0\n",
       "Rating                              0\n",
       "Bean_Type                           1\n",
       "Broad_Bean_Origin                   1\n",
       "dtype: int64"
      ]
     },
     "execution_count": 9,
     "metadata": {},
     "output_type": "execute_result"
    }
   ],
   "source": [
    "np.sum(df.isnull())"
   ]
  },
  {
   "cell_type": "markdown",
   "id": "a9ce2399-3101-46c3-a2b3-b40d4912fb8a",
   "metadata": {},
   "source": [
    "### As expected, the isnull or isna tasks were not able to count the empty values, so we will have to clean and solve it before our analysis. In this case, I am not just substituing them, I am creating a new class within these features and calling them \"unknown\" simply because we don't have much information about them."
   ]
  },
  {
   "cell_type": "code",
   "execution_count": 10,
   "id": "cb161160-ebf4-4fc8-b648-52016be13077",
   "metadata": {},
   "outputs": [],
   "source": [
    "# Here I am creating a new input for the empty values, by just substituing this Category variables by \"Unknown\".\n",
    "\n",
    "empty_value = df[\"Bean_Type\"].values[0]\n",
    "def replace_nan(value):\n",
    "    \"\"\"\n",
    "    This function basically identify empty values and substitute them for a new class that I am calling Unknown\n",
    "    \"\"\"\n",
    "    if value == empty_value:\n",
    "        return \"Unknown\"\n",
    "    else:\n",
    "        return value\n",
    "for col in df.columns:\n",
    "    if df[col].dtype == 'O':\n",
    "        df[col] = df[col].apply(lambda value: replace_nan(value))"
   ]
  },
  {
   "cell_type": "code",
   "execution_count": 11,
   "id": "7ca89a3e-2403-4b72-aeba-4605d575fba4",
   "metadata": {},
   "outputs": [
    {
     "data": {
      "text/html": [
       "<div>\n",
       "<style scoped>\n",
       "    .dataframe tbody tr th:only-of-type {\n",
       "        vertical-align: middle;\n",
       "    }\n",
       "\n",
       "    .dataframe tbody tr th {\n",
       "        vertical-align: top;\n",
       "    }\n",
       "\n",
       "    .dataframe thead th {\n",
       "        text-align: right;\n",
       "    }\n",
       "</style>\n",
       "<table border=\"1\" class=\"dataframe\">\n",
       "  <thead>\n",
       "    <tr style=\"text-align: right;\">\n",
       "      <th></th>\n",
       "      <th>Company</th>\n",
       "      <th>Specific_Bean_Origin_or_Bar_Name</th>\n",
       "      <th>REF</th>\n",
       "      <th>Review_Date</th>\n",
       "      <th>Cocoa_Percent</th>\n",
       "      <th>Company_Location</th>\n",
       "      <th>Rating</th>\n",
       "      <th>Bean_Type</th>\n",
       "      <th>Broad_Bean_Origin</th>\n",
       "    </tr>\n",
       "  </thead>\n",
       "  <tbody>\n",
       "    <tr>\n",
       "      <th>0</th>\n",
       "      <td>A. Morin</td>\n",
       "      <td>Agua Grande</td>\n",
       "      <td>1876</td>\n",
       "      <td>2016</td>\n",
       "      <td>63%</td>\n",
       "      <td>France</td>\n",
       "      <td>3.75</td>\n",
       "      <td>Unknown</td>\n",
       "      <td>Sao Tome</td>\n",
       "    </tr>\n",
       "    <tr>\n",
       "      <th>1</th>\n",
       "      <td>A. Morin</td>\n",
       "      <td>Kpime</td>\n",
       "      <td>1676</td>\n",
       "      <td>2015</td>\n",
       "      <td>70%</td>\n",
       "      <td>France</td>\n",
       "      <td>2.75</td>\n",
       "      <td>Unknown</td>\n",
       "      <td>Togo</td>\n",
       "    </tr>\n",
       "    <tr>\n",
       "      <th>2</th>\n",
       "      <td>A. Morin</td>\n",
       "      <td>Atsane</td>\n",
       "      <td>1676</td>\n",
       "      <td>2015</td>\n",
       "      <td>70%</td>\n",
       "      <td>France</td>\n",
       "      <td>3.00</td>\n",
       "      <td>Unknown</td>\n",
       "      <td>Togo</td>\n",
       "    </tr>\n",
       "    <tr>\n",
       "      <th>3</th>\n",
       "      <td>A. Morin</td>\n",
       "      <td>Akata</td>\n",
       "      <td>1680</td>\n",
       "      <td>2015</td>\n",
       "      <td>70%</td>\n",
       "      <td>France</td>\n",
       "      <td>3.50</td>\n",
       "      <td>Unknown</td>\n",
       "      <td>Togo</td>\n",
       "    </tr>\n",
       "    <tr>\n",
       "      <th>4</th>\n",
       "      <td>A. Morin</td>\n",
       "      <td>Quilla</td>\n",
       "      <td>1704</td>\n",
       "      <td>2015</td>\n",
       "      <td>70%</td>\n",
       "      <td>France</td>\n",
       "      <td>3.50</td>\n",
       "      <td>Unknown</td>\n",
       "      <td>Peru</td>\n",
       "    </tr>\n",
       "    <tr>\n",
       "      <th>...</th>\n",
       "      <td>...</td>\n",
       "      <td>...</td>\n",
       "      <td>...</td>\n",
       "      <td>...</td>\n",
       "      <td>...</td>\n",
       "      <td>...</td>\n",
       "      <td>...</td>\n",
       "      <td>...</td>\n",
       "      <td>...</td>\n",
       "    </tr>\n",
       "    <tr>\n",
       "      <th>1790</th>\n",
       "      <td>Zotter</td>\n",
       "      <td>Peru</td>\n",
       "      <td>647</td>\n",
       "      <td>2011</td>\n",
       "      <td>70%</td>\n",
       "      <td>Austria</td>\n",
       "      <td>3.75</td>\n",
       "      <td>Unknown</td>\n",
       "      <td>Peru</td>\n",
       "    </tr>\n",
       "    <tr>\n",
       "      <th>1791</th>\n",
       "      <td>Zotter</td>\n",
       "      <td>Congo</td>\n",
       "      <td>749</td>\n",
       "      <td>2011</td>\n",
       "      <td>65%</td>\n",
       "      <td>Austria</td>\n",
       "      <td>3.00</td>\n",
       "      <td>Forastero</td>\n",
       "      <td>Congo</td>\n",
       "    </tr>\n",
       "    <tr>\n",
       "      <th>1792</th>\n",
       "      <td>Zotter</td>\n",
       "      <td>Kerala State</td>\n",
       "      <td>749</td>\n",
       "      <td>2011</td>\n",
       "      <td>65%</td>\n",
       "      <td>Austria</td>\n",
       "      <td>3.50</td>\n",
       "      <td>Forastero</td>\n",
       "      <td>India</td>\n",
       "    </tr>\n",
       "    <tr>\n",
       "      <th>1793</th>\n",
       "      <td>Zotter</td>\n",
       "      <td>Kerala State</td>\n",
       "      <td>781</td>\n",
       "      <td>2011</td>\n",
       "      <td>62%</td>\n",
       "      <td>Austria</td>\n",
       "      <td>3.25</td>\n",
       "      <td>Unknown</td>\n",
       "      <td>India</td>\n",
       "    </tr>\n",
       "    <tr>\n",
       "      <th>1794</th>\n",
       "      <td>Zotter</td>\n",
       "      <td>Brazil, Mitzi Blue</td>\n",
       "      <td>486</td>\n",
       "      <td>2010</td>\n",
       "      <td>65%</td>\n",
       "      <td>Austria</td>\n",
       "      <td>3.00</td>\n",
       "      <td>Unknown</td>\n",
       "      <td>Brazil</td>\n",
       "    </tr>\n",
       "  </tbody>\n",
       "</table>\n",
       "<p>1795 rows × 9 columns</p>\n",
       "</div>"
      ],
      "text/plain": [
       "       Company Specific_Bean_Origin_or_Bar_Name   REF  Review_Date  \\\n",
       "0     A. Morin                      Agua Grande  1876         2016   \n",
       "1     A. Morin                            Kpime  1676         2015   \n",
       "2     A. Morin                           Atsane  1676         2015   \n",
       "3     A. Morin                            Akata  1680         2015   \n",
       "4     A. Morin                           Quilla  1704         2015   \n",
       "...        ...                              ...   ...          ...   \n",
       "1790    Zotter                             Peru   647         2011   \n",
       "1791    Zotter                            Congo   749         2011   \n",
       "1792    Zotter                     Kerala State   749         2011   \n",
       "1793    Zotter                     Kerala State   781         2011   \n",
       "1794    Zotter               Brazil, Mitzi Blue   486         2010   \n",
       "\n",
       "     Cocoa_Percent Company_Location  Rating  Bean_Type Broad_Bean_Origin  \n",
       "0              63%           France    3.75    Unknown          Sao Tome  \n",
       "1              70%           France    2.75    Unknown              Togo  \n",
       "2              70%           France    3.00    Unknown              Togo  \n",
       "3              70%           France    3.50    Unknown              Togo  \n",
       "4              70%           France    3.50    Unknown              Peru  \n",
       "...            ...              ...     ...        ...               ...  \n",
       "1790           70%          Austria    3.75    Unknown              Peru  \n",
       "1791           65%          Austria    3.00  Forastero             Congo  \n",
       "1792           65%          Austria    3.50  Forastero             India  \n",
       "1793           62%          Austria    3.25    Unknown             India  \n",
       "1794           65%          Austria    3.00    Unknown            Brazil  \n",
       "\n",
       "[1795 rows x 9 columns]"
      ]
     },
     "execution_count": 11,
     "metadata": {},
     "output_type": "execute_result"
    }
   ],
   "source": [
    "df"
   ]
  },
  {
   "cell_type": "code",
   "execution_count": 12,
   "id": "6681e791-ebf0-4ca4-9947-80af1ef944ee",
   "metadata": {},
   "outputs": [
    {
     "name": "stdout",
     "output_type": "stream",
     "text": [
      "Company                               0\n",
      "Specific_Bean_Origin_or_Bar_Name      0\n",
      "REF                                   0\n",
      "Review_Date                           0\n",
      "Cocoa_Percent                         0\n",
      "Company_Location                      0\n",
      "Rating                                0\n",
      "Bean_Type                           887\n",
      "Broad_Bean_Origin                    73\n",
      "dtype: int64\n"
     ]
    }
   ],
   "source": [
    "# Counting the amount of Unknown\n",
    "unknown_counts = (df == \"Unknown\").sum()\n",
    "# Display the count of \"Unknown\" in each column\n",
    "print(unknown_counts)"
   ]
  },
  {
   "cell_type": "markdown",
   "id": "63f56c1b-9432-4657-86d3-48ff5625ad59",
   "metadata": {},
   "source": [
    "### Bean Type (887) and Broad Bean Origin (73) show NaN values. Which basically means that Bean_Type has almost 49.5% of missing data, so it doesn't make much sense to remove these features, specially because we don't have many features available for these dataset. Therefore, as I previously mentioned, I created a new class called \"Unknown\" to account for the missing data."
   ]
  },
  {
   "cell_type": "code",
   "execution_count": 13,
   "id": "f4edf30c-da33-42a7-bd15-3f5c87e22434",
   "metadata": {},
   "outputs": [
    {
     "data": {
      "image/png": "[encoded data removed]",
      "text/plain": [
       "<Figure size 576x288 with 1 Axes>"
      ]
     },
     "metadata": {
      "needs_background": "light"
     },
     "output_type": "display_data"
    }
   ],
   "source": [
    "bean_type_15 = df.Bean_Type.value_counts().head(10)\n",
    "\n",
    "# Plot histogram using seaborn\n",
    "plt.figure(figsize=(8, 4))\n",
    "ax = sns.barplot(x=bean_type_15.index, y=bean_type_15.values)\n",
    "ax.set(xlabel='Bean Type', ylabel='Frequency', title='Histogram of Bean Types')\n",
    "ax.set_xticklabels(ax.get_xticklabels(), rotation=45, ha='right')  # Rotate x-axis labels for better visibility\n",
    "plt.tight_layout()  # Ensure labels are properly displayed\n",
    "plt.show()  # Show the plot"
   ]
  },
  {
   "cell_type": "code",
   "execution_count": 14,
   "id": "4202fcd0-b9a4-43a4-87d6-c270391cc9c9",
   "metadata": {},
   "outputs": [
    {
     "data": {
      "text/plain": [
       "Company                             0\n",
       "Specific_Bean_Origin_or_Bar_Name    0\n",
       "REF                                 0\n",
       "Review_Date                         0\n",
       "Cocoa_Percent                       0\n",
       "Company_Location                    0\n",
       "Rating                              0\n",
       "Bean_Type                           1\n",
       "Broad_Bean_Origin                   1\n",
       "dtype: int64"
      ]
     },
     "execution_count": 14,
     "metadata": {},
     "output_type": "execute_result"
    }
   ],
   "source": [
    "df.isnull().sum() # BUT there is indeed values marked as NaN or Null still."
   ]
  },
  {
   "cell_type": "code",
   "execution_count": 15,
   "id": "1ac2dc9d-addc-428e-9452-3582d7e7da81",
   "metadata": {},
   "outputs": [],
   "source": [
    "# I could just drop these two rows (if they are different), it would not affect either way the model but \n",
    "# I will replace NaN by Unknown for this feature.\n",
    "df = df.fillna(\"Unknown\")\n",
    "\n",
    "# If I were to drop this line, I would just use this command bellow:\n",
    "#df=df.dropna()"
   ]
  },
  {
   "cell_type": "code",
   "execution_count": 16,
   "id": "c1863224-afc7-4cad-a283-eaeaf5cc061b",
   "metadata": {},
   "outputs": [],
   "source": [
    "df['Cocoa_Percent'] = df['Cocoa_Percent'].str.replace('%', '').astype('float64') # Removing the % symbol from this "
   ]
  },
  {
   "cell_type": "code",
   "execution_count": 17,
   "id": "32ffd1de-04b4-4167-a161-e7f21a34d43f",
   "metadata": {},
   "outputs": [
    {
     "name": "stdout",
     "output_type": "stream",
     "text": [
      "<class 'pandas.core.frame.DataFrame'>\n",
      "RangeIndex: 1795 entries, 0 to 1794\n",
      "Data columns (total 9 columns):\n",
      " #   Column                            Non-Null Count  Dtype  \n",
      "---  ------                            --------------  -----  \n",
      " 0   Company                           1795 non-null   object \n",
      " 1   Specific_Bean_Origin_or_Bar_Name  1795 non-null   object \n",
      " 2   REF                               1795 non-null   int64  \n",
      " 3   Review_Date                       1795 non-null   int64  \n",
      " 4   Cocoa_Percent                     1795 non-null   float64\n",
      " 5   Company_Location                  1795 non-null   object \n",
      " 6   Rating                            1795 non-null   float64\n",
      " 7   Bean_Type                         1795 non-null   object \n",
      " 8   Broad_Bean_Origin                 1795 non-null   object \n",
      "dtypes: float64(2), int64(2), object(5)\n",
      "memory usage: 126.3+ KB\n"
     ]
    }
   ],
   "source": [
    "df.info()"
   ]
  },
  {
   "cell_type": "code",
   "execution_count": 18,
   "id": "43b7faf1-190b-4e02-8bfd-93794ffd8df0",
   "metadata": {},
   "outputs": [
    {
     "data": {
      "text/html": [
       "<div>\n",
       "<style scoped>\n",
       "    .dataframe tbody tr th:only-of-type {\n",
       "        vertical-align: middle;\n",
       "    }\n",
       "\n",
       "    .dataframe tbody tr th {\n",
       "        vertical-align: top;\n",
       "    }\n",
       "\n",
       "    .dataframe thead th {\n",
       "        text-align: right;\n",
       "    }\n",
       "</style>\n",
       "<table border=\"1\" class=\"dataframe\">\n",
       "  <thead>\n",
       "    <tr style=\"text-align: right;\">\n",
       "      <th></th>\n",
       "      <th>Company</th>\n",
       "      <th>Specific_Bean_Origin_or_Bar_Name</th>\n",
       "      <th>REF</th>\n",
       "      <th>Review_Date</th>\n",
       "      <th>Cocoa_Percent</th>\n",
       "      <th>Company_Location</th>\n",
       "      <th>Rating</th>\n",
       "      <th>Bean_Type</th>\n",
       "      <th>Broad_Bean_Origin</th>\n",
       "    </tr>\n",
       "  </thead>\n",
       "  <tbody>\n",
       "    <tr>\n",
       "      <th>0</th>\n",
       "      <td>A. Morin</td>\n",
       "      <td>Agua Grande</td>\n",
       "      <td>1876</td>\n",
       "      <td>2016</td>\n",
       "      <td>63.0</td>\n",
       "      <td>France</td>\n",
       "      <td>3.75</td>\n",
       "      <td>Unknown</td>\n",
       "      <td>Sao Tome</td>\n",
       "    </tr>\n",
       "    <tr>\n",
       "      <th>1</th>\n",
       "      <td>A. Morin</td>\n",
       "      <td>Kpime</td>\n",
       "      <td>1676</td>\n",
       "      <td>2015</td>\n",
       "      <td>70.0</td>\n",
       "      <td>France</td>\n",
       "      <td>2.75</td>\n",
       "      <td>Unknown</td>\n",
       "      <td>Togo</td>\n",
       "    </tr>\n",
       "    <tr>\n",
       "      <th>2</th>\n",
       "      <td>A. Morin</td>\n",
       "      <td>Atsane</td>\n",
       "      <td>1676</td>\n",
       "      <td>2015</td>\n",
       "      <td>70.0</td>\n",
       "      <td>France</td>\n",
       "      <td>3.00</td>\n",
       "      <td>Unknown</td>\n",
       "      <td>Togo</td>\n",
       "    </tr>\n",
       "    <tr>\n",
       "      <th>3</th>\n",
       "      <td>A. Morin</td>\n",
       "      <td>Akata</td>\n",
       "      <td>1680</td>\n",
       "      <td>2015</td>\n",
       "      <td>70.0</td>\n",
       "      <td>France</td>\n",
       "      <td>3.50</td>\n",
       "      <td>Unknown</td>\n",
       "      <td>Togo</td>\n",
       "    </tr>\n",
       "    <tr>\n",
       "      <th>4</th>\n",
       "      <td>A. Morin</td>\n",
       "      <td>Quilla</td>\n",
       "      <td>1704</td>\n",
       "      <td>2015</td>\n",
       "      <td>70.0</td>\n",
       "      <td>France</td>\n",
       "      <td>3.50</td>\n",
       "      <td>Unknown</td>\n",
       "      <td>Peru</td>\n",
       "    </tr>\n",
       "    <tr>\n",
       "      <th>...</th>\n",
       "      <td>...</td>\n",
       "      <td>...</td>\n",
       "      <td>...</td>\n",
       "      <td>...</td>\n",
       "      <td>...</td>\n",
       "      <td>...</td>\n",
       "      <td>...</td>\n",
       "      <td>...</td>\n",
       "      <td>...</td>\n",
       "    </tr>\n",
       "    <tr>\n",
       "      <th>1790</th>\n",
       "      <td>Zotter</td>\n",
       "      <td>Peru</td>\n",
       "      <td>647</td>\n",
       "      <td>2011</td>\n",
       "      <td>70.0</td>\n",
       "      <td>Austria</td>\n",
       "      <td>3.75</td>\n",
       "      <td>Unknown</td>\n",
       "      <td>Peru</td>\n",
       "    </tr>\n",
       "    <tr>\n",
       "      <th>1791</th>\n",
       "      <td>Zotter</td>\n",
       "      <td>Congo</td>\n",
       "      <td>749</td>\n",
       "      <td>2011</td>\n",
       "      <td>65.0</td>\n",
       "      <td>Austria</td>\n",
       "      <td>3.00</td>\n",
       "      <td>Forastero</td>\n",
       "      <td>Congo</td>\n",
       "    </tr>\n",
       "    <tr>\n",
       "      <th>1792</th>\n",
       "      <td>Zotter</td>\n",
       "      <td>Kerala State</td>\n",
       "      <td>749</td>\n",
       "      <td>2011</td>\n",
       "      <td>65.0</td>\n",
       "      <td>Austria</td>\n",
       "      <td>3.50</td>\n",
       "      <td>Forastero</td>\n",
       "      <td>India</td>\n",
       "    </tr>\n",
       "    <tr>\n",
       "      <th>1793</th>\n",
       "      <td>Zotter</td>\n",
       "      <td>Kerala State</td>\n",
       "      <td>781</td>\n",
       "      <td>2011</td>\n",
       "      <td>62.0</td>\n",
       "      <td>Austria</td>\n",
       "      <td>3.25</td>\n",
       "      <td>Unknown</td>\n",
       "      <td>India</td>\n",
       "    </tr>\n",
       "    <tr>\n",
       "      <th>1794</th>\n",
       "      <td>Zotter</td>\n",
       "      <td>Brazil, Mitzi Blue</td>\n",
       "      <td>486</td>\n",
       "      <td>2010</td>\n",
       "      <td>65.0</td>\n",
       "      <td>Austria</td>\n",
       "      <td>3.00</td>\n",
       "      <td>Unknown</td>\n",
       "      <td>Brazil</td>\n",
       "    </tr>\n",
       "  </tbody>\n",
       "</table>\n",
       "<p>1795 rows × 9 columns</p>\n",
       "</div>"
      ],
      "text/plain": [
       "       Company Specific_Bean_Origin_or_Bar_Name   REF  Review_Date  \\\n",
       "0     A. Morin                      Agua Grande  1876         2016   \n",
       "1     A. Morin                            Kpime  1676         2015   \n",
       "2     A. Morin                           Atsane  1676         2015   \n",
       "3     A. Morin                            Akata  1680         2015   \n",
       "4     A. Morin                           Quilla  1704         2015   \n",
       "...        ...                              ...   ...          ...   \n",
       "1790    Zotter                             Peru   647         2011   \n",
       "1791    Zotter                            Congo   749         2011   \n",
       "1792    Zotter                     Kerala State   749         2011   \n",
       "1793    Zotter                     Kerala State   781         2011   \n",
       "1794    Zotter               Brazil, Mitzi Blue   486         2010   \n",
       "\n",
       "      Cocoa_Percent Company_Location  Rating  Bean_Type Broad_Bean_Origin  \n",
       "0              63.0           France    3.75    Unknown          Sao Tome  \n",
       "1              70.0           France    2.75    Unknown              Togo  \n",
       "2              70.0           France    3.00    Unknown              Togo  \n",
       "3              70.0           France    3.50    Unknown              Togo  \n",
       "4              70.0           France    3.50    Unknown              Peru  \n",
       "...             ...              ...     ...        ...               ...  \n",
       "1790           70.0          Austria    3.75    Unknown              Peru  \n",
       "1791           65.0          Austria    3.00  Forastero             Congo  \n",
       "1792           65.0          Austria    3.50  Forastero             India  \n",
       "1793           62.0          Austria    3.25    Unknown             India  \n",
       "1794           65.0          Austria    3.00    Unknown            Brazil  \n",
       "\n",
       "[1795 rows x 9 columns]"
      ]
     },
     "execution_count": 18,
     "metadata": {},
     "output_type": "execute_result"
    }
   ],
   "source": [
    "df"
   ]
  },
  {
   "cell_type": "code",
   "execution_count": 19,
   "id": "df5ff993-9c06-4f0f-8d19-17fa0b32aaba",
   "metadata": {},
   "outputs": [
    {
     "name": "stdout",
     "output_type": "stream",
     "text": [
      "Number of duplicates: 0\n",
      "No duplicates found.\n"
     ]
    }
   ],
   "source": [
    "# Check for duplicates in the DataFrame\n",
    "duplicates = df.duplicated()\n",
    "\n",
    "# Print the number of duplicates found\n",
    "print(\"Number of duplicates:\", duplicates.sum())\n",
    "\n",
    "# Print the duplicate rows, if any\n",
    "if duplicates.any():\n",
    "    duplicate_rows = df[duplicates]\n",
    "    print(\"Duplicate rows:\")\n",
    "    print(duplicate_rows)\n",
    "else:\n",
    "    print(\"No duplicates found.\")"
   ]
  },
  {
   "cell_type": "markdown",
   "id": "426b7b5e-80c1-4766-84be-bc1fff93671e",
   "metadata": {},
   "source": [
    "#### Therefore, this dataset contains no duplicates. "
   ]
  },
  {
   "cell_type": "markdown",
   "id": "71b24239-e9ff-4745-b55f-1d0eaa2eea49",
   "metadata": {},
   "source": [
    "## 2. Data Analysis\n",
    "\n",
    "### The goal of this section here is basically to get some insights on the data, therefore, I want to answer questions like: \n",
    "- What are the best rated companies, countries, cocoa percentage?\n",
    "- Is there a correlation between the features?\n",
    "- What is the relation between years and ratings?"
   ]
  },
  {
   "cell_type": "code",
   "execution_count": 20,
   "id": "d4fbc8fa-5e0b-4d71-a8ea-d8ae76f23dde",
   "metadata": {},
   "outputs": [
    {
     "data": {
      "text/plain": [
       "Company                              416\n",
       "Specific_Bean_Origin_or_Bar_Name    1039\n",
       "REF                                  440\n",
       "Review_Date                           12\n",
       "Cocoa_Percent                         45\n",
       "Company_Location                      60\n",
       "Rating                                13\n",
       "Bean_Type                             41\n",
       "Broad_Bean_Origin                    100\n",
       "dtype: int64"
      ]
     },
     "execution_count": 20,
     "metadata": {},
     "output_type": "execute_result"
    }
   ],
   "source": [
    "df.nunique()"
   ]
  },
  {
   "cell_type": "code",
   "execution_count": 21,
   "id": "e7886102-d7ac-4c8e-9e47-ae2a6bd0d270",
   "metadata": {},
   "outputs": [
    {
     "data": {
      "text/plain": [
       "array([3.75, 2.75, 3.  , 3.5 , 4.  , 3.25, 2.5 , 5.  , 1.75, 1.5 , 2.25,\n",
       "       2.  , 1.  ])"
      ]
     },
     "execution_count": 21,
     "metadata": {},
     "output_type": "execute_result"
    }
   ],
   "source": [
    "# Let's take a look at the data we want to infer/predict: rating\n",
    "df.Rating.unique()"
   ]
  },
  {
   "cell_type": "code",
   "execution_count": 22,
   "id": "910b9bc9-625e-40ee-a22f-60a90f5e8b15",
   "metadata": {},
   "outputs": [
    {
     "data": {
      "text/plain": [
       "3.50    392\n",
       "3.00    341\n",
       "3.25    303\n",
       "2.75    259\n",
       "3.75    210\n",
       "2.50    127\n",
       "4.00     98\n",
       "2.00     32\n",
       "2.25     14\n",
       "1.50     10\n",
       "1.00      4\n",
       "1.75      3\n",
       "5.00      2\n",
       "Name: Rating, dtype: int64"
      ]
     },
     "execution_count": 22,
     "metadata": {},
     "output_type": "execute_result"
    }
   ],
   "source": [
    "df.Rating.value_counts()"
   ]
  },
  {
   "cell_type": "code",
   "execution_count": 23,
   "id": "3861e9a0-9c51-4b6a-9374-fdc64a96baec",
   "metadata": {},
   "outputs": [
    {
     "data": {
      "image/png": "[encoded data removed]",
      "text/plain": [
       "<Figure size 1440x1080 with 4 Axes>"
      ]
     },
     "metadata": {
      "needs_background": "light"
     },
     "output_type": "display_data"
    }
   ],
   "source": [
    "%matplotlib inline\n",
    "df.hist(bins=10,figsize=(20,15))\n",
    "plt.show()"
   ]
  },
  {
   "cell_type": "markdown",
   "id": "9ceb491f-292a-4010-8b78-130ae4260a90",
   "metadata": {},
   "source": [
    "### The distribution of shapes almost follows a gaussian profile with a tail towards low ratings and high Cocoa Percent, for example."
   ]
  },
  {
   "cell_type": "code",
   "execution_count": 24,
   "id": "181c7e4d-331d-4dba-a71b-dbcc15d71d83",
   "metadata": {},
   "outputs": [
    {
     "data": {
      "text/plain": [
       "<AxesSubplot:ylabel='Cocoa_Percent'>"
      ]
     },
     "execution_count": 24,
     "metadata": {},
     "output_type": "execute_result"
    },
    {
     "data": {
      "image/png": "[encoded data removed]",
      "text/plain": [
       "<Figure size 720x288 with 2 Axes>"
      ]
     },
     "metadata": {
      "needs_background": "light"
     },
     "output_type": "display_data"
    }
   ],
   "source": [
    "f, axes = plt.subplots(ncols=2, figsize=(10,4))\n",
    "\n",
    "# Negative Correlations with our Class (The lower our feature value the more likely it will be a fraud transaction)\n",
    "sns.boxplot(y=\"Rating\", data=df, ax=axes[0])\n",
    "sns.boxplot(y=\"Cocoa_Percent\", data=df, ax=axes[1])"
   ]
  },
  {
   "cell_type": "markdown",
   "id": "f6959873-58f4-4c7a-b247-8b43a3827010",
   "metadata": {},
   "source": [
    "#### There are few outliers in the Rating and cocoa_percent as can be seen above. \n",
    "#### Moreover, what is the relation between Cocoa Percentage and Rating? What is the favorite percentage of Cocoa from people according to the ratings?"
   ]
  },
  {
   "cell_type": "code",
   "execution_count": 25,
   "id": "6e3a27ac-c80d-447c-97db-9abba46a0ebe",
   "metadata": {},
   "outputs": [
    {
     "data": {
      "image/png": "[encoded data removed]",
      "text/plain": [
       "<Figure size 1080x216 with 2 Axes>"
      ]
     },
     "metadata": {
      "needs_background": "light"
     },
     "output_type": "display_data"
    }
   ],
   "source": [
    "fig, ax = plt.subplots(1, 2, figsize=(15,3))\n",
    "\n",
    "# Distribution of Cocoa Percentage histogram\n",
    "sns.histplot(df.Cocoa_Percent, kde=False, color=\"brown\", ax=ax[0])\n",
    "ax[0].set_xlabel(\"% of Cocoa\")\n",
    "ax[0].set_ylabel(\"Frequency\")\n",
    "ax[0].set_title(\"Distribution of Cocoa Percentage\")\n",
    "\n",
    "# Cocoa Percentage vs Rating\n",
    "sns.violinplot(x=df.Rating, y=df.Cocoa_Percent, ax=ax[1], palette=\"Reds\")\n",
    "ax[1].set_ylabel(\"% of Cocoa\")\n",
    "ax[1].set_xlabel(\"Rating\")\n",
    "ax[1].set_title(\"Cocoa Percentage vs. Rating of Chocolate bar\")\n",
    "plt.show()"
   ]
  },
  {
   "cell_type": "markdown",
   "id": "6a232c35-1c43-4e49-a943-d9a3ab6f54c7",
   "metadata": {},
   "source": [
    "#### Importants results: Most of the chocolate from this data base is contains around 70% of Cocoa, and we can also see that they are the highest ratings are also towards this percentage of Cocoa."
   ]
  },
  {
   "cell_type": "markdown",
   "id": "b2459f3f-e326-4eea-a319-c00cb5239e27",
   "metadata": {},
   "source": [
    "#### Let's check whether there is a relation between the dates and the Ratings, for instance, if the ratings increased by year or where they are most concentrated."
   ]
  },
  {
   "cell_type": "code",
   "execution_count": 26,
   "id": "24d66586-bb18-4de3-a5f3-bbf497bc2c00",
   "metadata": {},
   "outputs": [
    {
     "data": {
      "text/plain": [
       "<seaborn.axisgrid.JointGrid at 0x7f9f792d0ba8>"
      ]
     },
     "execution_count": 26,
     "metadata": {},
     "output_type": "execute_result"
    },
    {
     "data": {
      "image/png": "[encoded data removed]",
      "text/plain": [
       "<Figure size 432x432 with 3 Axes>"
      ]
     },
     "metadata": {
      "needs_background": "light"
     },
     "output_type": "display_data"
    }
   ],
   "source": [
    "sns.jointplot(x='Rating',y='Review_Date', data=df, color='blue',kind='kde')"
   ]
  },
  {
   "cell_type": "markdown",
   "id": "2ba35d7d-5442-4d3d-b470-f8b2c451328f",
   "metadata": {},
   "source": [
    "#### Ratings did not increase by year, but the majority of ratings 3.0-3.5 were given around 2014 and 2016. Curiously, there is a window from 2006 to 2008 that shows a good amount of ratings 2."
   ]
  },
  {
   "cell_type": "markdown",
   "id": "946f5c3a-9eca-4d90-ab0e-793e88bff323",
   "metadata": {},
   "source": [
    "#### Let's now take a look at the companies that produce these chocolate bars. "
   ]
  },
  {
   "cell_type": "code",
   "execution_count": 27,
   "id": "0a9b83af-a139-453d-9ea9-92ad7bd7ae5b",
   "metadata": {},
   "outputs": [
    {
     "data": {
      "text/plain": [
       "Soma                                   47\n",
       "Bonnat                                 27\n",
       "Fresco                                 26\n",
       "Pralus                                 25\n",
       "A. Morin                               23\n",
       "                                       ..\n",
       "Friis Holm                              1\n",
       "Oakland Chocolate Co.                   1\n",
       "Artisan du Chocolat (Casa Luker)        1\n",
       "Heirloom Cacao Preservation (Mindo)     1\n",
       "Chuao Chocolatier (Pralus)              1\n",
       "Name: Company, Length: 416, dtype: int64"
      ]
     },
     "execution_count": 27,
     "metadata": {},
     "output_type": "execute_result"
    }
   ],
   "source": [
    "# Let's take a look at the companies\n",
    "df.Company.value_counts() # Let's also remember that we have 416 unique companies in this dataset\n",
    "\n",
    "# Natural question emerge: what are the best rated companies?"
   ]
  },
  {
   "cell_type": "code",
   "execution_count": 28,
   "id": "28d58986-7aac-4275-bd7a-b57a9771aeb9",
   "metadata": {},
   "outputs": [
    {
     "data": {
      "text/plain": [
       "Company\n",
       "Tobago Estate (Pralus)                  4.000\n",
       "Heirloom Cacao Preservation (Zokoko)    3.875\n",
       "Ocelot                                  3.875\n",
       "Amedei                                  3.846\n",
       "Matale                                  3.812\n",
       "                                        ...  \n",
       "Jacque Torres                           2.000\n",
       "Love Bar                                2.000\n",
       "Callebaut                               1.875\n",
       "Machu Picchu Trading Co.                1.875\n",
       "Cote d' Or (Kraft)                      1.000\n",
       "Name: Rating, Length: 416, dtype: float64"
      ]
     },
     "execution_count": 28,
     "metadata": {},
     "output_type": "execute_result"
    }
   ],
   "source": [
    "# First we have to group by the Company, compute the average Rating\n",
    "companies = df.groupby('Company').mean()['Rating']\n",
    "companies.sort_values(ascending = False).round(3)"
   ]
  },
  {
   "cell_type": "code",
   "execution_count": 29,
   "id": "473e0cbb-1664-469f-8b20-8bfd0c0509a1",
   "metadata": {},
   "outputs": [
    {
     "data": {
      "text/plain": [
       "<AxesSubplot:title={'center':'Companies with higher ratings'}, ylabel='Company'>"
      ]
     },
     "execution_count": 29,
     "metadata": {},
     "output_type": "execute_result"
    },
    {
     "data": {
      "image/png": "[encoded data removed]",
      "text/plain": [
       "<Figure size 720x360 with 1 Axes>"
      ]
     },
     "metadata": {
      "needs_background": "light"
     },
     "output_type": "display_data"
    }
   ],
   "source": [
    "company_list = companies.sort_values(ascending=False).round(3).head(15)\n",
    "company_list.index\n",
    "company_list.plot(kind = 'barh', figsize = (10, 5),title = 'Companies with higher ratings',color='brown')"
   ]
  },
  {
   "cell_type": "code",
   "execution_count": 30,
   "id": "6cde9bdd-937d-441a-93b3-4f21b51b3a93",
   "metadata": {},
   "outputs": [
    {
     "data": {
      "text/plain": [
       "Index(['Tobago Estate (Pralus)', 'Heirloom Cacao Preservation (Zokoko)',\n",
       "       'Ocelot', 'Amedei', 'Matale', 'Patric', 'Idilio (Felchlin)',\n",
       "       'Timo A. Meyer', 'Christopher Morel (Felchlin)', 'Chocola'te', 'Obolo',\n",
       "       'Un Dimanche A Paris', 'Kerchner', 'Dole (Guittard)', 'Acalli'],\n",
       "      dtype='object', name='Company')"
      ]
     },
     "execution_count": 30,
     "metadata": {},
     "output_type": "execute_result"
    }
   ],
   "source": [
    "company_list.index"
   ]
  },
  {
   "cell_type": "code",
   "execution_count": 31,
   "id": "1c9fa74c-74de-4385-8696-39f3a35e8393",
   "metadata": {},
   "outputs": [],
   "source": [
    "top_15_companies = list(company_list.index)"
   ]
  },
  {
   "cell_type": "code",
   "execution_count": 32,
   "id": "3d3e7568-2490-4776-ac77-700af8ec6581",
   "metadata": {},
   "outputs": [
    {
     "data": {
      "text/plain": [
       "(49, 9)"
      ]
     },
     "execution_count": 32,
     "metadata": {},
     "output_type": "execute_result"
    }
   ],
   "source": [
    "df.query('Company in @top_15_companies')\n",
    "best_companies= df.query('Company in @top_15_companies')\n",
    "best_companies.shape"
   ]
  },
  {
   "cell_type": "code",
   "execution_count": 33,
   "id": "4e9ed4a0-e7cf-4d16-b0b4-6510d497c962",
   "metadata": {},
   "outputs": [
    {
     "data": {
      "text/plain": [
       "Company_Location\n",
       "U.S.A.         6\n",
       "France         2\n",
       "Switzerland    1\n",
       "Scotland       1\n",
       "Italy          1\n",
       "Germany        1\n",
       "Chile          1\n",
       "Canada         1\n",
       "Australia      1\n",
       "Name: Company, dtype: int64"
      ]
     },
     "execution_count": 33,
     "metadata": {},
     "output_type": "execute_result"
    }
   ],
   "source": [
    "best_companies.groupby('Company_Location')['Company'].nunique().sort_values(ascending = False)"
   ]
  },
  {
   "cell_type": "markdown",
   "id": "041822c9-61a8-4967-8048-a2d71f096ce9",
   "metadata": {},
   "source": [
    "#### Countries with the highest ratings are those listed above. In particular, the USA has 6 companies among the 15 with the highest ratings."
   ]
  },
  {
   "cell_type": "code",
   "execution_count": 34,
   "id": "c402a144-c432-44a5-864a-09825c6a108e",
   "metadata": {},
   "outputs": [
    {
     "data": {
      "text/plain": [
       "70.0    24\n",
       "72.0    11\n",
       "68.0     4\n",
       "75.0     3\n",
       "67.0     2\n",
       "74.0     2\n",
       "63.0     2\n",
       "66.0     1\n",
       "Name: Cocoa_Percent, dtype: int64"
      ]
     },
     "execution_count": 34,
     "metadata": {},
     "output_type": "execute_result"
    }
   ],
   "source": [
    "best_companies.Cocoa_Percent.value_counts()"
   ]
  },
  {
   "cell_type": "markdown",
   "id": "a02b707e-8f7f-447d-8789-65d5cb1f240e",
   "metadata": {},
   "source": [
    "#### That's just a confirmation on what we discussed earlier, the best rated Chocolates are mainly the ones with 70% and 72% of Cocoa, even for these top companies."
   ]
  },
  {
   "cell_type": "code",
   "execution_count": 35,
   "id": "b8a22b84-ceb6-4f2e-a108-b6ecc7902fbd",
   "metadata": {},
   "outputs": [
    {
     "data": {
      "text/plain": [
       "Trinitario                  17\n",
       "Criollo                     10\n",
       "Unknown                      9\n",
       "Blend                        5\n",
       "Trinitario (85% Criollo)     2\n",
       "Amazon, ICS                  1\n",
       "Beniano                      1\n",
       "Trinitario, TCGA             1\n",
       "Criollo (Porcelana)          1\n",
       "Forastero (Nacional)         1\n",
       "Forastero                    1\n",
       "Name: Bean_Type, dtype: int64"
      ]
     },
     "execution_count": 35,
     "metadata": {},
     "output_type": "execute_result"
    }
   ],
   "source": [
    "best_companies.Bean_Type.value_counts()"
   ]
  },
  {
   "cell_type": "markdown",
   "id": "85e08df2-0c7a-4aa0-92a0-4676c5fe578f",
   "metadata": {},
   "source": [
    "#### Furthermore: the best rated Chocolates are made mainly from beans known as Trinitario and Criollo"
   ]
  },
  {
   "cell_type": "code",
   "execution_count": null,
   "id": "1755105d-8cbe-492d-990e-dfba556ab59e",
   "metadata": {},
   "outputs": [],
   "source": [
    "best_companies.Broad_Bean_Origin.value_counts()"
   ]
  },
  {
   "cell_type": "markdown",
   "id": "cb18258c-68ce-4927-96a1-bab5c0da6a00",
   "metadata": {},
   "source": [
    "#### Bean Origin from the chocolate with best ratings is by far from Venezuela."
   ]
  },
  {
   "cell_type": "code",
   "execution_count": 37,
   "id": "00698502-781f-4714-acee-ef8d275fb7c0",
   "metadata": {},
   "outputs": [
    {
     "data": {
      "text/plain": [
       "Amedei                                  13\n",
       "Idilio (Felchlin)                       10\n",
       "Patric                                   6\n",
       "Matale                                   4\n",
       "Ocelot                                   2\n",
       "Obolo                                    2\n",
       "Chocola'te                               2\n",
       "Heirloom Cacao Preservation (Zokoko)     2\n",
       "Acalli                                   2\n",
       "Timo A. Meyer                            1\n",
       "Tobago Estate (Pralus)                   1\n",
       "Un Dimanche A Paris                      1\n",
       "Dole (Guittard)                          1\n",
       "Christopher Morel (Felchlin)             1\n",
       "Kerchner                                 1\n",
       "Name: Company, dtype: int64"
      ]
     },
     "execution_count": 37,
     "metadata": {},
     "output_type": "execute_result"
    }
   ],
   "source": [
    "best_companies.Company.value_counts()"
   ]
  },
  {
   "cell_type": "code",
   "execution_count": 38,
   "id": "1dba6f39-5ea2-4a25-8902-eb741e3e82f5",
   "metadata": {},
   "outputs": [
    {
     "data": {
      "image/png": "[encoded data removed]",
      "text/plain": [
       "<Figure size 432x288 with 1 Axes>"
      ]
     },
     "metadata": {
      "needs_background": "light"
     },
     "output_type": "display_data"
    }
   ],
   "source": [
    "sns.boxplot(x='Company',y='Rating',data=df.query('Company==(\"Amedei\",\"Idilio (Felchlin)\",\"Patric\",\"Matale\")'));"
   ]
  },
  {
   "cell_type": "markdown",
   "id": "3cf7c18a-73c6-4239-9d26-21aae15887ee",
   "metadata": {},
   "source": [
    "#### Companies with the best ratings are Amedei and Idilio (Felchlin). One of the outliers (rating 5) is on Amedei."
   ]
  },
  {
   "cell_type": "markdown",
   "id": "b202d067-fbab-4ebe-a985-01b9d8c62f80",
   "metadata": {},
   "source": [
    "### Outliers analysis on Rating and Cocoa Percentage"
   ]
  },
  {
   "cell_type": "code",
   "execution_count": 39,
   "id": "eedb3d25-7624-477a-906d-414dfa6be361",
   "metadata": {},
   "outputs": [
    {
     "data": {
      "text/html": [
       "<div>\n",
       "<style scoped>\n",
       "    .dataframe tbody tr th:only-of-type {\n",
       "        vertical-align: middle;\n",
       "    }\n",
       "\n",
       "    .dataframe tbody tr th {\n",
       "        vertical-align: top;\n",
       "    }\n",
       "\n",
       "    .dataframe thead th {\n",
       "        text-align: right;\n",
       "    }\n",
       "</style>\n",
       "<table border=\"1\" class=\"dataframe\">\n",
       "  <thead>\n",
       "    <tr style=\"text-align: right;\">\n",
       "      <th></th>\n",
       "      <th>Company</th>\n",
       "      <th>Specific_Bean_Origin_or_Bar_Name</th>\n",
       "      <th>REF</th>\n",
       "      <th>Review_Date</th>\n",
       "      <th>Cocoa_Percent</th>\n",
       "      <th>Company_Location</th>\n",
       "      <th>Rating</th>\n",
       "      <th>Bean_Type</th>\n",
       "      <th>Broad_Bean_Origin</th>\n",
       "    </tr>\n",
       "  </thead>\n",
       "  <tbody>\n",
       "    <tr>\n",
       "      <th>78</th>\n",
       "      <td>Amedei</td>\n",
       "      <td>Chuao</td>\n",
       "      <td>111</td>\n",
       "      <td>2007</td>\n",
       "      <td>70.0</td>\n",
       "      <td>Italy</td>\n",
       "      <td>5.0</td>\n",
       "      <td>Trinitario</td>\n",
       "      <td>Venezuela</td>\n",
       "    </tr>\n",
       "    <tr>\n",
       "      <th>86</th>\n",
       "      <td>Amedei</td>\n",
       "      <td>Toscano Black</td>\n",
       "      <td>40</td>\n",
       "      <td>2006</td>\n",
       "      <td>70.0</td>\n",
       "      <td>Italy</td>\n",
       "      <td>5.0</td>\n",
       "      <td>Blend</td>\n",
       "      <td>Unknown</td>\n",
       "    </tr>\n",
       "  </tbody>\n",
       "</table>\n",
       "</div>"
      ],
      "text/plain": [
       "   Company Specific_Bean_Origin_or_Bar_Name  REF  Review_Date  Cocoa_Percent  \\\n",
       "78  Amedei                            Chuao  111         2007           70.0   \n",
       "86  Amedei                    Toscano Black   40         2006           70.0   \n",
       "\n",
       "   Company_Location  Rating   Bean_Type Broad_Bean_Origin  \n",
       "78            Italy     5.0  Trinitario         Venezuela  \n",
       "86            Italy     5.0       Blend           Unknown  "
      ]
     },
     "execution_count": 39,
     "metadata": {},
     "output_type": "execute_result"
    }
   ],
   "source": [
    "# How many data we have that shows very high Rating?\n",
    "df[df['Rating']>4.0]"
   ]
  },
  {
   "cell_type": "markdown",
   "id": "0be39455-c241-4a63-9826-04e4b5db0c2c",
   "metadata": {},
   "source": [
    "#### People like Amedei. Do remember that Amedei has 13 ratings and 2 of them are the highest. Interesting!"
   ]
  },
  {
   "cell_type": "code",
   "execution_count": 40,
   "id": "bb521ff4-50b2-42c7-a58d-9182b2f12a59",
   "metadata": {},
   "outputs": [
    {
     "data": {
      "text/html": [
       "<div>\n",
       "<style scoped>\n",
       "    .dataframe tbody tr th:only-of-type {\n",
       "        vertical-align: middle;\n",
       "    }\n",
       "\n",
       "    .dataframe tbody tr th {\n",
       "        vertical-align: top;\n",
       "    }\n",
       "\n",
       "    .dataframe thead th {\n",
       "        text-align: right;\n",
       "    }\n",
       "</style>\n",
       "<table border=\"1\" class=\"dataframe\">\n",
       "  <thead>\n",
       "    <tr style=\"text-align: right;\">\n",
       "      <th></th>\n",
       "      <th>Company</th>\n",
       "      <th>Specific_Bean_Origin_or_Bar_Name</th>\n",
       "      <th>REF</th>\n",
       "      <th>Review_Date</th>\n",
       "      <th>Cocoa_Percent</th>\n",
       "      <th>Company_Location</th>\n",
       "      <th>Rating</th>\n",
       "      <th>Bean_Type</th>\n",
       "      <th>Broad_Bean_Origin</th>\n",
       "    </tr>\n",
       "  </thead>\n",
       "  <tbody>\n",
       "    <tr>\n",
       "      <th>326</th>\n",
       "      <td>Callebaut</td>\n",
       "      <td>Baking</td>\n",
       "      <td>141</td>\n",
       "      <td>2007</td>\n",
       "      <td>70.0</td>\n",
       "      <td>Belgium</td>\n",
       "      <td>1.0</td>\n",
       "      <td>Unknown</td>\n",
       "      <td>Ecuador</td>\n",
       "    </tr>\n",
       "    <tr>\n",
       "      <th>437</th>\n",
       "      <td>Claudio Corallo</td>\n",
       "      <td>Principe</td>\n",
       "      <td>252</td>\n",
       "      <td>2008</td>\n",
       "      <td>100.0</td>\n",
       "      <td>Sao Tome</td>\n",
       "      <td>1.0</td>\n",
       "      <td>Forastero</td>\n",
       "      <td>Sao Tome &amp; Principe</td>\n",
       "    </tr>\n",
       "    <tr>\n",
       "      <th>465</th>\n",
       "      <td>Cote d' Or (Kraft)</td>\n",
       "      <td>Sensations Intense</td>\n",
       "      <td>48</td>\n",
       "      <td>2006</td>\n",
       "      <td>70.0</td>\n",
       "      <td>Belgium</td>\n",
       "      <td>1.0</td>\n",
       "      <td>Unknown</td>\n",
       "      <td>Unknown</td>\n",
       "    </tr>\n",
       "    <tr>\n",
       "      <th>1175</th>\n",
       "      <td>Neuhaus (Callebaut)</td>\n",
       "      <td>Dark</td>\n",
       "      <td>135</td>\n",
       "      <td>2007</td>\n",
       "      <td>73.0</td>\n",
       "      <td>Belgium</td>\n",
       "      <td>1.0</td>\n",
       "      <td>Unknown</td>\n",
       "      <td>Unknown</td>\n",
       "    </tr>\n",
       "  </tbody>\n",
       "</table>\n",
       "</div>"
      ],
      "text/plain": [
       "                  Company Specific_Bean_Origin_or_Bar_Name  REF  Review_Date  \\\n",
       "326             Callebaut                           Baking  141         2007   \n",
       "437       Claudio Corallo                         Principe  252         2008   \n",
       "465    Cote d' Or (Kraft)               Sensations Intense   48         2006   \n",
       "1175  Neuhaus (Callebaut)                             Dark  135         2007   \n",
       "\n",
       "      Cocoa_Percent Company_Location  Rating  Bean_Type    Broad_Bean_Origin  \n",
       "326            70.0          Belgium     1.0    Unknown              Ecuador  \n",
       "437           100.0         Sao Tome     1.0  Forastero  Sao Tome & Principe  \n",
       "465            70.0          Belgium     1.0    Unknown              Unknown  \n",
       "1175           73.0          Belgium     1.0    Unknown              Unknown  "
      ]
     },
     "execution_count": 40,
     "metadata": {},
     "output_type": "execute_result"
    }
   ],
   "source": [
    "# How many data we have that shows very low Rating?\n",
    "df[df['Rating']<1.5]"
   ]
  },
  {
   "cell_type": "markdown",
   "id": "0fd499b9-ac29-4667-a42e-d604ea30df27",
   "metadata": {},
   "source": [
    "#### I found funny that 3 of the 4 lowest ratings are from Belgium, even though Belgium chocolates are well known worldwide. Also, surprisingly, they have Cocoa Percentage of 70% which usually shows the highest ratings."
   ]
  },
  {
   "cell_type": "markdown",
   "id": "b0e4d581-d3d7-47b2-ad61-794f842aee5d",
   "metadata": {},
   "source": [
    "#### I believe this Data Analysis part gave us some nice insights on the data and what the outliers are. Now, let's move on to the part that we have to get concern before modelling this data. It is important to see whether there are features correlated or not."
   ]
  },
  {
   "cell_type": "code",
   "execution_count": 41,
   "id": "b01d0559-3549-404b-8383-1e1fbcfe3394",
   "metadata": {},
   "outputs": [
    {
     "data": {
      "text/html": [
       "<div>\n",
       "<style scoped>\n",
       "    .dataframe tbody tr th:only-of-type {\n",
       "        vertical-align: middle;\n",
       "    }\n",
       "\n",
       "    .dataframe tbody tr th {\n",
       "        vertical-align: top;\n",
       "    }\n",
       "\n",
       "    .dataframe thead th {\n",
       "        text-align: right;\n",
       "    }\n",
       "</style>\n",
       "<table border=\"1\" class=\"dataframe\">\n",
       "  <thead>\n",
       "    <tr style=\"text-align: right;\">\n",
       "      <th></th>\n",
       "      <th>REF</th>\n",
       "      <th>Review_Date</th>\n",
       "      <th>Cocoa_Percent</th>\n",
       "      <th>Rating</th>\n",
       "    </tr>\n",
       "  </thead>\n",
       "  <tbody>\n",
       "    <tr>\n",
       "      <th>REF</th>\n",
       "      <td>1.000000</td>\n",
       "      <td>0.985076</td>\n",
       "      <td>0.037791</td>\n",
       "      <td>0.101030</td>\n",
       "    </tr>\n",
       "    <tr>\n",
       "      <th>Review_Date</th>\n",
       "      <td>0.985076</td>\n",
       "      <td>1.000000</td>\n",
       "      <td>0.038177</td>\n",
       "      <td>0.099846</td>\n",
       "    </tr>\n",
       "    <tr>\n",
       "      <th>Cocoa_Percent</th>\n",
       "      <td>0.037791</td>\n",
       "      <td>0.038177</td>\n",
       "      <td>1.000000</td>\n",
       "      <td>-0.164820</td>\n",
       "    </tr>\n",
       "    <tr>\n",
       "      <th>Rating</th>\n",
       "      <td>0.101030</td>\n",
       "      <td>0.099846</td>\n",
       "      <td>-0.164820</td>\n",
       "      <td>1.000000</td>\n",
       "    </tr>\n",
       "  </tbody>\n",
       "</table>\n",
       "</div>"
      ],
      "text/plain": [
       "                    REF  Review_Date  Cocoa_Percent    Rating\n",
       "REF            1.000000     0.985076       0.037791  0.101030\n",
       "Review_Date    0.985076     1.000000       0.038177  0.099846\n",
       "Cocoa_Percent  0.037791     0.038177       1.000000 -0.164820\n",
       "Rating         0.101030     0.099846      -0.164820  1.000000"
      ]
     },
     "execution_count": 41,
     "metadata": {},
     "output_type": "execute_result"
    }
   ],
   "source": [
    "corr = df.corr()\n",
    "corr"
   ]
  },
  {
   "cell_type": "code",
   "execution_count": 42,
   "id": "f2d761ac-0779-4f6a-9229-3596b5155c4d",
   "metadata": {},
   "outputs": [
    {
     "data": {
      "text/plain": [
       "Rating           1.000000\n",
       "REF              0.101030\n",
       "Review_Date      0.099846\n",
       "Cocoa_Percent   -0.164820\n",
       "Name: Rating, dtype: float64"
      ]
     },
     "execution_count": 42,
     "metadata": {},
     "output_type": "execute_result"
    }
   ],
   "source": [
    "corr[\"Rating\"].sort_values(ascending=False)"
   ]
  },
  {
   "cell_type": "markdown",
   "id": "2a1adf20-9b12-485c-a83e-a0b1ae7eac92",
   "metadata": {},
   "source": [
    "#### There is a small anti-correlation with the Cocoa_Percent feature (only -0.16). "
   ]
  },
  {
   "cell_type": "code",
   "execution_count": 43,
   "id": "60846357-8dc8-4acc-82a1-0e8086c4cd99",
   "metadata": {},
   "outputs": [
    {
     "data": {
      "text/plain": [
       "Text(0.5, 1.0, 'Correlation Map')"
      ]
     },
     "execution_count": 43,
     "metadata": {},
     "output_type": "execute_result"
    },
    {
     "data": {
      "image/png": "[encoded data removed]",
      "text/plain": [
       "<Figure size 432x288 with 2 Axes>"
      ]
     },
     "metadata": {
      "needs_background": "light"
     },
     "output_type": "display_data"
    }
   ],
   "source": [
    "sns.heatmap(df.corr(), linewidths=0.1, vmax=1.0, square=True, cmap='coolwarm', linecolor='white', annot=True).set_title(\"Correlation Map\")"
   ]
  },
  {
   "cell_type": "markdown",
   "id": "f462667a-6cb3-4bae-8184-af6f35ad13c5",
   "metadata": {},
   "source": [
    "#### Also, we can see a high correlation between REF and Review Date, which, in my interpretation is very much expected. We can perhaps do some feature engineering to work on them."
   ]
  },
  {
   "cell_type": "markdown",
   "id": "bdc33ff6-63cc-4f1c-926c-b0ccc2a2288c",
   "metadata": {},
   "source": [
    "### <b>3. Feature Engineering</b>"
   ]
  },
  {
   "cell_type": "markdown",
   "id": "9f532285-8888-419f-b638-a90f91004967",
   "metadata": {},
   "source": [
    "#### Based on the information we observed, the features \"REF\" and \"Review_Date\" have a Pearson correlation coefficient of 0.99. A correlation coefficient of 0.99 indicates a very strong positive linear relationship between the two features.\n",
    "\n",
    "#### Since the correlation between these features is very high, it suggests that they provide similar information and may be redundant in our analysis here. In such cases, it is better to perform feature engineering to reduce multicollinearity and improve the model's performance."
   ]
  },
  {
   "cell_type": "markdown",
   "id": "7da63c3a-dd05-4e0e-b4a7-47c91086f51f",
   "metadata": {},
   "source": [
    "#### What I am doing here:\n",
    "- Instead of using the exact values of \"REF\" and \"Review_Date\", I will extract more meaningful information from them. I will try to derive new features such as the year from the \"Review_Date\" or calculate the time difference between the review date and a reference date. These new features may provide more valuable insights to our model in the future."
   ]
  },
  {
   "cell_type": "code",
   "execution_count": 44,
   "id": "18e157d4-b029-4d2b-b3f3-3420f369f16d",
   "metadata": {},
   "outputs": [],
   "source": [
    "def time_diff(df):\n",
    "    # Convert 'Review_Date' column to datetime\n",
    "    df['Review_Date'] = pd.to_datetime(df['Review_Date'], format='%Y')\n",
    "\n",
    "    # Here I am defining a reference date\n",
    "    reference_date = pd.to_datetime('2000', format='%Y')\n",
    "\n",
    "    # Creating a new feature 'Time_Difference' as the time difference between 'Review_Date' and the reference date\n",
    "    df['Time_Difference'] = (df['Review_Date'] - reference_date).dt.total_seconds() / (60 * 60 * 24 * 365.25)\n",
    "\n",
    "    # Drop the original 'REF' and 'Review_Date' columns as they are now redudant\n",
    "    df = df.drop(['REF', 'Review_Date'], axis=1)\n",
    "    return df\n",
    "df=time_diff(df)"
   ]
  },
  {
   "cell_type": "code",
   "execution_count": 45,
   "id": "a509e70b-2581-46bd-a038-fb25a2c2b810",
   "metadata": {},
   "outputs": [
    {
     "data": {
      "text/html": [
       "<div>\n",
       "<style scoped>\n",
       "    .dataframe tbody tr th:only-of-type {\n",
       "        vertical-align: middle;\n",
       "    }\n",
       "\n",
       "    .dataframe tbody tr th {\n",
       "        vertical-align: top;\n",
       "    }\n",
       "\n",
       "    .dataframe thead th {\n",
       "        text-align: right;\n",
       "    }\n",
       "</style>\n",
       "<table border=\"1\" class=\"dataframe\">\n",
       "  <thead>\n",
       "    <tr style=\"text-align: right;\">\n",
       "      <th></th>\n",
       "      <th>Company</th>\n",
       "      <th>Specific_Bean_Origin_or_Bar_Name</th>\n",
       "      <th>Cocoa_Percent</th>\n",
       "      <th>Company_Location</th>\n",
       "      <th>Rating</th>\n",
       "      <th>Bean_Type</th>\n",
       "      <th>Broad_Bean_Origin</th>\n",
       "      <th>Time_Difference</th>\n",
       "    </tr>\n",
       "  </thead>\n",
       "  <tbody>\n",
       "    <tr>\n",
       "      <th>0</th>\n",
       "      <td>A. Morin</td>\n",
       "      <td>Agua Grande</td>\n",
       "      <td>63.0</td>\n",
       "      <td>France</td>\n",
       "      <td>3.75</td>\n",
       "      <td>Unknown</td>\n",
       "      <td>Sao Tome</td>\n",
       "      <td>16.000000</td>\n",
       "    </tr>\n",
       "    <tr>\n",
       "      <th>1</th>\n",
       "      <td>A. Morin</td>\n",
       "      <td>Kpime</td>\n",
       "      <td>70.0</td>\n",
       "      <td>France</td>\n",
       "      <td>2.75</td>\n",
       "      <td>Unknown</td>\n",
       "      <td>Togo</td>\n",
       "      <td>15.000684</td>\n",
       "    </tr>\n",
       "    <tr>\n",
       "      <th>2</th>\n",
       "      <td>A. Morin</td>\n",
       "      <td>Atsane</td>\n",
       "      <td>70.0</td>\n",
       "      <td>France</td>\n",
       "      <td>3.00</td>\n",
       "      <td>Unknown</td>\n",
       "      <td>Togo</td>\n",
       "      <td>15.000684</td>\n",
       "    </tr>\n",
       "    <tr>\n",
       "      <th>3</th>\n",
       "      <td>A. Morin</td>\n",
       "      <td>Akata</td>\n",
       "      <td>70.0</td>\n",
       "      <td>France</td>\n",
       "      <td>3.50</td>\n",
       "      <td>Unknown</td>\n",
       "      <td>Togo</td>\n",
       "      <td>15.000684</td>\n",
       "    </tr>\n",
       "    <tr>\n",
       "      <th>4</th>\n",
       "      <td>A. Morin</td>\n",
       "      <td>Quilla</td>\n",
       "      <td>70.0</td>\n",
       "      <td>France</td>\n",
       "      <td>3.50</td>\n",
       "      <td>Unknown</td>\n",
       "      <td>Peru</td>\n",
       "      <td>15.000684</td>\n",
       "    </tr>\n",
       "    <tr>\n",
       "      <th>...</th>\n",
       "      <td>...</td>\n",
       "      <td>...</td>\n",
       "      <td>...</td>\n",
       "      <td>...</td>\n",
       "      <td>...</td>\n",
       "      <td>...</td>\n",
       "      <td>...</td>\n",
       "      <td>...</td>\n",
       "    </tr>\n",
       "    <tr>\n",
       "      <th>1790</th>\n",
       "      <td>Zotter</td>\n",
       "      <td>Peru</td>\n",
       "      <td>70.0</td>\n",
       "      <td>Austria</td>\n",
       "      <td>3.75</td>\n",
       "      <td>Unknown</td>\n",
       "      <td>Peru</td>\n",
       "      <td>11.000684</td>\n",
       "    </tr>\n",
       "    <tr>\n",
       "      <th>1791</th>\n",
       "      <td>Zotter</td>\n",
       "      <td>Congo</td>\n",
       "      <td>65.0</td>\n",
       "      <td>Austria</td>\n",
       "      <td>3.00</td>\n",
       "      <td>Forastero</td>\n",
       "      <td>Congo</td>\n",
       "      <td>11.000684</td>\n",
       "    </tr>\n",
       "    <tr>\n",
       "      <th>1792</th>\n",
       "      <td>Zotter</td>\n",
       "      <td>Kerala State</td>\n",
       "      <td>65.0</td>\n",
       "      <td>Austria</td>\n",
       "      <td>3.50</td>\n",
       "      <td>Forastero</td>\n",
       "      <td>India</td>\n",
       "      <td>11.000684</td>\n",
       "    </tr>\n",
       "    <tr>\n",
       "      <th>1793</th>\n",
       "      <td>Zotter</td>\n",
       "      <td>Kerala State</td>\n",
       "      <td>62.0</td>\n",
       "      <td>Austria</td>\n",
       "      <td>3.25</td>\n",
       "      <td>Unknown</td>\n",
       "      <td>India</td>\n",
       "      <td>11.000684</td>\n",
       "    </tr>\n",
       "    <tr>\n",
       "      <th>1794</th>\n",
       "      <td>Zotter</td>\n",
       "      <td>Brazil, Mitzi Blue</td>\n",
       "      <td>65.0</td>\n",
       "      <td>Austria</td>\n",
       "      <td>3.00</td>\n",
       "      <td>Unknown</td>\n",
       "      <td>Brazil</td>\n",
       "      <td>10.001369</td>\n",
       "    </tr>\n",
       "  </tbody>\n",
       "</table>\n",
       "<p>1795 rows × 8 columns</p>\n",
       "</div>"
      ],
      "text/plain": [
       "       Company Specific_Bean_Origin_or_Bar_Name  Cocoa_Percent  \\\n",
       "0     A. Morin                      Agua Grande           63.0   \n",
       "1     A. Morin                            Kpime           70.0   \n",
       "2     A. Morin                           Atsane           70.0   \n",
       "3     A. Morin                            Akata           70.0   \n",
       "4     A. Morin                           Quilla           70.0   \n",
       "...        ...                              ...            ...   \n",
       "1790    Zotter                             Peru           70.0   \n",
       "1791    Zotter                            Congo           65.0   \n",
       "1792    Zotter                     Kerala State           65.0   \n",
       "1793    Zotter                     Kerala State           62.0   \n",
       "1794    Zotter               Brazil, Mitzi Blue           65.0   \n",
       "\n",
       "     Company_Location  Rating  Bean_Type Broad_Bean_Origin  Time_Difference  \n",
       "0              France    3.75    Unknown          Sao Tome        16.000000  \n",
       "1              France    2.75    Unknown              Togo        15.000684  \n",
       "2              France    3.00    Unknown              Togo        15.000684  \n",
       "3              France    3.50    Unknown              Togo        15.000684  \n",
       "4              France    3.50    Unknown              Peru        15.000684  \n",
       "...               ...     ...        ...               ...              ...  \n",
       "1790          Austria    3.75    Unknown              Peru        11.000684  \n",
       "1791          Austria    3.00  Forastero             Congo        11.000684  \n",
       "1792          Austria    3.50  Forastero             India        11.000684  \n",
       "1793          Austria    3.25    Unknown             India        11.000684  \n",
       "1794          Austria    3.00    Unknown            Brazil        10.001369  \n",
       "\n",
       "[1795 rows x 8 columns]"
      ]
     },
     "execution_count": 45,
     "metadata": {},
     "output_type": "execute_result"
    }
   ],
   "source": [
    "df"
   ]
  },
  {
   "cell_type": "markdown",
   "id": "c78fd20d-c736-4a2c-be2f-117be67fcbb1",
   "metadata": {},
   "source": [
    "### <b>4. Categorical Encoding:</b>\n",
    "\n",
    "#### In order for our Machine Learning model to be efficient, we need to encode some labels. There are several types of Categorical encoding: Ordinal encoding, One Hot encoding, frequent encoding, target (or mean) encoding, etc.\n",
    "#### I think that there are two of them that make sense: \n",
    "1. One Hot Encoding;\n",
    "2. Mean/target encoding. \n",
    "\n",
    "#### I personally don't like One Hot Encoding because it creates MANY features, specially in our case with many countries, products and etc (classes in general). Therefore, I will perform a target (mean) encoding on the data during this section. However, I included the One Hot Encoding in the Appendix section."
   ]
  },
  {
   "cell_type": "code",
   "execution_count": 46,
   "id": "925806fb-31fc-4bdb-a641-120c15ee5e8d",
   "metadata": {},
   "outputs": [],
   "source": [
    "# Target encoding\n",
    "def calc_average_smooth(df, by, on, m):\n",
    "    \"\"\"\n",
    "    Function that performs the addtive smoothing: Target encoding with smoothig\n",
    "    \"\"\"\n",
    "    # Compute the global mean\n",
    "    mean = df[on].mean()\n",
    "\n",
    "    # Compute the number of values and the mean of each group\n",
    "    agg = df.groupby(by)[on].agg(['count', 'mean'])\n",
    "    counts = agg['count']\n",
    "    means = agg['mean']\n",
    "\n",
    "    # Compute the \"smoothed\" means\n",
    "    smooth = (counts * means + m * mean) / (counts + m)\n",
    "\n",
    "    # Replace each value by the according smoothed mean\n",
    "    return df[by].map(smooth)"
   ]
  },
  {
   "cell_type": "markdown",
   "id": "e9b6b733-2d8b-4efe-8faf-27abae0e34c8",
   "metadata": {},
   "source": [
    "#### <b>Important note here</b>: One really important effect is the Target Leakage. By using the probability of the target to encode the features we are feeding them with information of the very variable we are trying to model. This is like “cheating” since the model will learn from a variable that contains the target in itself. Also, the use of the mean as a predictor for the whole distribution is good, but not perfect. If all the different distributions and combinations of the data could be represented by a single mean, our life would be much easier. But...that's not the case for our variables here. :D\n",
    "\n",
    "#### Sometimes, target encoding can contribute therefore for overfitting the model and a way to remove this is by including a smoothing term, therefore, that's what I did in the function above."
   ]
  },
  {
   "cell_type": "code",
   "execution_count": 47,
   "id": "8daf16af-ff87-4b48-ba82-734c837fb483",
   "metadata": {},
   "outputs": [],
   "source": [
    "df_encod = df.copy()\n",
    "\n",
    "features     = ['Company','Specific_Bean_Origin_or_Bar_Name','Company_Location','Bean_Type','Broad_Bean_Origin']\n",
    "new_features = ['NCompany','NSpecific_Bean_Origin_or_Bar_Name','NCompany_Location','NBean_Type','NBroad_Bean_Origin']\n",
    "\n",
    "def target_encod(df_encod,features):\n",
    "    \"\"\"\n",
    "    This function applies the target encoding on the selected features\n",
    "    \"\"\"\n",
    "    m = 100 # Just an intial guess\n",
    "    for i in range(len(features)):\n",
    "        df_encod[new_features[i] ]=calc_average_smooth(df_encod, by=features[i], on='Rating',m=100)\n",
    "        df_encod.drop(features[i], axis=1, inplace=True)\n",
    "    return df_encod\n",
    "df_encod=target_encod(df_encod,features)"
   ]
  },
  {
   "cell_type": "code",
   "execution_count": 48,
   "id": "4f9a9a5f-5cbb-4d52-9454-e95ed794e311",
   "metadata": {},
   "outputs": [
    {
     "data": {
      "text/html": [
       "<div>\n",
       "<style scoped>\n",
       "    .dataframe tbody tr th:only-of-type {\n",
       "        vertical-align: middle;\n",
       "    }\n",
       "\n",
       "    .dataframe tbody tr th {\n",
       "        vertical-align: top;\n",
       "    }\n",
       "\n",
       "    .dataframe thead th {\n",
       "        text-align: right;\n",
       "    }\n",
       "</style>\n",
       "<table border=\"1\" class=\"dataframe\">\n",
       "  <thead>\n",
       "    <tr style=\"text-align: right;\">\n",
       "      <th></th>\n",
       "      <th>Cocoa_Percent</th>\n",
       "      <th>Rating</th>\n",
       "      <th>Time_Difference</th>\n",
       "      <th>NCompany</th>\n",
       "      <th>NSpecific_Bean_Origin_or_Bar_Name</th>\n",
       "      <th>NCompany_Location</th>\n",
       "      <th>NBean_Type</th>\n",
       "      <th>NBroad_Bean_Origin</th>\n",
       "    </tr>\n",
       "  </thead>\n",
       "  <tbody>\n",
       "    <tr>\n",
       "      <th>0</th>\n",
       "      <td>63.0</td>\n",
       "      <td>3.75</td>\n",
       "      <td>16.000000</td>\n",
       "      <td>3.222303</td>\n",
       "      <td>3.191518</td>\n",
       "      <td>3.225950</td>\n",
       "      <td>3.143313</td>\n",
       "      <td>3.184939</td>\n",
       "    </tr>\n",
       "    <tr>\n",
       "      <th>1</th>\n",
       "      <td>70.0</td>\n",
       "      <td>2.75</td>\n",
       "      <td>15.000684</td>\n",
       "      <td>3.222303</td>\n",
       "      <td>3.181617</td>\n",
       "      <td>3.225950</td>\n",
       "      <td>3.143313</td>\n",
       "      <td>3.182945</td>\n",
       "    </tr>\n",
       "    <tr>\n",
       "      <th>2</th>\n",
       "      <td>70.0</td>\n",
       "      <td>3.00</td>\n",
       "      <td>15.000684</td>\n",
       "      <td>3.222303</td>\n",
       "      <td>3.184092</td>\n",
       "      <td>3.225950</td>\n",
       "      <td>3.143313</td>\n",
       "      <td>3.182945</td>\n",
       "    </tr>\n",
       "    <tr>\n",
       "      <th>3</th>\n",
       "      <td>70.0</td>\n",
       "      <td>3.50</td>\n",
       "      <td>15.000684</td>\n",
       "      <td>3.222303</td>\n",
       "      <td>3.189043</td>\n",
       "      <td>3.225950</td>\n",
       "      <td>3.143313</td>\n",
       "      <td>3.182945</td>\n",
       "    </tr>\n",
       "    <tr>\n",
       "      <th>4</th>\n",
       "      <td>70.0</td>\n",
       "      <td>3.50</td>\n",
       "      <td>15.000684</td>\n",
       "      <td>3.222303</td>\n",
       "      <td>3.189043</td>\n",
       "      <td>3.225950</td>\n",
       "      <td>3.143313</td>\n",
       "      <td>3.156013</td>\n",
       "    </tr>\n",
       "    <tr>\n",
       "      <th>...</th>\n",
       "      <td>...</td>\n",
       "      <td>...</td>\n",
       "      <td>...</td>\n",
       "      <td>...</td>\n",
       "      <td>...</td>\n",
       "      <td>...</td>\n",
       "      <td>...</td>\n",
       "      <td>...</td>\n",
       "    </tr>\n",
       "    <tr>\n",
       "      <th>1790</th>\n",
       "      <td>70.0</td>\n",
       "      <td>3.75</td>\n",
       "      <td>11.000684</td>\n",
       "      <td>3.203789</td>\n",
       "      <td>3.104092</td>\n",
       "      <td>3.197169</td>\n",
       "      <td>3.143313</td>\n",
       "      <td>3.156013</td>\n",
       "    </tr>\n",
       "    <tr>\n",
       "      <th>1791</th>\n",
       "      <td>65.0</td>\n",
       "      <td>3.00</td>\n",
       "      <td>11.000684</td>\n",
       "      <td>3.203789</td>\n",
       "      <td>3.189640</td>\n",
       "      <td>3.197169</td>\n",
       "      <td>3.146221</td>\n",
       "      <td>3.198576</td>\n",
       "    </tr>\n",
       "    <tr>\n",
       "      <th>1792</th>\n",
       "      <td>65.0</td>\n",
       "      <td>3.50</td>\n",
       "      <td>11.000684</td>\n",
       "      <td>3.203789</td>\n",
       "      <td>3.189640</td>\n",
       "      <td>3.197169</td>\n",
       "      <td>3.146221</td>\n",
       "      <td>3.183590</td>\n",
       "    </tr>\n",
       "    <tr>\n",
       "      <th>1793</th>\n",
       "      <td>62.0</td>\n",
       "      <td>3.25</td>\n",
       "      <td>11.000684</td>\n",
       "      <td>3.203789</td>\n",
       "      <td>3.189640</td>\n",
       "      <td>3.197169</td>\n",
       "      <td>3.143313</td>\n",
       "      <td>3.183590</td>\n",
       "    </tr>\n",
       "    <tr>\n",
       "      <th>1794</th>\n",
       "      <td>65.0</td>\n",
       "      <td>3.00</td>\n",
       "      <td>10.001369</td>\n",
       "      <td>3.203789</td>\n",
       "      <td>3.184092</td>\n",
       "      <td>3.197169</td>\n",
       "      <td>3.143313</td>\n",
       "      <td>3.222110</td>\n",
       "    </tr>\n",
       "  </tbody>\n",
       "</table>\n",
       "<p>1795 rows × 8 columns</p>\n",
       "</div>"
      ],
      "text/plain": [
       "      Cocoa_Percent  Rating  Time_Difference  NCompany  \\\n",
       "0              63.0    3.75        16.000000  3.222303   \n",
       "1              70.0    2.75        15.000684  3.222303   \n",
       "2              70.0    3.00        15.000684  3.222303   \n",
       "3              70.0    3.50        15.000684  3.222303   \n",
       "4              70.0    3.50        15.000684  3.222303   \n",
       "...             ...     ...              ...       ...   \n",
       "1790           70.0    3.75        11.000684  3.203789   \n",
       "1791           65.0    3.00        11.000684  3.203789   \n",
       "1792           65.0    3.50        11.000684  3.203789   \n",
       "1793           62.0    3.25        11.000684  3.203789   \n",
       "1794           65.0    3.00        10.001369  3.203789   \n",
       "\n",
       "      NSpecific_Bean_Origin_or_Bar_Name  NCompany_Location  NBean_Type  \\\n",
       "0                              3.191518           3.225950    3.143313   \n",
       "1                              3.181617           3.225950    3.143313   \n",
       "2                              3.184092           3.225950    3.143313   \n",
       "3                              3.189043           3.225950    3.143313   \n",
       "4                              3.189043           3.225950    3.143313   \n",
       "...                                 ...                ...         ...   \n",
       "1790                           3.104092           3.197169    3.143313   \n",
       "1791                           3.189640           3.197169    3.146221   \n",
       "1792                           3.189640           3.197169    3.146221   \n",
       "1793                           3.189640           3.197169    3.143313   \n",
       "1794                           3.184092           3.197169    3.143313   \n",
       "\n",
       "      NBroad_Bean_Origin  \n",
       "0               3.184939  \n",
       "1               3.182945  \n",
       "2               3.182945  \n",
       "3               3.182945  \n",
       "4               3.156013  \n",
       "...                  ...  \n",
       "1790            3.156013  \n",
       "1791            3.198576  \n",
       "1792            3.183590  \n",
       "1793            3.183590  \n",
       "1794            3.222110  \n",
       "\n",
       "[1795 rows x 8 columns]"
      ]
     },
     "execution_count": 48,
     "metadata": {},
     "output_type": "execute_result"
    }
   ],
   "source": [
    "df_encod"
   ]
  },
  {
   "cell_type": "code",
   "execution_count": 49,
   "id": "3b8016c7-8845-42e2-bf1f-b00bbb2adbd7",
   "metadata": {},
   "outputs": [
    {
     "name": "stdout",
     "output_type": "stream",
     "text": [
      "<class 'pandas.core.frame.DataFrame'>\n",
      "RangeIndex: 1795 entries, 0 to 1794\n",
      "Data columns (total 8 columns):\n",
      " #   Column                             Non-Null Count  Dtype  \n",
      "---  ------                             --------------  -----  \n",
      " 0   Cocoa_Percent                      1795 non-null   float64\n",
      " 1   Rating                             1795 non-null   float64\n",
      " 2   Time_Difference                    1795 non-null   float64\n",
      " 3   NCompany                           1795 non-null   float64\n",
      " 4   NSpecific_Bean_Origin_or_Bar_Name  1795 non-null   float64\n",
      " 5   NCompany_Location                  1795 non-null   float64\n",
      " 6   NBean_Type                         1795 non-null   float64\n",
      " 7   NBroad_Bean_Origin                 1795 non-null   float64\n",
      "dtypes: float64(8)\n",
      "memory usage: 112.3 KB\n"
     ]
    }
   ],
   "source": [
    "df_encod.info()"
   ]
  },
  {
   "cell_type": "code",
   "execution_count": 50,
   "id": "6f2f9f78-1061-40aa-881a-073358ce9264",
   "metadata": {},
   "outputs": [
    {
     "data": {
      "text/plain": [
       "(1795, 8)"
      ]
     },
     "execution_count": 50,
     "metadata": {},
     "output_type": "execute_result"
    }
   ],
   "source": [
    "df_encod.shape"
   ]
  },
  {
   "cell_type": "markdown",
   "id": "fe337711-4c3e-4a59-8df6-559ed4e9c0b6",
   "metadata": {},
   "source": [
    "### 5. Modelling and evaluation\n",
    "#### In this section I am going to perform the modelling, prediction and the evaluation of our model. If necessary, I will also perform some hyperparameter tunning and model ensembling."
   ]
  },
  {
   "cell_type": "code",
   "execution_count": 51,
   "id": "838aa873-aaf2-4474-8cb1-962170c510d0",
   "metadata": {},
   "outputs": [],
   "source": [
    "X = df_encod.drop([\"Rating\"],axis =1)#,\"NSpecific_Bean_Origin_or_Bar_Name\",\"NCompany\"],axis =1)\n",
    "Y = df_encod['Rating']\n",
    "\n",
    "X_train,X_test,Y_train,Y_test = train_test_split(X,Y,test_size=0.2,random_state = 42)"
   ]
  },
  {
   "cell_type": "code",
   "execution_count": 52,
   "id": "ff0f3238-eff4-4e98-8655-32c1adc53f5d",
   "metadata": {},
   "outputs": [
    {
     "data": {
      "text/plain": [
       "(1436, 7)"
      ]
     },
     "execution_count": 52,
     "metadata": {},
     "output_type": "execute_result"
    }
   ],
   "source": [
    "X_train.shape"
   ]
  },
  {
   "cell_type": "code",
   "execution_count": 53,
   "id": "17340eca-2a1c-487b-aa9e-b65a045668d3",
   "metadata": {},
   "outputs": [
    {
     "data": {
      "text/plain": [
       "Cocoa_Percent                         42\n",
       "Time_Difference                       12\n",
       "NCompany                             153\n",
       "NSpecific_Bean_Origin_or_Bar_Name     98\n",
       "NCompany_Location                     51\n",
       "NBean_Type                            25\n",
       "NBroad_Bean_Origin                    57\n",
       "dtype: int64"
      ]
     },
     "execution_count": 53,
     "metadata": {},
     "output_type": "execute_result"
    }
   ],
   "source": [
    "X_train.nunique()"
   ]
  },
  {
   "cell_type": "markdown",
   "id": "58683ae8-f0d1-4a71-a712-cf5b671c25d5",
   "metadata": {},
   "source": [
    "####  Let's first check whether the distribution of ratings is consistent with the original dataset on the training set. This is important because we will train our model on it and for it to predict well, it must have a similar distribution."
   ]
  },
  {
   "cell_type": "code",
   "execution_count": 54,
   "id": "0f019651-5d8d-4520-812f-b2d8700eaca4",
   "metadata": {},
   "outputs": [
    {
     "data": {
      "image/png": "[encoded data removed]",
      "text/plain": [
       "<Figure size 1080x288 with 3 Axes>"
      ]
     },
     "metadata": {
      "needs_background": "light"
     },
     "output_type": "display_data"
    }
   ],
   "source": [
    "f, axes = plt.subplots(ncols=3, figsize=(15,4))\n",
    "\n",
    "# Plot histogram using seaborn\n",
    "\n",
    "sns.countplot(x=Y.values, ax=axes[0])\n",
    "axes[0].set(xlabel='Rating', ylabel='Frequency', title='Rating from Original Dataset') # Original dataset rating distribution\n",
    "\n",
    "sns.countplot(x=Y_train.values, ax=axes[1])\n",
    "axes[1].set(xlabel='Rating', ylabel='Frequency', title='Rating from Training Dataset') # Training dataset rating distribution\n",
    "\n",
    "sns.countplot(x=Y_test.values, ax=axes[2])\n",
    "axes[2].set(xlabel='Rating', ylabel='Frequency', title='Rating from Test Dataset') # Original dataset rating distribution\n",
    "plt.tight_layout() \n",
    "plt.show()"
   ]
  },
  {
   "cell_type": "markdown",
   "id": "c169238f-6dde-46b5-a955-c86d1381467a",
   "metadata": {},
   "source": [
    "#### Distributions are very similar. We can move on."
   ]
  },
  {
   "cell_type": "markdown",
   "id": "ff5eb0c6-5776-4937-8356-0bfe8dbf0b10",
   "metadata": {},
   "source": [
    "#### To model our data, I have chosen <b> XGBoost </b>: It is a popular machine learning algorithm used for both classification and regression tasks. XGBoost is known for its speed and performance, often outperforming other algorithms in many predictive modeling competitions. Overall, XGBoost is a powerful and versatile algorithm that has gained popularity for its ability to handle large-scale datasets, effectively handle missing values, and deliver highly accurate predictions across various machine learning tasks. However, it is often that XGBoost overfits the data, which is something we will have to be aware. "
   ]
  },
  {
   "cell_type": "code",
   "execution_count": 55,
   "id": "1083a3fa-2ccf-4e7d-ab41-395aad8820d5",
   "metadata": {},
   "outputs": [
    {
     "name": "stdout",
     "output_type": "stream",
     "text": [
      "CPU times: user 38 µs, sys: 1 µs, total: 39 µs\n",
      "Wall time: 43.2 µs\n"
     ]
    }
   ],
   "source": [
    "%%time\n",
    "regrXGB = xgb.XGBRegressor(\n",
    "    booster='gbtree',\n",
    "    n_estimators=10000,\n",
    "    #early_stopping_rounds=50,\n",
    "    objective='reg:squarederror',#'reg:linear',\n",
    "    max_depth=5,\n",
    "    learning_rate=0.0008,\n",
    ")\n"
   ]
  },
  {
   "cell_type": "code",
   "execution_count": 56,
   "id": "db8e9325-18a0-4d05-9d48-567ac347c90b",
   "metadata": {},
   "outputs": [
    {
     "name": "stdout",
     "output_type": "stream",
     "text": [
      "[0]\tvalidation_0-rmse:2.72961\n",
      "[2000]\tvalidation_0-rmse:0.61147\n",
      "[4000]\tvalidation_0-rmse:0.24516\n",
      "[6000]\tvalidation_0-rmse:0.19630\n",
      "[8000]\tvalidation_0-rmse:0.18030\n",
      "[9999]\tvalidation_0-rmse:0.16989\n",
      "CPU times: user 1min 40s, sys: 4.2 s, total: 1min 44s\n",
      "Wall time: 18 s\n"
     ]
    },
    {
     "data": {
      "text/plain": [
       "XGBRegressor(base_score=0.5, booster='gbtree', colsample_bylevel=1,\n",
       "             colsample_bynode=1, colsample_bytree=1, enable_categorical=False,\n",
       "             gamma=0, gpu_id=-1, importance_type=None,\n",
       "             interaction_constraints='', learning_rate=0.0008, max_delta_step=0,\n",
       "             max_depth=5, min_child_weight=1, missing=nan,\n",
       "             monotone_constraints='()', n_estimators=10000, n_jobs=8,\n",
       "             num_parallel_tree=1, predictor='auto', random_state=0, reg_alpha=0,\n",
       "             reg_lambda=1, scale_pos_weight=1, subsample=1, tree_method='exact',\n",
       "             validate_parameters=1, verbosity=None)"
      ]
     },
     "execution_count": 56,
     "metadata": {},
     "output_type": "execute_result"
    }
   ],
   "source": [
    "%%time\n",
    "regrXGB.fit(X_train, Y_train,\n",
    "        eval_set=[(X_train._get_numeric_data(), Y_train._get_numeric_data())]\n",
    "        ,verbose=2000)"
   ]
  },
  {
   "cell_type": "code",
   "execution_count": 57,
   "id": "87d31907-8a76-4121-8d2a-dfb06943b2ef",
   "metadata": {},
   "outputs": [],
   "source": [
    "def smape(predict, data):\n",
    "    \"\"\"\n",
    "    This function computes the SMAPE (Symmetric Mean Absolute Percentage Error)\n",
    "    \"\"\"\n",
    "    return 100/len(data) * np.sum(np.abs(predict - data) / (np.abs(data) + np.abs(predict)))"
   ]
  },
  {
   "cell_type": "code",
   "execution_count": 58,
   "id": "a2fd4de3-55b9-434c-878a-8ca84297e0eb",
   "metadata": {},
   "outputs": [],
   "source": [
    "def print_metrics(X, Y,model=regrXGB):\n",
    "    \"\"\"\n",
    "    This function simply prints the metrics that evaluate the model\n",
    "    \"\"\"\n",
    "    print(\"\\tSMAPE:\", smape(model.predict(X), Y) )\n",
    "    print(\"\\tMean absolute error (MAE):\", mean_absolute_error(Y, model.predict(X)))\n",
    "    print(\"\\tRoot Mean squared error (RMSE):\",  np.sqrt(mean_squared_error(Y, model.predict(X))))\n",
    "    print(\"\\tR2 score:\", r2_score(Y, model.predict(X)))\n",
    "    \n",
    "    return"
   ]
  },
  {
   "cell_type": "markdown",
   "id": "a67cc61a-ae0f-4d5f-8a9b-1825ece18a50",
   "metadata": {},
   "source": [
    "#### SMAPE, MAE, RMSE, and R2 are metrics commonly used to evaluate the performance of regression models. Here's a brief summary of what each of these metrics tells us: \n",
    "\n",
    "- <b> SMAPE (Symmetric Mean Absolute Percentage Error)</b> measures the percentage difference between actual and predicted values. It is a symmetric version of Mean Absolute Percentage Error (MAPE) that is not affected by the direction of the error. SMAPE is typically used when the scale of the variables being predicted is important.\n",
    "\n",
    "- <b>MAE (Mean Absolute Error)</b> measures the average absolute difference between the predicted and actual values. It is less sensitive to outliers than other error metrics and is often used when the model needs to be optimized for accuracy rather than precision.\n",
    "\n",
    "- <b>RMSE (Root Mean Squared Error)</b> measures the standard deviation of the residuals (the difference between the predicted and actual values). It is a popular metric because it penalizes large errors more than small errors and is more interpretable than the variance of the residuals.\n",
    "\n",
    "- <b>R2 (Coefficient of Determination)</b> measures the proportion of variance in the dependent variable that is explained by the independent variable(s). It ranges from 0 to 1, with 1 indicating a perfect fit and 0 indicating that the model does not explain any of the variation in the dependent variable.\n",
    "\n",
    "\n",
    "##### In general, a good model will have low values of SMAPE, MAE, and RMSE, and a high value of R2. However, the ideal values of these metrics depend on the specific problem being solved and the underlying data. It is also important to use multiple metrics to evaluate model performance and to compare the results with other models and benchmarks."
   ]
  },
  {
   "cell_type": "code",
   "execution_count": 59,
   "id": "6dbc6654-21c8-48f1-ad4e-d222189ee54c",
   "metadata": {},
   "outputs": [
    {
     "name": "stdout",
     "output_type": "stream",
     "text": [
      "\tSMAPE: 1.8560236585683219\n",
      "\tMean absolute error (MAE): 0.11260000726306671\n",
      "\tRoot Mean squared error (RMSE): 0.1698931227662513\n",
      "\tR2 score: 0.8732138458517436\n"
     ]
    }
   ],
   "source": [
    "print_metrics(X_train,Y_train)"
   ]
  },
  {
   "cell_type": "code",
   "execution_count": 60,
   "id": "19e58e6c-f15f-4599-838b-8848367f8b75",
   "metadata": {},
   "outputs": [
    {
     "name": "stdout",
     "output_type": "stream",
     "text": [
      "\tSMAPE: 3.195481081177065\n",
      "\tMean absolute error (MAE): 0.18899353799049567\n",
      "\tRoot Mean squared error (RMSE): 0.29458889240621494\n",
      "\tR2 score: 0.6245823522024476\n"
     ]
    }
   ],
   "source": [
    "print_metrics(X_test,Y_test)"
   ]
  },
  {
   "cell_type": "markdown",
   "id": "2f65da23-3ca3-4d1c-a682-ab6a96aeeba1",
   "metadata": {},
   "source": [
    "#### Based on these metrics, the model seems to perform reasonably well on the training dataset, with an R2 score of 0.87. However, the performance on the test dataset is slightly lower, with an R2 score of 0.62. This suggests that the model may be overfitting the training data to some extent.\n",
    "\n",
    "#### To improve the model's performance, I could consider adjusting the hyperparameters of the XGBoost model, increasing the regularization strength, or trying different feature engineering techniques. Additionally, I may explore other regression algorithms or ensemble models to see if they provide better performance on your dataset."
   ]
  },
  {
   "cell_type": "markdown",
   "id": "ee162004-a584-4400-aef3-6d68d0d93675",
   "metadata": {},
   "source": [
    "#### I will first try adjusting the hyperparameters and see if I can fine tune the model. Basically, I am going to create several models and store their parameters. In this case, I am selecting the \"best\" model as the one that has the R2 values for both training and test data the closest. There are several ways to look into this, like take the \"best model\" as the one that has the highest R2 for the test, or even a balance between R2s from both dataset. But this was the way I think the model is performing satisfactorily and not overfitting (too much). "
   ]
  },
  {
   "cell_type": "code",
   "execution_count": 61,
   "id": "2f9c3d52-c7d8-4405-87ac-7084eb92acf4",
   "metadata": {},
   "outputs": [
    {
     "data": {
      "text/html": [
       "<div>\n",
       "<style scoped>\n",
       "    .dataframe tbody tr th:only-of-type {\n",
       "        vertical-align: middle;\n",
       "    }\n",
       "\n",
       "    .dataframe tbody tr th {\n",
       "        vertical-align: top;\n",
       "    }\n",
       "\n",
       "    .dataframe thead th {\n",
       "        text-align: right;\n",
       "    }\n",
       "</style>\n",
       "<table border=\"1\" class=\"dataframe\">\n",
       "  <thead>\n",
       "    <tr style=\"text-align: right;\">\n",
       "      <th></th>\n",
       "      <th>importance</th>\n",
       "    </tr>\n",
       "  </thead>\n",
       "  <tbody>\n",
       "    <tr>\n",
       "      <th>NSpecific_Bean_Origin_or_Bar_Name</th>\n",
       "      <td>0.525215</td>\n",
       "    </tr>\n",
       "    <tr>\n",
       "      <th>NCompany</th>\n",
       "      <td>0.174922</td>\n",
       "    </tr>\n",
       "    <tr>\n",
       "      <th>NBroad_Bean_Origin</th>\n",
       "      <td>0.077036</td>\n",
       "    </tr>\n",
       "    <tr>\n",
       "      <th>Time_Difference</th>\n",
       "      <td>0.063122</td>\n",
       "    </tr>\n",
       "    <tr>\n",
       "      <th>Cocoa_Percent</th>\n",
       "      <td>0.060187</td>\n",
       "    </tr>\n",
       "    <tr>\n",
       "      <th>NCompany_Location</th>\n",
       "      <td>0.053401</td>\n",
       "    </tr>\n",
       "    <tr>\n",
       "      <th>NBean_Type</th>\n",
       "      <td>0.046116</td>\n",
       "    </tr>\n",
       "  </tbody>\n",
       "</table>\n",
       "</div>"
      ],
      "text/plain": [
       "                                   importance\n",
       "NSpecific_Bean_Origin_or_Bar_Name    0.525215\n",
       "NCompany                             0.174922\n",
       "NBroad_Bean_Origin                   0.077036\n",
       "Time_Difference                      0.063122\n",
       "Cocoa_Percent                        0.060187\n",
       "NCompany_Location                    0.053401\n",
       "NBean_Type                           0.046116"
      ]
     },
     "execution_count": 61,
     "metadata": {},
     "output_type": "execute_result"
    }
   ],
   "source": [
    "# Here I am computing the feature importance for our model\n",
    "feature_importance= pd.DataFrame(data=regrXGB.feature_importances_,\n",
    "                 index  = regrXGB.get_booster().feature_names,\n",
    "                 columns= ['importance'])\n",
    "feature_importance.sort_values('importance', ascending=False).head(10)"
   ]
  },
  {
   "cell_type": "code",
   "execution_count": 62,
   "id": "1a725032-66e1-4a61-81d1-25be38fc3b30",
   "metadata": {},
   "outputs": [
    {
     "data": {
      "text/plain": [
       "<Figure size 720x360 with 0 Axes>"
      ]
     },
     "metadata": {},
     "output_type": "display_data"
    },
    {
     "data": {
      "image/png": "[encoded data removed]",
      "text/plain": [
       "<Figure size 432x288 with 1 Axes>"
      ]
     },
     "metadata": {
      "needs_background": "light"
     },
     "output_type": "display_data"
    }
   ],
   "source": [
    "# Plotting these results\n",
    "plt.figure(figsize=(10, 5))\n",
    "fig1 = feature_importance.sort_values('importance', ascending=False).head(10)\n",
    "fig1.plot(kind='barh', title='Feature Importance',color='brown')\n",
    "plt.legend(loc='upper right')\n",
    "plt.show()"
   ]
  },
  {
   "cell_type": "markdown",
   "id": "0ff12368-df49-4257-bd37-e5066ce81ef0",
   "metadata": {},
   "source": [
    "#### This is an intersting result, the model is giving a lot of importance to the features Specific_Bean_Origin and NCompany, which are the features with a huge amount of classes. "
   ]
  },
  {
   "cell_type": "markdown",
   "id": "a6ded8cd-ac9d-435c-a9ea-aba1aee16731",
   "metadata": {},
   "source": [
    "#### Let's first do some Hyperparameter tunning. Here I am also including L1 and L2 regularization terms to penalize the model and reduce possible overfittings, which are very common to occur when using XGBoost."
   ]
  },
  {
   "cell_type": "code",
   "execution_count": 63,
   "id": "9351baca-01eb-4777-8997-718256b3d815",
   "metadata": {},
   "outputs": [
    {
     "name": "stdout",
     "output_type": "stream",
     "text": [
      "CPU times: user 1h 29min 54s, sys: 2min 33s, total: 1h 32min 27s\n",
      "Wall time: 15min 19s\n"
     ]
    }
   ],
   "source": [
    "%%time\n",
    "# Define the range of regularization parameters to test\n",
    "gamma_values = [0, 0.1, 0.5, 1]\n",
    "reg_alpha_values = [0, 0.1, 0.01, 0.001]\n",
    "reg_lambda_values = [0, 0.1, 0.01, 0.001]\n",
    "\n",
    "# Create an empty dictionary to store the models and their corresponding R2 scores\n",
    "models = {}\n",
    "\n",
    "# Iterate over all combinations of regularization parameters\n",
    "for gamma in gamma_values:\n",
    "    for reg_alpha in reg_alpha_values:\n",
    "        for reg_lambda in reg_lambda_values:\n",
    "            # Create the XGBoost model with the current regularization parameters\n",
    "            regrXGB = xgb.XGBRegressor(\n",
    "                booster='gbtree',\n",
    "                n_estimators=10000,\n",
    "                #early_stopping_rounds=50,\n",
    "                objective='reg:squarederror',#'reg:linear',\n",
    "                max_depth=5,\n",
    "                learning_rate=0.0008,\n",
    "                gamma=gamma,\n",
    "                reg_alpha=reg_alpha,\n",
    "                reg_lambda=reg_lambda\n",
    "            )\n",
    "            \n",
    "            # Fit the model on the training dataset\n",
    "            regrXGB.fit(X_train, Y_train)\n",
    "            \n",
    "            # Make predictions on the test dataset\n",
    "            y_pred_train = regrXGB.predict(X_train)\n",
    "            y_pred_test = regrXGB.predict(X_test)\n",
    "            \n",
    "            # Calculate the R2 score\n",
    "            r2_train = r2_score(Y_train, y_pred_train)\n",
    "            r2_test = r2_score(Y_test, y_pred_test)\n",
    "            \n",
    "            # Store the model and its R2 score in the dictionary\n",
    "            models[(gamma, reg_alpha, reg_lambda)] = [r2_train,r2_test]"
   ]
  },
  {
   "cell_type": "code",
   "execution_count": 64,
   "id": "fb33086b-ec4c-42fa-a0da-30bc11f27407",
   "metadata": {},
   "outputs": [
    {
     "data": {
      "text/plain": [
       "{(0, 0, 0): [0.8957551261162529, 0.6150208032807292],\n",
       " (0, 0, 0.1): [0.8929985817912913, 0.6171821853522681],\n",
       " (0, 0, 0.01): [0.896574190622332, 0.6156851342991356],\n",
       " (0, 0, 0.001): [0.8958297683457151, 0.6181173838570966],\n",
       " (0, 0.1, 0): [0.8936399994608295, 0.623313083840779],\n",
       " (0, 0.1, 0.1): [0.8907535451014509, 0.6234586418897532],\n",
       " (0, 0.1, 0.01): [0.8930444375149997, 0.6200768530893319],\n",
       " (0, 0.1, 0.001): [0.8934287242018114, 0.6180719079550993],\n",
       " (0, 0.01, 0): [0.8951823734981834, 0.6198015468169066],\n",
       " (0, 0.01, 0.1): [0.8924188760074919, 0.6163468854298828],\n",
       " (0, 0.01, 0.01): [0.8943464888380135, 0.6217778859991535],\n",
       " (0, 0.01, 0.001): [0.8963928220413594, 0.6192699427746597],\n",
       " (0, 0.001, 0): [0.8962925810057865, 0.6148315563180076],\n",
       " (0, 0.001, 0.1): [0.8931744907152857, 0.6186780030188219],\n",
       " (0, 0.001, 0.01): [0.8969249707657168, 0.6133961832796591],\n",
       " (0, 0.001, 0.001): [0.8959392425464361, 0.616390776719349],\n",
       " (0.1, 0, 0): [0.8678290123663012, 0.6302042907698482],\n",
       " (0.1, 0, 0.1): [0.8797822346608721, 0.6267321991364676],\n",
       " (0.1, 0, 0.01): [0.8642656775736188, 0.6334392980585044],\n",
       " (0.1, 0, 0.001): [0.8690256625711018, 0.6307041854271691],\n",
       " (0.1, 0.1, 0): [0.8747405567218736, 0.6317859388697888],\n",
       " (0.1, 0.1, 0.1): [0.8664993287122298, 0.6284459597046654],\n",
       " (0.1, 0.1, 0.01): [0.8687562581721424, 0.6383519925745555],\n",
       " (0.1, 0.1, 0.001): [0.8748193697497462, 0.6322973096372572],\n",
       " (0.1, 0.01, 0): [0.8645579192875501, 0.6304509164237948],\n",
       " (0.1, 0.01, 0.1): [0.87997405682506, 0.6280215532978068],\n",
       " (0.1, 0.01, 0.01): [0.8654647408101304, 0.6278191333948911],\n",
       " (0.1, 0.01, 0.001): [0.8756066010621272, 0.6293394478135856],\n",
       " (0.1, 0.001, 0): [0.8679696822051036, 0.6307963484521073],\n",
       " (0.1, 0.001, 0.1): [0.866500946846865, 0.628434815008815],\n",
       " (0.1, 0.001, 0.01): [0.8637458198779113, 0.6315512312107969],\n",
       " (0.1, 0.001, 0.001): [0.8692171333536711, 0.630890046545761],\n",
       " (0.5, 0, 0): [0.764964930468347, 0.6349260927182492],\n",
       " (0.5, 0, 0.1): [0.7642634586907784, 0.6310443976147718],\n",
       " (0.5, 0, 0.01): [0.7655320405383877, 0.6348595608613719],\n",
       " (0.5, 0, 0.001): [0.7649961861151986, 0.6352228214075271],\n",
       " (0.5, 0.1, 0): [0.758502212509487, 0.6333937267065246],\n",
       " (0.5, 0.1, 0.1): [0.7575041548782194, 0.6349077958692803],\n",
       " (0.5, 0.1, 0.01): [0.7585831533722454, 0.6331823407313933],\n",
       " (0.5, 0.1, 0.001): [0.7584260008780241, 0.6333087601858431],\n",
       " (0.5, 0.01, 0): [0.7652502247405712, 0.634811930737412],\n",
       " (0.5, 0.01, 0.1): [0.7632192795792502, 0.6317206034145026],\n",
       " (0.5, 0.01, 0.01): [0.7655780554744249, 0.634214646852602],\n",
       " (0.5, 0.01, 0.001): [0.765221247397999, 0.6347520240621478],\n",
       " (0.5, 0.001, 0): [0.765053077886307, 0.6352077785517753],\n",
       " (0.5, 0.001, 0.1): [0.7642347147832961, 0.6310965525764464],\n",
       " (0.5, 0.001, 0.01): [0.7655756038305349, 0.6349483901463326],\n",
       " (0.5, 0.001, 0.001): [0.7650313506890907, 0.635144351326247],\n",
       " (1, 0, 0): [0.7232690354764805, 0.6201923902615775],\n",
       " (1, 0, 0.1): [0.72230593405096, 0.6218883441428523],\n",
       " (1, 0, 0.01): [0.7235782475367661, 0.6202359711947725],\n",
       " (1, 0, 0.001): [0.7229633737240942, 0.6200470405649803],\n",
       " (1, 0.1, 0): [0.7198820257378755, 0.6190952235349103],\n",
       " (1, 0.1, 0.1): [0.7184559766963061, 0.6199174017217295],\n",
       " (1, 0.1, 0.01): [0.7198337372498937, 0.6191687824306581],\n",
       " (1, 0.1, 0.001): [0.7197933035823627, 0.6190599983805078],\n",
       " (1, 0.01, 0): [0.7230897917481659, 0.6200832669287586],\n",
       " (1, 0.01, 0.1): [0.722012809338213, 0.6220084842410658],\n",
       " (1, 0.01, 0.01): [0.722364412886138, 0.6196240811826539],\n",
       " (1, 0.01, 0.001): [0.7229961340020239, 0.6198706956799029],\n",
       " (1, 0.001, 0): [0.7229813522042967, 0.6201315970883632],\n",
       " (1, 0.001, 0.1): [0.7225177887681118, 0.6220068370509324],\n",
       " (1, 0.001, 0.01): [0.7235964937587077, 0.620226883393153],\n",
       " (1, 0.001, 0.001): [0.7230558876421942, 0.6200971175710202]}"
      ]
     },
     "execution_count": 64,
     "metadata": {},
     "output_type": "execute_result"
    }
   ],
   "source": [
    "models"
   ]
  },
  {
   "cell_type": "code",
   "execution_count": 65,
   "id": "37949b94-7151-4889-ad05-37e6ca22cf44",
   "metadata": {},
   "outputs": [
    {
     "name": "stdout",
     "output_type": "stream",
     "text": [
      "Minimum Subtraction Value: 0.09853857497457663\n",
      "Key with Minimum Subtraction: (1, 0.1, 0.1)\n"
     ]
    }
   ],
   "source": [
    "# Initialize variables to track the minimum subtraction value and its corresponding key\n",
    "min_subtraction = float('inf')\n",
    "min_key = None\n",
    "\n",
    "# Iterate over the dictionary items and find the key with the minimum subtraction\n",
    "for key, value in models.items():\n",
    "    subtraction = abs(value[0] - value[1])\n",
    "    if subtraction < min_subtraction:\n",
    "        min_subtraction = subtraction\n",
    "        min_key = key\n",
    "\n",
    "print(\"Minimum Subtraction Value:\", min_subtraction)\n",
    "print(\"Key with Minimum Subtraction:\", min_key)\n",
    "best_model_params = min_key"
   ]
  },
  {
   "cell_type": "code",
   "execution_count": 66,
   "id": "1af64434-5854-4af3-b235-025bb9e4b87f",
   "metadata": {},
   "outputs": [],
   "source": [
    "# Running now with the best model selected above.\n",
    "best_model = xgb.XGBRegressor(\n",
    "    booster='gbtree',\n",
    "    n_estimators=10000,\n",
    "    #early_stopping_rounds=50,\n",
    "    objective='reg:squarederror',\n",
    "    max_depth=7,\n",
    "    learning_rate=0.0008,\n",
    "    gamma=best_model_params[0],\n",
    "    reg_alpha=best_model_params[1],\n",
    "    reg_lambda=best_model_params[2]\n",
    ")\n",
    "\n",
    "# Fit the best model on the training dataset\n",
    "best_model.fit(X_train, Y_train)\n",
    "\n",
    "# Make predictions on the test dataset using the best model\n",
    "y_pred_best_train = best_model.predict(X_train)\n",
    "y_pred_best_test = best_model.predict(X_test)\n",
    "\n",
    "# Calculate the R2 score for the best model\n",
    "r2_best_train = r2_score(Y_train, y_pred_best_train)\n",
    "r2_best_test = r2_score(Y_test, y_pred_best_test)"
   ]
  },
  {
   "cell_type": "code",
   "execution_count": 67,
   "id": "2ece23d7-34e7-46f2-b716-f5d3d057e0d8",
   "metadata": {},
   "outputs": [
    {
     "name": "stdout",
     "output_type": "stream",
     "text": [
      "\tSMAPE: 2.8882331950805824\n",
      "\tMean absolute error (MAE): 0.1753917796366062\n",
      "\tRoot Mean squared error (RMSE): 0.24689050317407057\n",
      "\tR2 score: 0.7322502957198613\n"
     ]
    }
   ],
   "source": [
    "print_metrics(X_train, Y_train,model=best_model)"
   ]
  },
  {
   "cell_type": "code",
   "execution_count": 68,
   "id": "b720bada-c0a4-4a62-8ad5-53fcc90fb7ca",
   "metadata": {},
   "outputs": [
    {
     "name": "stdout",
     "output_type": "stream",
     "text": [
      "\tSMAPE: 3.4619608864739164\n",
      "\tMean absolute error (MAE): 0.20595011007154884\n",
      "\tRoot Mean squared error (RMSE): 0.29631089332424765\n",
      "\tR2 score: 0.6201805638156466\n"
     ]
    }
   ],
   "source": [
    "print_metrics(X_test, Y_test,model=best_model)"
   ]
  },
  {
   "cell_type": "markdown",
   "id": "37de9bde-01e9-413a-a1cc-b9a65e43fb4a",
   "metadata": {},
   "source": [
    "#### I believe we have handled overfitting problem now. We could stop here, the results are not bad but actually satisfactory, but let's take a look at the feature importance in the model and see if there is room for improvement. "
   ]
  },
  {
   "cell_type": "code",
   "execution_count": 69,
   "id": "9cc66c6b-6198-48f7-b89d-0777280a1226",
   "metadata": {
    "tags": []
   },
   "outputs": [
    {
     "data": {
      "text/html": [
       "<div>\n",
       "<style scoped>\n",
       "    .dataframe tbody tr th:only-of-type {\n",
       "        vertical-align: middle;\n",
       "    }\n",
       "\n",
       "    .dataframe tbody tr th {\n",
       "        vertical-align: top;\n",
       "    }\n",
       "\n",
       "    .dataframe thead th {\n",
       "        text-align: right;\n",
       "    }\n",
       "</style>\n",
       "<table border=\"1\" class=\"dataframe\">\n",
       "  <thead>\n",
       "    <tr style=\"text-align: right;\">\n",
       "      <th></th>\n",
       "      <th>importance</th>\n",
       "    </tr>\n",
       "  </thead>\n",
       "  <tbody>\n",
       "    <tr>\n",
       "      <th>NSpecific_Bean_Origin_or_Bar_Name</th>\n",
       "      <td>0.390272</td>\n",
       "    </tr>\n",
       "    <tr>\n",
       "      <th>NCompany</th>\n",
       "      <td>0.215905</td>\n",
       "    </tr>\n",
       "    <tr>\n",
       "      <th>Cocoa_Percent</th>\n",
       "      <td>0.099727</td>\n",
       "    </tr>\n",
       "    <tr>\n",
       "      <th>NBroad_Bean_Origin</th>\n",
       "      <td>0.095968</td>\n",
       "    </tr>\n",
       "    <tr>\n",
       "      <th>NCompany_Location</th>\n",
       "      <td>0.076564</td>\n",
       "    </tr>\n",
       "    <tr>\n",
       "      <th>Time_Difference</th>\n",
       "      <td>0.067530</td>\n",
       "    </tr>\n",
       "    <tr>\n",
       "      <th>NBean_Type</th>\n",
       "      <td>0.054034</td>\n",
       "    </tr>\n",
       "  </tbody>\n",
       "</table>\n",
       "</div>"
      ],
      "text/plain": [
       "                                   importance\n",
       "NSpecific_Bean_Origin_or_Bar_Name    0.390272\n",
       "NCompany                             0.215905\n",
       "Cocoa_Percent                        0.099727\n",
       "NBroad_Bean_Origin                   0.095968\n",
       "NCompany_Location                    0.076564\n",
       "Time_Difference                      0.067530\n",
       "NBean_Type                           0.054034"
      ]
     },
     "execution_count": 69,
     "metadata": {},
     "output_type": "execute_result"
    }
   ],
   "source": [
    "# Here I am computing the feature importance\n",
    "feature_importance= pd.DataFrame(data=best_model.feature_importances_,\n",
    "                 index  = best_model.get_booster().feature_names,\n",
    "                 columns= ['importance'])\n",
    "feature_importance.sort_values('importance', ascending=False).head(10)"
   ]
  },
  {
   "cell_type": "code",
   "execution_count": 70,
   "id": "cc5d9b0a-3c78-4f45-8025-685edc63e4e9",
   "metadata": {},
   "outputs": [
    {
     "data": {
      "text/plain": [
       "<Figure size 720x360 with 0 Axes>"
      ]
     },
     "metadata": {},
     "output_type": "display_data"
    },
    {
     "data": {
      "image/png": "[encoded data removed]",
      "text/plain": [
       "<Figure size 432x288 with 1 Axes>"
      ]
     },
     "metadata": {
      "needs_background": "light"
     },
     "output_type": "display_data"
    }
   ],
   "source": [
    "plt.figure(figsize=(10, 5))\n",
    "fig1 = feature_importance.sort_values('importance', ascending=False).head(10)\n",
    "fig1.plot(kind='barh', title='Feature Importance',color='brown')\n",
    "plt.legend(loc='upper right')\n",
    "plt.show()"
   ]
  },
  {
   "cell_type": "markdown",
   "id": "cc2cccd2-e510-428f-ba1d-abb7b275b527",
   "metadata": {},
   "source": [
    "#### The model is still giving a lot of importance to the same features, as expected.\n",
    "\n",
    "#### However, if you recall from cell 18:\n",
    "df.nunique()\n",
    "- Company = 416; Specific_Bean_Origin_or_Bar_Name = 1039; REF = 440; Review_Date = 12; Cocoa_Percent = 45;\n",
    "- Company_Location = 60; Rating = 13; Bean_Type = 41; Broad_Bean_Origin = 100\n",
    "\n",
    "#### We have TOO many classes for the Specific_Bean_Origin_or_Bar_Name and Company features, do remember that the amount of rows are around 1700. In a way, the model can not perform very well under these circustances due to this amount of classes, simply because to train and validate it is almost impossible, given taht we have more than half of classes for the whole dataset. Therefore, we may perform some engineering to reduce the amount of classes in these two features."
   ]
  },
  {
   "cell_type": "markdown",
   "id": "3ab96882-b441-4563-a7bf-9ba4466b4079",
   "metadata": {},
   "source": [
    "#### BUT, before tackling the classes modifcation, let's try different models and see what we get."
   ]
  },
  {
   "cell_type": "code",
   "execution_count": 71,
   "id": "69af1f14-081a-41ca-9021-1e95888640fc",
   "metadata": {},
   "outputs": [
    {
     "name": "stdout",
     "output_type": "stream",
     "text": [
      "Model: LinearRegression\n",
      "Mean absolute error (MAE): 0.3078194366873222\n",
      "Root Mean squared error (RMSE): 0.3930431188408492\n",
      "R2 score train data: 0.3191725737979273\n",
      "R2 score test data: 0.33171402979637843\n",
      "\n",
      "Model: DecisionTreeRegressor\n",
      "Mean absolute error (MAE): 0.21727019498607242\n",
      "Root Mean squared error (RMSE): 0.38058743628420216\n",
      "R2 score train data: 0.9996176370502243\n",
      "R2 score test data: 0.3733993454728539\n",
      "\n",
      "Model: RandomForestRegressor\n",
      "Mean absolute error (MAE): 0.18174326833797588\n",
      "Root Mean squared error (RMSE): 0.28761041875939386\n",
      "R2 score train data: 0.95358188760476\n",
      "R2 score test data: 0.6421581108104202\n",
      "\n",
      "Model: GradientBoostingRegressor\n",
      "Mean absolute error (MAE): 0.19400043341255022\n",
      "Root Mean squared error (RMSE): 0.29140491288713427\n",
      "R2 score train data: 0.7937982241690928\n",
      "R2 score test data: 0.6326536847227824\n",
      "\n"
     ]
    }
   ],
   "source": [
    "from sklearn.linear_model import LinearRegression\n",
    "from sklearn.tree import DecisionTreeRegressor\n",
    "from sklearn.ensemble import RandomForestRegressor, GradientBoostingRegressor\n",
    "\n",
    "\n",
    "def models_ensemble(X_train,Y_train,X_test,Y_test):\n",
    "    \"\"\"\n",
    "    This function computes different models, so it basically does a model ensemble. \n",
    "    \"\"\"\n",
    "    # Create a list of regression models\n",
    "    models_ = [LinearRegression(),\n",
    "               DecisionTreeRegressor(),\n",
    "               RandomForestRegressor(),\n",
    "               GradientBoostingRegressor()]\n",
    "\n",
    "    # Train and evaluate each model\n",
    "    for model in models_:\n",
    "        model.fit(X_train, Y_train)  # Train the model\n",
    "        y_pred_train = model.predict(X_train)  # Make predictions on the train set\n",
    "        y_pred = model.predict(X_test)  # Make predictions on the test set\n",
    "    \n",
    "        # Calculate evaluation metrics\n",
    "        r2_train = r2_score(Y_train, y_pred_train)\n",
    "        r2_test = r2_score(Y_test, y_pred)\n",
    "        mae = mean_absolute_error(Y_test, y_pred)\n",
    "        rmse = mean_squared_error(Y_test, y_pred, squared=False)\n",
    "    \n",
    "        # Print the performance metrics\n",
    "        print(f\"Model: {model.__class__.__name__}\")\n",
    "        print(f\"Mean absolute error (MAE): {mae}\")\n",
    "        print(f\"Root Mean squared error (RMSE): {rmse}\")\n",
    "        print(f\"R2 score train data: {r2_train}\")\n",
    "        print(f\"R2 score test data: {r2_test}\")\n",
    "        print()\n",
    "\n",
    "    return\n",
    "\n",
    "models_ensemble(X_train,Y_train,X_test,Y_test)"
   ]
  },
  {
   "cell_type": "markdown",
   "id": "41d0d52d-7ac3-453d-9ef1-e84fc34a40cc",
   "metadata": {},
   "source": [
    "#### Results from other techniques that are not XGBoost:\n",
    "- Linear Regression is not able to even model the training set, which is undertandable since it is not a linear problem, and it requires scaled data which is not our case;\n",
    "- DecisionTreeRegressor is clearly overfitting much more than our XGBoost;\n",
    "- RandomForestRegressor is also overfitting;\n",
    "- GradientBoostingRegressor has satisfactorily results but they are very comparable to XGBoost, so I think we can stick with XGBoost."
   ]
  },
  {
   "cell_type": "markdown",
   "id": "c8bb3bb0-449c-4a27-946a-0664b3551517",
   "metadata": {
    "tags": []
   },
   "source": [
    "### <b>6. Dealing with classes within features: Grouping or Aggregation</b>\n",
    "#### With the goal of trying to reduce the number of classes in the features with high importance to our model, I can think of three possibilities:\n",
    "1. <b>Specific_Bean_Origin_or_Bar_Name</b> --> Select the highest counted and put the other classes as \"Others\";\n",
    "2. <b>Company</b> --> also selected the companies that most appear in the ratings and change the others to \"Others\";\n",
    "3. <b>Ratings</b> --> I can change the ratings by rounding them to 1.0,1.5,2.0,2.5,3.0,3.5,4.0,4.5 and 5.0. Like it would be done when you rate something on google, for example. This could make the model perform better.\n",
    "\n",
    "#### Given that 3. may not change very much the output, I will first perform 1 and 2 and see if the model performs better. The 3rd is in included in the Appendix part."
   ]
  },
  {
   "cell_type": "code",
   "execution_count": 72,
   "id": "e1df96e7-7fc0-455e-9b84-56a65da943c3",
   "metadata": {},
   "outputs": [
    {
     "data": {
      "text/html": [
       "<div>\n",
       "<style scoped>\n",
       "    .dataframe tbody tr th:only-of-type {\n",
       "        vertical-align: middle;\n",
       "    }\n",
       "\n",
       "    .dataframe tbody tr th {\n",
       "        vertical-align: top;\n",
       "    }\n",
       "\n",
       "    .dataframe thead th {\n",
       "        text-align: right;\n",
       "    }\n",
       "</style>\n",
       "<table border=\"1\" class=\"dataframe\">\n",
       "  <thead>\n",
       "    <tr style=\"text-align: right;\">\n",
       "      <th></th>\n",
       "      <th>Company</th>\n",
       "      <th>Specific_Bean_Origin_or_Bar_Name</th>\n",
       "      <th>Cocoa_Percent</th>\n",
       "      <th>Company_Location</th>\n",
       "      <th>Rating</th>\n",
       "      <th>Bean_Type</th>\n",
       "      <th>Broad_Bean_Origin</th>\n",
       "      <th>Time_Difference</th>\n",
       "    </tr>\n",
       "  </thead>\n",
       "  <tbody>\n",
       "    <tr>\n",
       "      <th>0</th>\n",
       "      <td>A. Morin</td>\n",
       "      <td>Agua Grande</td>\n",
       "      <td>63.0</td>\n",
       "      <td>France</td>\n",
       "      <td>3.75</td>\n",
       "      <td>Unknown</td>\n",
       "      <td>Sao Tome</td>\n",
       "      <td>16.000000</td>\n",
       "    </tr>\n",
       "    <tr>\n",
       "      <th>1</th>\n",
       "      <td>A. Morin</td>\n",
       "      <td>Kpime</td>\n",
       "      <td>70.0</td>\n",
       "      <td>France</td>\n",
       "      <td>2.75</td>\n",
       "      <td>Unknown</td>\n",
       "      <td>Togo</td>\n",
       "      <td>15.000684</td>\n",
       "    </tr>\n",
       "    <tr>\n",
       "      <th>2</th>\n",
       "      <td>A. Morin</td>\n",
       "      <td>Atsane</td>\n",
       "      <td>70.0</td>\n",
       "      <td>France</td>\n",
       "      <td>3.00</td>\n",
       "      <td>Unknown</td>\n",
       "      <td>Togo</td>\n",
       "      <td>15.000684</td>\n",
       "    </tr>\n",
       "    <tr>\n",
       "      <th>3</th>\n",
       "      <td>A. Morin</td>\n",
       "      <td>Akata</td>\n",
       "      <td>70.0</td>\n",
       "      <td>France</td>\n",
       "      <td>3.50</td>\n",
       "      <td>Unknown</td>\n",
       "      <td>Togo</td>\n",
       "      <td>15.000684</td>\n",
       "    </tr>\n",
       "    <tr>\n",
       "      <th>4</th>\n",
       "      <td>A. Morin</td>\n",
       "      <td>Quilla</td>\n",
       "      <td>70.0</td>\n",
       "      <td>France</td>\n",
       "      <td>3.50</td>\n",
       "      <td>Unknown</td>\n",
       "      <td>Peru</td>\n",
       "      <td>15.000684</td>\n",
       "    </tr>\n",
       "    <tr>\n",
       "      <th>...</th>\n",
       "      <td>...</td>\n",
       "      <td>...</td>\n",
       "      <td>...</td>\n",
       "      <td>...</td>\n",
       "      <td>...</td>\n",
       "      <td>...</td>\n",
       "      <td>...</td>\n",
       "      <td>...</td>\n",
       "    </tr>\n",
       "    <tr>\n",
       "      <th>1790</th>\n",
       "      <td>Zotter</td>\n",
       "      <td>Peru</td>\n",
       "      <td>70.0</td>\n",
       "      <td>Austria</td>\n",
       "      <td>3.75</td>\n",
       "      <td>Unknown</td>\n",
       "      <td>Peru</td>\n",
       "      <td>11.000684</td>\n",
       "    </tr>\n",
       "    <tr>\n",
       "      <th>1791</th>\n",
       "      <td>Zotter</td>\n",
       "      <td>Congo</td>\n",
       "      <td>65.0</td>\n",
       "      <td>Austria</td>\n",
       "      <td>3.00</td>\n",
       "      <td>Forastero</td>\n",
       "      <td>Congo</td>\n",
       "      <td>11.000684</td>\n",
       "    </tr>\n",
       "    <tr>\n",
       "      <th>1792</th>\n",
       "      <td>Zotter</td>\n",
       "      <td>Kerala State</td>\n",
       "      <td>65.0</td>\n",
       "      <td>Austria</td>\n",
       "      <td>3.50</td>\n",
       "      <td>Forastero</td>\n",
       "      <td>India</td>\n",
       "      <td>11.000684</td>\n",
       "    </tr>\n",
       "    <tr>\n",
       "      <th>1793</th>\n",
       "      <td>Zotter</td>\n",
       "      <td>Kerala State</td>\n",
       "      <td>62.0</td>\n",
       "      <td>Austria</td>\n",
       "      <td>3.25</td>\n",
       "      <td>Unknown</td>\n",
       "      <td>India</td>\n",
       "      <td>11.000684</td>\n",
       "    </tr>\n",
       "    <tr>\n",
       "      <th>1794</th>\n",
       "      <td>Zotter</td>\n",
       "      <td>Brazil, Mitzi Blue</td>\n",
       "      <td>65.0</td>\n",
       "      <td>Austria</td>\n",
       "      <td>3.00</td>\n",
       "      <td>Unknown</td>\n",
       "      <td>Brazil</td>\n",
       "      <td>10.001369</td>\n",
       "    </tr>\n",
       "  </tbody>\n",
       "</table>\n",
       "<p>1795 rows × 8 columns</p>\n",
       "</div>"
      ],
      "text/plain": [
       "       Company Specific_Bean_Origin_or_Bar_Name  Cocoa_Percent  \\\n",
       "0     A. Morin                      Agua Grande           63.0   \n",
       "1     A. Morin                            Kpime           70.0   \n",
       "2     A. Morin                           Atsane           70.0   \n",
       "3     A. Morin                            Akata           70.0   \n",
       "4     A. Morin                           Quilla           70.0   \n",
       "...        ...                              ...            ...   \n",
       "1790    Zotter                             Peru           70.0   \n",
       "1791    Zotter                            Congo           65.0   \n",
       "1792    Zotter                     Kerala State           65.0   \n",
       "1793    Zotter                     Kerala State           62.0   \n",
       "1794    Zotter               Brazil, Mitzi Blue           65.0   \n",
       "\n",
       "     Company_Location  Rating  Bean_Type Broad_Bean_Origin  Time_Difference  \n",
       "0              France    3.75    Unknown          Sao Tome        16.000000  \n",
       "1              France    2.75    Unknown              Togo        15.000684  \n",
       "2              France    3.00    Unknown              Togo        15.000684  \n",
       "3              France    3.50    Unknown              Togo        15.000684  \n",
       "4              France    3.50    Unknown              Peru        15.000684  \n",
       "...               ...     ...        ...               ...              ...  \n",
       "1790          Austria    3.75    Unknown              Peru        11.000684  \n",
       "1791          Austria    3.00  Forastero             Congo        11.000684  \n",
       "1792          Austria    3.50  Forastero             India        11.000684  \n",
       "1793          Austria    3.25    Unknown             India        11.000684  \n",
       "1794          Austria    3.00    Unknown            Brazil        10.001369  \n",
       "\n",
       "[1795 rows x 8 columns]"
      ]
     },
     "execution_count": 72,
     "metadata": {},
     "output_type": "execute_result"
    }
   ],
   "source": [
    "df"
   ]
  },
  {
   "cell_type": "code",
   "execution_count": 88,
   "id": "dd9f94cb-e8ce-45cc-9083-051b07bb20aa",
   "metadata": {},
   "outputs": [],
   "source": [
    "df_new = df.copy()"
   ]
  },
  {
   "cell_type": "code",
   "execution_count": 89,
   "id": "f7ea332b-61e9-4d2a-b975-37bc3992507b",
   "metadata": {},
   "outputs": [],
   "source": [
    "top_bean_origins = df_new.Specific_Bean_Origin_or_Bar_Name.value_counts().head(170)"
   ]
  },
  {
   "cell_type": "code",
   "execution_count": 90,
   "id": "5309b992-6465-4e1f-a331-93d98ffb2dd4",
   "metadata": {},
   "outputs": [
    {
     "data": {
      "text/plain": [
       "Madagascar                57\n",
       "Peru                      45\n",
       "Ecuador                   42\n",
       "Dominican Republic        37\n",
       "Venezuela                 21\n",
       "                          ..\n",
       "Colombian                  2\n",
       "Haleiwa E, O'ahu, 2014     2\n",
       "Virunga                    2\n",
       "Principe                   2\n",
       "Blend No. 1                2\n",
       "Name: Specific_Bean_Origin_or_Bar_Name, Length: 170, dtype: int64"
      ]
     },
     "execution_count": 90,
     "metadata": {},
     "output_type": "execute_result"
    }
   ],
   "source": [
    "top_bean_origins"
   ]
  },
  {
   "cell_type": "code",
   "execution_count": 91,
   "id": "2b6f01d7-172c-4855-ba55-fae7d75b5f38",
   "metadata": {},
   "outputs": [
    {
     "data": {
      "text/plain": [
       "50.9192200557103"
      ]
     },
     "execution_count": 91,
     "metadata": {},
     "output_type": "execute_result"
    }
   ],
   "source": [
    "df_new.loc[df_new.Specific_Bean_Origin_or_Bar_Name.isin(top_bean_origins.index),:].shape[0] / df_new.shape[0] * 100"
   ]
  },
  {
   "cell_type": "markdown",
   "id": "698dd46d-cf7b-41fb-8fa5-612c5a52c74d",
   "metadata": {},
   "source": [
    "Important: 51% of the Bean Origin correspond 170 of the classes (out of 1039). Therefore, we can let these 170 classes and then classify the others as \"Others\"."
   ]
  },
  {
   "cell_type": "code",
   "execution_count": 92,
   "id": "d1e002ec-cd38-4087-a4a9-8c57cd2743ee",
   "metadata": {},
   "outputs": [],
   "source": [
    "def class_reduction(a):\n",
    "    \"\"\"\n",
    "    This function simply reduce the amount of classes by grouping the classes on top_bean_origins or others, within the\n",
    "    feature Bean_Origins\n",
    "    \"\"\"\n",
    "    if a in top_bean_origins:\n",
    "        return a\n",
    "    else:\n",
    "        return \"Others\""
   ]
  },
  {
   "cell_type": "code",
   "execution_count": 93,
   "id": "a3bc65ba-ac68-4d2d-9928-e723d1db7501",
   "metadata": {},
   "outputs": [],
   "source": [
    "df_new['Specific_Bean_Origin_cleaned'] = df_new['Specific_Bean_Origin_or_Bar_Name'].apply(class_reduction)\n",
    "df_new = df_new.drop(['Specific_Bean_Origin_or_Bar_Name'],axis=1)"
   ]
  },
  {
   "cell_type": "code",
   "execution_count": 94,
   "id": "d47e6ce4-ef5c-41f0-b388-c50ac4fb6789",
   "metadata": {},
   "outputs": [
    {
     "data": {
      "text/html": [
       "<div>\n",
       "<style scoped>\n",
       "    .dataframe tbody tr th:only-of-type {\n",
       "        vertical-align: middle;\n",
       "    }\n",
       "\n",
       "    .dataframe tbody tr th {\n",
       "        vertical-align: top;\n",
       "    }\n",
       "\n",
       "    .dataframe thead th {\n",
       "        text-align: right;\n",
       "    }\n",
       "</style>\n",
       "<table border=\"1\" class=\"dataframe\">\n",
       "  <thead>\n",
       "    <tr style=\"text-align: right;\">\n",
       "      <th></th>\n",
       "      <th>Company</th>\n",
       "      <th>Cocoa_Percent</th>\n",
       "      <th>Company_Location</th>\n",
       "      <th>Rating</th>\n",
       "      <th>Bean_Type</th>\n",
       "      <th>Broad_Bean_Origin</th>\n",
       "      <th>Time_Difference</th>\n",
       "      <th>Specific_Bean_Origin_cleaned</th>\n",
       "    </tr>\n",
       "  </thead>\n",
       "  <tbody>\n",
       "    <tr>\n",
       "      <th>0</th>\n",
       "      <td>A. Morin</td>\n",
       "      <td>63.0</td>\n",
       "      <td>France</td>\n",
       "      <td>3.75</td>\n",
       "      <td>Unknown</td>\n",
       "      <td>Sao Tome</td>\n",
       "      <td>16.000000</td>\n",
       "      <td>Others</td>\n",
       "    </tr>\n",
       "    <tr>\n",
       "      <th>1</th>\n",
       "      <td>A. Morin</td>\n",
       "      <td>70.0</td>\n",
       "      <td>France</td>\n",
       "      <td>2.75</td>\n",
       "      <td>Unknown</td>\n",
       "      <td>Togo</td>\n",
       "      <td>15.000684</td>\n",
       "      <td>Others</td>\n",
       "    </tr>\n",
       "    <tr>\n",
       "      <th>2</th>\n",
       "      <td>A. Morin</td>\n",
       "      <td>70.0</td>\n",
       "      <td>France</td>\n",
       "      <td>3.00</td>\n",
       "      <td>Unknown</td>\n",
       "      <td>Togo</td>\n",
       "      <td>15.000684</td>\n",
       "      <td>Others</td>\n",
       "    </tr>\n",
       "    <tr>\n",
       "      <th>3</th>\n",
       "      <td>A. Morin</td>\n",
       "      <td>70.0</td>\n",
       "      <td>France</td>\n",
       "      <td>3.50</td>\n",
       "      <td>Unknown</td>\n",
       "      <td>Togo</td>\n",
       "      <td>15.000684</td>\n",
       "      <td>Others</td>\n",
       "    </tr>\n",
       "    <tr>\n",
       "      <th>4</th>\n",
       "      <td>A. Morin</td>\n",
       "      <td>70.0</td>\n",
       "      <td>France</td>\n",
       "      <td>3.50</td>\n",
       "      <td>Unknown</td>\n",
       "      <td>Peru</td>\n",
       "      <td>15.000684</td>\n",
       "      <td>Others</td>\n",
       "    </tr>\n",
       "    <tr>\n",
       "      <th>...</th>\n",
       "      <td>...</td>\n",
       "      <td>...</td>\n",
       "      <td>...</td>\n",
       "      <td>...</td>\n",
       "      <td>...</td>\n",
       "      <td>...</td>\n",
       "      <td>...</td>\n",
       "      <td>...</td>\n",
       "    </tr>\n",
       "    <tr>\n",
       "      <th>1790</th>\n",
       "      <td>Zotter</td>\n",
       "      <td>70.0</td>\n",
       "      <td>Austria</td>\n",
       "      <td>3.75</td>\n",
       "      <td>Unknown</td>\n",
       "      <td>Peru</td>\n",
       "      <td>11.000684</td>\n",
       "      <td>Peru</td>\n",
       "    </tr>\n",
       "    <tr>\n",
       "      <th>1791</th>\n",
       "      <td>Zotter</td>\n",
       "      <td>65.0</td>\n",
       "      <td>Austria</td>\n",
       "      <td>3.00</td>\n",
       "      <td>Forastero</td>\n",
       "      <td>Congo</td>\n",
       "      <td>11.000684</td>\n",
       "      <td>Congo</td>\n",
       "    </tr>\n",
       "    <tr>\n",
       "      <th>1792</th>\n",
       "      <td>Zotter</td>\n",
       "      <td>65.0</td>\n",
       "      <td>Austria</td>\n",
       "      <td>3.50</td>\n",
       "      <td>Forastero</td>\n",
       "      <td>India</td>\n",
       "      <td>11.000684</td>\n",
       "      <td>Others</td>\n",
       "    </tr>\n",
       "    <tr>\n",
       "      <th>1793</th>\n",
       "      <td>Zotter</td>\n",
       "      <td>62.0</td>\n",
       "      <td>Austria</td>\n",
       "      <td>3.25</td>\n",
       "      <td>Unknown</td>\n",
       "      <td>India</td>\n",
       "      <td>11.000684</td>\n",
       "      <td>Others</td>\n",
       "    </tr>\n",
       "    <tr>\n",
       "      <th>1794</th>\n",
       "      <td>Zotter</td>\n",
       "      <td>65.0</td>\n",
       "      <td>Austria</td>\n",
       "      <td>3.00</td>\n",
       "      <td>Unknown</td>\n",
       "      <td>Brazil</td>\n",
       "      <td>10.001369</td>\n",
       "      <td>Others</td>\n",
       "    </tr>\n",
       "  </tbody>\n",
       "</table>\n",
       "<p>1795 rows × 8 columns</p>\n",
       "</div>"
      ],
      "text/plain": [
       "       Company  Cocoa_Percent Company_Location  Rating  Bean_Type  \\\n",
       "0     A. Morin           63.0           France    3.75    Unknown   \n",
       "1     A. Morin           70.0           France    2.75    Unknown   \n",
       "2     A. Morin           70.0           France    3.00    Unknown   \n",
       "3     A. Morin           70.0           France    3.50    Unknown   \n",
       "4     A. Morin           70.0           France    3.50    Unknown   \n",
       "...        ...            ...              ...     ...        ...   \n",
       "1790    Zotter           70.0          Austria    3.75    Unknown   \n",
       "1791    Zotter           65.0          Austria    3.00  Forastero   \n",
       "1792    Zotter           65.0          Austria    3.50  Forastero   \n",
       "1793    Zotter           62.0          Austria    3.25    Unknown   \n",
       "1794    Zotter           65.0          Austria    3.00    Unknown   \n",
       "\n",
       "     Broad_Bean_Origin  Time_Difference Specific_Bean_Origin_cleaned  \n",
       "0             Sao Tome        16.000000                       Others  \n",
       "1                 Togo        15.000684                       Others  \n",
       "2                 Togo        15.000684                       Others  \n",
       "3                 Togo        15.000684                       Others  \n",
       "4                 Peru        15.000684                       Others  \n",
       "...                ...              ...                          ...  \n",
       "1790              Peru        11.000684                         Peru  \n",
       "1791             Congo        11.000684                        Congo  \n",
       "1792             India        11.000684                       Others  \n",
       "1793             India        11.000684                       Others  \n",
       "1794            Brazil        10.001369                       Others  \n",
       "\n",
       "[1795 rows x 8 columns]"
      ]
     },
     "execution_count": 94,
     "metadata": {},
     "output_type": "execute_result"
    }
   ],
   "source": [
    "df_new"
   ]
  },
  {
   "cell_type": "code",
   "execution_count": 95,
   "id": "f862f54b-e58f-49d1-a639-953060bf54d5",
   "metadata": {},
   "outputs": [
    {
     "data": {
      "text/plain": [
       "Others                        881\n",
       "Madagascar                     57\n",
       "Peru                           45\n",
       "Ecuador                        42\n",
       "Dominican Republic             37\n",
       "                             ... \n",
       "Brazilian                       2\n",
       "Maranon, Cajamarca              2\n",
       "Sierra Nevada                   2\n",
       "Akesson's E., Sambirano V.      2\n",
       "Blend No. 1                     2\n",
       "Name: Specific_Bean_Origin_cleaned, Length: 171, dtype: int64"
      ]
     },
     "execution_count": 95,
     "metadata": {},
     "output_type": "execute_result"
    }
   ],
   "source": [
    "# How many classes do we have now?\n",
    "df_new['Specific_Bean_Origin_cleaned'].value_counts()"
   ]
  },
  {
   "cell_type": "markdown",
   "id": "47cd06e5-885c-47b2-9323-d3982e9e319b",
   "metadata": {},
   "source": [
    "#### Reducing the classes on the Company features"
   ]
  },
  {
   "cell_type": "code",
   "execution_count": 96,
   "id": "8169aea4-96cd-46ee-adce-bd8d6749b7e9",
   "metadata": {},
   "outputs": [
    {
     "data": {
      "text/plain": [
       "Soma              47\n",
       "Bonnat            27\n",
       "Fresco            26\n",
       "Pralus            25\n",
       "A. Morin          23\n",
       "                  ..\n",
       "Dormouse           4\n",
       "Silvio Bessone     4\n",
       "Cacao Atlanta      4\n",
       "Mars               4\n",
       "Belcolade          4\n",
       "Name: Company, Length: 150, dtype: int64"
      ]
     },
     "execution_count": 96,
     "metadata": {},
     "output_type": "execute_result"
    }
   ],
   "source": [
    "top_company=df_new.Company.value_counts().head(150)\n",
    "top_company"
   ]
  },
  {
   "cell_type": "code",
   "execution_count": 97,
   "id": "e6990368-ec6f-4184-a29b-9004250a7db4",
   "metadata": {},
   "outputs": [
    {
     "data": {
      "text/plain": [
       "72.14484679665738"
      ]
     },
     "execution_count": 97,
     "metadata": {},
     "output_type": "execute_result"
    }
   ],
   "source": [
    "df_new.loc[df_new.Company.isin(top_company.index),:].shape[0] / df_new.shape[0] * 100"
   ]
  },
  {
   "cell_type": "markdown",
   "id": "4559a8f3-b53a-483a-aa6f-4a99a0d5a4bc",
   "metadata": {},
   "source": [
    "#### 72% of the companies are on 150 classes."
   ]
  },
  {
   "cell_type": "code",
   "execution_count": 98,
   "id": "db975d83-b7d9-4a19-b313-e312f995c45c",
   "metadata": {},
   "outputs": [],
   "source": [
    "def class_reduction_company(a):\n",
    "    \"\"\"\n",
    "    This function simply reduce the amount of classes by grouping the classes on top_company or others, within the\n",
    "    feature Company\n",
    "    \"\"\"\n",
    "    if a in top_company:\n",
    "        return a\n",
    "    else:\n",
    "        return \"Others\""
   ]
  },
  {
   "cell_type": "markdown",
   "id": "f052d0c7-08e9-4d5c-b798-18d6a1518dfc",
   "metadata": {},
   "source": [
    "#### Here we see that 72% ratings are concentrated on 97 classes. So, we can reduce it as well."
   ]
  },
  {
   "cell_type": "code",
   "execution_count": 99,
   "id": "1e9b3d51-c644-4ed1-b40c-0bf5aaacffcb",
   "metadata": {},
   "outputs": [
    {
     "data": {
      "text/html": [
       "<div>\n",
       "<style scoped>\n",
       "    .dataframe tbody tr th:only-of-type {\n",
       "        vertical-align: middle;\n",
       "    }\n",
       "\n",
       "    .dataframe tbody tr th {\n",
       "        vertical-align: top;\n",
       "    }\n",
       "\n",
       "    .dataframe thead th {\n",
       "        text-align: right;\n",
       "    }\n",
       "</style>\n",
       "<table border=\"1\" class=\"dataframe\">\n",
       "  <thead>\n",
       "    <tr style=\"text-align: right;\">\n",
       "      <th></th>\n",
       "      <th>Cocoa_Percent</th>\n",
       "      <th>Company_Location</th>\n",
       "      <th>Rating</th>\n",
       "      <th>Bean_Type</th>\n",
       "      <th>Broad_Bean_Origin</th>\n",
       "      <th>Time_Difference</th>\n",
       "      <th>Specific_Bean_Origin_cleaned</th>\n",
       "      <th>Company_cleaned</th>\n",
       "    </tr>\n",
       "  </thead>\n",
       "  <tbody>\n",
       "    <tr>\n",
       "      <th>0</th>\n",
       "      <td>63.0</td>\n",
       "      <td>France</td>\n",
       "      <td>3.75</td>\n",
       "      <td>Unknown</td>\n",
       "      <td>Sao Tome</td>\n",
       "      <td>16.000000</td>\n",
       "      <td>Others</td>\n",
       "      <td>A. Morin</td>\n",
       "    </tr>\n",
       "    <tr>\n",
       "      <th>1</th>\n",
       "      <td>70.0</td>\n",
       "      <td>France</td>\n",
       "      <td>2.75</td>\n",
       "      <td>Unknown</td>\n",
       "      <td>Togo</td>\n",
       "      <td>15.000684</td>\n",
       "      <td>Others</td>\n",
       "      <td>A. Morin</td>\n",
       "    </tr>\n",
       "    <tr>\n",
       "      <th>2</th>\n",
       "      <td>70.0</td>\n",
       "      <td>France</td>\n",
       "      <td>3.00</td>\n",
       "      <td>Unknown</td>\n",
       "      <td>Togo</td>\n",
       "      <td>15.000684</td>\n",
       "      <td>Others</td>\n",
       "      <td>A. Morin</td>\n",
       "    </tr>\n",
       "    <tr>\n",
       "      <th>3</th>\n",
       "      <td>70.0</td>\n",
       "      <td>France</td>\n",
       "      <td>3.50</td>\n",
       "      <td>Unknown</td>\n",
       "      <td>Togo</td>\n",
       "      <td>15.000684</td>\n",
       "      <td>Others</td>\n",
       "      <td>A. Morin</td>\n",
       "    </tr>\n",
       "    <tr>\n",
       "      <th>4</th>\n",
       "      <td>70.0</td>\n",
       "      <td>France</td>\n",
       "      <td>3.50</td>\n",
       "      <td>Unknown</td>\n",
       "      <td>Peru</td>\n",
       "      <td>15.000684</td>\n",
       "      <td>Others</td>\n",
       "      <td>A. Morin</td>\n",
       "    </tr>\n",
       "    <tr>\n",
       "      <th>...</th>\n",
       "      <td>...</td>\n",
       "      <td>...</td>\n",
       "      <td>...</td>\n",
       "      <td>...</td>\n",
       "      <td>...</td>\n",
       "      <td>...</td>\n",
       "      <td>...</td>\n",
       "      <td>...</td>\n",
       "    </tr>\n",
       "    <tr>\n",
       "      <th>1790</th>\n",
       "      <td>70.0</td>\n",
       "      <td>Austria</td>\n",
       "      <td>3.75</td>\n",
       "      <td>Unknown</td>\n",
       "      <td>Peru</td>\n",
       "      <td>11.000684</td>\n",
       "      <td>Peru</td>\n",
       "      <td>Zotter</td>\n",
       "    </tr>\n",
       "    <tr>\n",
       "      <th>1791</th>\n",
       "      <td>65.0</td>\n",
       "      <td>Austria</td>\n",
       "      <td>3.00</td>\n",
       "      <td>Forastero</td>\n",
       "      <td>Congo</td>\n",
       "      <td>11.000684</td>\n",
       "      <td>Congo</td>\n",
       "      <td>Zotter</td>\n",
       "    </tr>\n",
       "    <tr>\n",
       "      <th>1792</th>\n",
       "      <td>65.0</td>\n",
       "      <td>Austria</td>\n",
       "      <td>3.50</td>\n",
       "      <td>Forastero</td>\n",
       "      <td>India</td>\n",
       "      <td>11.000684</td>\n",
       "      <td>Others</td>\n",
       "      <td>Zotter</td>\n",
       "    </tr>\n",
       "    <tr>\n",
       "      <th>1793</th>\n",
       "      <td>62.0</td>\n",
       "      <td>Austria</td>\n",
       "      <td>3.25</td>\n",
       "      <td>Unknown</td>\n",
       "      <td>India</td>\n",
       "      <td>11.000684</td>\n",
       "      <td>Others</td>\n",
       "      <td>Zotter</td>\n",
       "    </tr>\n",
       "    <tr>\n",
       "      <th>1794</th>\n",
       "      <td>65.0</td>\n",
       "      <td>Austria</td>\n",
       "      <td>3.00</td>\n",
       "      <td>Unknown</td>\n",
       "      <td>Brazil</td>\n",
       "      <td>10.001369</td>\n",
       "      <td>Others</td>\n",
       "      <td>Zotter</td>\n",
       "    </tr>\n",
       "  </tbody>\n",
       "</table>\n",
       "<p>1795 rows × 8 columns</p>\n",
       "</div>"
      ],
      "text/plain": [
       "      Cocoa_Percent Company_Location  Rating  Bean_Type Broad_Bean_Origin  \\\n",
       "0              63.0           France    3.75    Unknown          Sao Tome   \n",
       "1              70.0           France    2.75    Unknown              Togo   \n",
       "2              70.0           France    3.00    Unknown              Togo   \n",
       "3              70.0           France    3.50    Unknown              Togo   \n",
       "4              70.0           France    3.50    Unknown              Peru   \n",
       "...             ...              ...     ...        ...               ...   \n",
       "1790           70.0          Austria    3.75    Unknown              Peru   \n",
       "1791           65.0          Austria    3.00  Forastero             Congo   \n",
       "1792           65.0          Austria    3.50  Forastero             India   \n",
       "1793           62.0          Austria    3.25    Unknown             India   \n",
       "1794           65.0          Austria    3.00    Unknown            Brazil   \n",
       "\n",
       "      Time_Difference Specific_Bean_Origin_cleaned Company_cleaned  \n",
       "0           16.000000                       Others        A. Morin  \n",
       "1           15.000684                       Others        A. Morin  \n",
       "2           15.000684                       Others        A. Morin  \n",
       "3           15.000684                       Others        A. Morin  \n",
       "4           15.000684                       Others        A. Morin  \n",
       "...               ...                          ...             ...  \n",
       "1790        11.000684                         Peru          Zotter  \n",
       "1791        11.000684                        Congo          Zotter  \n",
       "1792        11.000684                       Others          Zotter  \n",
       "1793        11.000684                       Others          Zotter  \n",
       "1794        10.001369                       Others          Zotter  \n",
       "\n",
       "[1795 rows x 8 columns]"
      ]
     },
     "execution_count": 99,
     "metadata": {},
     "output_type": "execute_result"
    }
   ],
   "source": [
    "df_new['Company_cleaned'] = df_new['Company'].apply(class_reduction_company)\n",
    "df_new = df_new.drop(['Company'],axis=1)\n",
    "#df_new = time_diff(df_new)\n",
    "df_new"
   ]
  },
  {
   "cell_type": "code",
   "execution_count": 100,
   "id": "5805b5b1-96ca-42ff-a667-f1bc0e71da28",
   "metadata": {},
   "outputs": [
    {
     "data": {
      "text/plain": [
       "151"
      ]
     },
     "execution_count": 100,
     "metadata": {},
     "output_type": "execute_result"
    }
   ],
   "source": [
    "df_new['Company_cleaned'].nunique()"
   ]
  },
  {
   "cell_type": "code",
   "execution_count": 101,
   "id": "13354b48-759c-447e-a683-be4d0be917fc",
   "metadata": {},
   "outputs": [
    {
     "data": {
      "text/plain": [
       "Index(['Cocoa_Percent', 'Company_Location', 'Rating', 'Bean_Type',\n",
       "       'Broad_Bean_Origin', 'Time_Difference', 'Specific_Bean_Origin_cleaned',\n",
       "       'Company_cleaned'],\n",
       "      dtype='object')"
      ]
     },
     "execution_count": 101,
     "metadata": {},
     "output_type": "execute_result"
    }
   ],
   "source": [
    "df_new.columns"
   ]
  },
  {
   "cell_type": "code",
   "execution_count": 102,
   "id": "9cb4405e-df1a-4a32-b4b1-5a541ddde68d",
   "metadata": {},
   "outputs": [],
   "source": [
    "## ENCODING AGAIN\n",
    "\n",
    "df_encod_new = df_new.copy()\n",
    "\n",
    "features_new    = ['Company_cleaned','Specific_Bean_Origin_cleaned','Company_Location','Bean_Type','Broad_Bean_Origin']\n",
    "new_features_new = ['NCompany_cleaned','NSpecific_Bean_Origin_cleaned','NCompany_Location','NBean_Type','NBroad_Bean_Origin']\n",
    "\n",
    "m = 100 # Just an intial guess\n",
    "for i in range(len(features_new)):\n",
    "    df_encod_new[new_features_new[i]]=calc_average_smooth(df_encod_new, by=features_new[i], on='Rating',m=100)\n",
    "    df_encod_new.drop(features_new[i], axis=1, inplace=True)"
   ]
  },
  {
   "cell_type": "code",
   "execution_count": 103,
   "id": "fbcfa002-c56a-47ba-ab9d-6ba58d703d0c",
   "metadata": {},
   "outputs": [
    {
     "data": {
      "text/html": [
       "<div>\n",
       "<style scoped>\n",
       "    .dataframe tbody tr th:only-of-type {\n",
       "        vertical-align: middle;\n",
       "    }\n",
       "\n",
       "    .dataframe tbody tr th {\n",
       "        vertical-align: top;\n",
       "    }\n",
       "\n",
       "    .dataframe thead th {\n",
       "        text-align: right;\n",
       "    }\n",
       "</style>\n",
       "<table border=\"1\" class=\"dataframe\">\n",
       "  <thead>\n",
       "    <tr style=\"text-align: right;\">\n",
       "      <th></th>\n",
       "      <th>Cocoa_Percent</th>\n",
       "      <th>Rating</th>\n",
       "      <th>Time_Difference</th>\n",
       "      <th>NCompany_cleaned</th>\n",
       "      <th>NSpecific_Bean_Origin_cleaned</th>\n",
       "      <th>NCompany_Location</th>\n",
       "      <th>NBean_Type</th>\n",
       "      <th>NBroad_Bean_Origin</th>\n",
       "    </tr>\n",
       "  </thead>\n",
       "  <tbody>\n",
       "    <tr>\n",
       "      <th>0</th>\n",
       "      <td>63.0</td>\n",
       "      <td>3.75</td>\n",
       "      <td>16.000000</td>\n",
       "      <td>3.222303</td>\n",
       "      <td>3.225630</td>\n",
       "      <td>3.225950</td>\n",
       "      <td>3.143313</td>\n",
       "      <td>3.184939</td>\n",
       "    </tr>\n",
       "    <tr>\n",
       "      <th>1</th>\n",
       "      <td>70.0</td>\n",
       "      <td>2.75</td>\n",
       "      <td>15.000684</td>\n",
       "      <td>3.222303</td>\n",
       "      <td>3.225630</td>\n",
       "      <td>3.225950</td>\n",
       "      <td>3.143313</td>\n",
       "      <td>3.182945</td>\n",
       "    </tr>\n",
       "    <tr>\n",
       "      <th>2</th>\n",
       "      <td>70.0</td>\n",
       "      <td>3.00</td>\n",
       "      <td>15.000684</td>\n",
       "      <td>3.222303</td>\n",
       "      <td>3.225630</td>\n",
       "      <td>3.225950</td>\n",
       "      <td>3.143313</td>\n",
       "      <td>3.182945</td>\n",
       "    </tr>\n",
       "    <tr>\n",
       "      <th>3</th>\n",
       "      <td>70.0</td>\n",
       "      <td>3.50</td>\n",
       "      <td>15.000684</td>\n",
       "      <td>3.222303</td>\n",
       "      <td>3.225630</td>\n",
       "      <td>3.225950</td>\n",
       "      <td>3.143313</td>\n",
       "      <td>3.182945</td>\n",
       "    </tr>\n",
       "    <tr>\n",
       "      <th>4</th>\n",
       "      <td>70.0</td>\n",
       "      <td>3.50</td>\n",
       "      <td>15.000684</td>\n",
       "      <td>3.222303</td>\n",
       "      <td>3.225630</td>\n",
       "      <td>3.225950</td>\n",
       "      <td>3.143313</td>\n",
       "      <td>3.156013</td>\n",
       "    </tr>\n",
       "    <tr>\n",
       "      <th>...</th>\n",
       "      <td>...</td>\n",
       "      <td>...</td>\n",
       "      <td>...</td>\n",
       "      <td>...</td>\n",
       "      <td>...</td>\n",
       "      <td>...</td>\n",
       "      <td>...</td>\n",
       "      <td>...</td>\n",
       "    </tr>\n",
       "    <tr>\n",
       "      <th>1790</th>\n",
       "      <td>70.0</td>\n",
       "      <td>3.75</td>\n",
       "      <td>11.000684</td>\n",
       "      <td>3.203789</td>\n",
       "      <td>3.104092</td>\n",
       "      <td>3.197169</td>\n",
       "      <td>3.143313</td>\n",
       "      <td>3.156013</td>\n",
       "    </tr>\n",
       "    <tr>\n",
       "      <th>1791</th>\n",
       "      <td>65.0</td>\n",
       "      <td>3.00</td>\n",
       "      <td>11.000684</td>\n",
       "      <td>3.203789</td>\n",
       "      <td>3.189640</td>\n",
       "      <td>3.197169</td>\n",
       "      <td>3.146221</td>\n",
       "      <td>3.198576</td>\n",
       "    </tr>\n",
       "    <tr>\n",
       "      <th>1792</th>\n",
       "      <td>65.0</td>\n",
       "      <td>3.50</td>\n",
       "      <td>11.000684</td>\n",
       "      <td>3.203789</td>\n",
       "      <td>3.225630</td>\n",
       "      <td>3.197169</td>\n",
       "      <td>3.146221</td>\n",
       "      <td>3.183590</td>\n",
       "    </tr>\n",
       "    <tr>\n",
       "      <th>1793</th>\n",
       "      <td>62.0</td>\n",
       "      <td>3.25</td>\n",
       "      <td>11.000684</td>\n",
       "      <td>3.203789</td>\n",
       "      <td>3.225630</td>\n",
       "      <td>3.197169</td>\n",
       "      <td>3.143313</td>\n",
       "      <td>3.183590</td>\n",
       "    </tr>\n",
       "    <tr>\n",
       "      <th>1794</th>\n",
       "      <td>65.0</td>\n",
       "      <td>3.00</td>\n",
       "      <td>10.001369</td>\n",
       "      <td>3.203789</td>\n",
       "      <td>3.225630</td>\n",
       "      <td>3.197169</td>\n",
       "      <td>3.143313</td>\n",
       "      <td>3.222110</td>\n",
       "    </tr>\n",
       "  </tbody>\n",
       "</table>\n",
       "<p>1795 rows × 8 columns</p>\n",
       "</div>"
      ],
      "text/plain": [
       "      Cocoa_Percent  Rating  Time_Difference  NCompany_cleaned  \\\n",
       "0              63.0    3.75        16.000000          3.222303   \n",
       "1              70.0    2.75        15.000684          3.222303   \n",
       "2              70.0    3.00        15.000684          3.222303   \n",
       "3              70.0    3.50        15.000684          3.222303   \n",
       "4              70.0    3.50        15.000684          3.222303   \n",
       "...             ...     ...              ...               ...   \n",
       "1790           70.0    3.75        11.000684          3.203789   \n",
       "1791           65.0    3.00        11.000684          3.203789   \n",
       "1792           65.0    3.50        11.000684          3.203789   \n",
       "1793           62.0    3.25        11.000684          3.203789   \n",
       "1794           65.0    3.00        10.001369          3.203789   \n",
       "\n",
       "      NSpecific_Bean_Origin_cleaned  NCompany_Location  NBean_Type  \\\n",
       "0                          3.225630           3.225950    3.143313   \n",
       "1                          3.225630           3.225950    3.143313   \n",
       "2                          3.225630           3.225950    3.143313   \n",
       "3                          3.225630           3.225950    3.143313   \n",
       "4                          3.225630           3.225950    3.143313   \n",
       "...                             ...                ...         ...   \n",
       "1790                       3.104092           3.197169    3.143313   \n",
       "1791                       3.189640           3.197169    3.146221   \n",
       "1792                       3.225630           3.197169    3.146221   \n",
       "1793                       3.225630           3.197169    3.143313   \n",
       "1794                       3.225630           3.197169    3.143313   \n",
       "\n",
       "      NBroad_Bean_Origin  \n",
       "0               3.184939  \n",
       "1               3.182945  \n",
       "2               3.182945  \n",
       "3               3.182945  \n",
       "4               3.156013  \n",
       "...                  ...  \n",
       "1790            3.156013  \n",
       "1791            3.198576  \n",
       "1792            3.183590  \n",
       "1793            3.183590  \n",
       "1794            3.222110  \n",
       "\n",
       "[1795 rows x 8 columns]"
      ]
     },
     "execution_count": 103,
     "metadata": {},
     "output_type": "execute_result"
    }
   ],
   "source": [
    "df_encod_new"
   ]
  },
  {
   "cell_type": "markdown",
   "id": "7271b78e-ac75-4399-8f25-fc0414ba6979",
   "metadata": {},
   "source": [
    "### <b>7. Re-modelling</b>\n",
    "\n",
    "#### Here I am going to use these changes in the classes within the features and check whether it performs better or not. At the end of this section, I will try to check whether the one hot encoding can improve the very first modelling I did as well."
   ]
  },
  {
   "cell_type": "code",
   "execution_count": 104,
   "id": "c537c0a5-7bb9-4115-be7c-1c1ba1613911",
   "metadata": {},
   "outputs": [],
   "source": [
    "X_new = df_encod_new.drop([\"Rating\"],axis =1)#,\"NContinent\",\"NCompany_cleaned\",\"NBroad_Bean_Origin\",\"NSpecific_Bean_Origin_cleaned\"],axis =1)#,\"NSpecific_Bean_Origin_or_Bar_Name\",\"NCompany\"],axis =1)\n",
    "Y_new = df_encod_new['Rating']\n",
    "X_train_v2,X_test_v2,Y_train_v2,Y_test_v2 = train_test_split(X_new,Y_new,test_size=0.2,random_state = 42)"
   ]
  },
  {
   "cell_type": "code",
   "execution_count": 105,
   "id": "c77f4d04-cf37-4f5d-b863-ac2d20a6e2ee",
   "metadata": {},
   "outputs": [
    {
     "name": "stdout",
     "output_type": "stream",
     "text": [
      "CPU times: user 114 µs, sys: 387 µs, total: 501 µs\n",
      "Wall time: 535 µs\n"
     ]
    }
   ],
   "source": [
    "%%time\n",
    "regrXGB_new = xgb.XGBRegressor(\n",
    "    booster='gbtree',\n",
    "    n_estimators=10000,\n",
    "    #early_stopping_rounds=50,\n",
    "    objective='reg:squarederror',#'reg:linear',\n",
    "    max_depth=5,\n",
    "    learning_rate=0.0008,                \n",
    "    gamma=0.5,\n",
    "    reg_alpha=0.1,\n",
    "    reg_lambda=0\n",
    ")"
   ]
  },
  {
   "cell_type": "code",
   "execution_count": 106,
   "id": "d129f1ba-0e70-41cd-ac7a-4a64ddff2363",
   "metadata": {},
   "outputs": [
    {
     "name": "stdout",
     "output_type": "stream",
     "text": [
      "[0]\tvalidation_0-rmse:2.72961\n",
      "[2000]\tvalidation_0-rmse:0.65348\n",
      "[4000]\tvalidation_0-rmse:0.35586\n",
      "[6000]\tvalidation_0-rmse:0.33686\n",
      "[8000]\tvalidation_0-rmse:0.33577\n",
      "[9999]\tvalidation_0-rmse:0.33568\n",
      "CPU times: user 1min 32s, sys: 4.19 s, total: 1min 36s\n",
      "Wall time: 17.1 s\n"
     ]
    },
    {
     "data": {
      "text/plain": [
       "XGBRegressor(base_score=0.5, booster='gbtree', colsample_bylevel=1,\n",
       "             colsample_bynode=1, colsample_bytree=1, enable_categorical=False,\n",
       "             gamma=0.5, gpu_id=-1, importance_type=None,\n",
       "             interaction_constraints='', learning_rate=0.0008, max_delta_step=0,\n",
       "             max_depth=5, min_child_weight=1, missing=nan,\n",
       "             monotone_constraints='()', n_estimators=10000, n_jobs=8,\n",
       "             num_parallel_tree=1, predictor='auto', random_state=0,\n",
       "             reg_alpha=0.1, reg_lambda=0, scale_pos_weight=1, subsample=1,\n",
       "             tree_method='exact', validate_parameters=1, verbosity=None)"
      ]
     },
     "execution_count": 106,
     "metadata": {},
     "output_type": "execute_result"
    }
   ],
   "source": [
    "%%time\n",
    "regrXGB_new.fit(X_train_v2, Y_train_v2,\n",
    "        eval_set=[(X_train_v2._get_numeric_data(), Y_train_v2._get_numeric_data())]\n",
    "        ,verbose=2000)"
   ]
  },
  {
   "cell_type": "code",
   "execution_count": 107,
   "id": "673eac9a-53cc-48f4-87c0-0478f110c74b",
   "metadata": {},
   "outputs": [
    {
     "name": "stdout",
     "output_type": "stream",
     "text": [
      "\tSMAPE: 4.366442387219465\n",
      "\tMean absolute error (MAE): 0.27035999231683844\n",
      "\tRoot Mean squared error (RMSE): 0.3356799117133899\n",
      "\tR2 score: 0.5050390519826176\n"
     ]
    }
   ],
   "source": [
    "print_metrics(X_train_v2,Y_train_v2,model=regrXGB_new)"
   ]
  },
  {
   "cell_type": "code",
   "execution_count": 108,
   "id": "6baabc2c-8c17-40fd-ba70-18d284e0e650",
   "metadata": {},
   "outputs": [
    {
     "name": "stdout",
     "output_type": "stream",
     "text": [
      "\tSMAPE: 5.01112030254188\n",
      "\tMean absolute error (MAE): 0.3042606424156338\n",
      "\tRoot Mean squared error (RMSE): 0.3864976967129074\n",
      "\tR2 score: 0.3537868826742574\n"
     ]
    }
   ],
   "source": [
    "print_metrics(X_test_v2,Y_test_v2,model=regrXGB_new)"
   ]
  },
  {
   "cell_type": "markdown",
   "id": "2317fa05-c39e-47fb-86fd-809b442abc90",
   "metadata": {},
   "source": [
    "#### Result: As we can see, these classes reduction actually did not improve the results, it got worse. Well, it's unfortunate but it is a result anyway."
   ]
  },
  {
   "cell_type": "code",
   "execution_count": 109,
   "id": "e27afa20-2625-4ddd-9dfc-13cb0be897a0",
   "metadata": {},
   "outputs": [
    {
     "data": {
      "text/html": [
       "<div>\n",
       "<style scoped>\n",
       "    .dataframe tbody tr th:only-of-type {\n",
       "        vertical-align: middle;\n",
       "    }\n",
       "\n",
       "    .dataframe tbody tr th {\n",
       "        vertical-align: top;\n",
       "    }\n",
       "\n",
       "    .dataframe thead th {\n",
       "        text-align: right;\n",
       "    }\n",
       "</style>\n",
       "<table border=\"1\" class=\"dataframe\">\n",
       "  <thead>\n",
       "    <tr style=\"text-align: right;\">\n",
       "      <th></th>\n",
       "      <th>importance</th>\n",
       "    </tr>\n",
       "  </thead>\n",
       "  <tbody>\n",
       "    <tr>\n",
       "      <th>NCompany_cleaned</th>\n",
       "      <td>0.404659</td>\n",
       "    </tr>\n",
       "    <tr>\n",
       "      <th>Cocoa_Percent</th>\n",
       "      <td>0.137940</td>\n",
       "    </tr>\n",
       "    <tr>\n",
       "      <th>NSpecific_Bean_Origin_cleaned</th>\n",
       "      <td>0.111910</td>\n",
       "    </tr>\n",
       "    <tr>\n",
       "      <th>NBroad_Bean_Origin</th>\n",
       "      <td>0.094347</td>\n",
       "    </tr>\n",
       "    <tr>\n",
       "      <th>NBean_Type</th>\n",
       "      <td>0.090669</td>\n",
       "    </tr>\n",
       "    <tr>\n",
       "      <th>Time_Difference</th>\n",
       "      <td>0.086552</td>\n",
       "    </tr>\n",
       "    <tr>\n",
       "      <th>NCompany_Location</th>\n",
       "      <td>0.073923</td>\n",
       "    </tr>\n",
       "  </tbody>\n",
       "</table>\n",
       "</div>"
      ],
      "text/plain": [
       "                               importance\n",
       "NCompany_cleaned                 0.404659\n",
       "Cocoa_Percent                    0.137940\n",
       "NSpecific_Bean_Origin_cleaned    0.111910\n",
       "NBroad_Bean_Origin               0.094347\n",
       "NBean_Type                       0.090669\n",
       "Time_Difference                  0.086552\n",
       "NCompany_Location                0.073923"
      ]
     },
     "execution_count": 109,
     "metadata": {},
     "output_type": "execute_result"
    }
   ],
   "source": [
    "# Here I am computing the feature importance\n",
    "feature_importance= pd.DataFrame(data=regrXGB_new.feature_importances_,\n",
    "                 index  = regrXGB_new.get_booster().feature_names,\n",
    "                 columns= ['importance'])\n",
    "feature_importance.sort_values('importance', ascending=False).head(10)"
   ]
  },
  {
   "cell_type": "code",
   "execution_count": 110,
   "id": "58bb1410-ee6c-46a8-8d84-6ac8ba4ac8b7",
   "metadata": {},
   "outputs": [
    {
     "data": {
      "text/plain": [
       "<Figure size 720x360 with 0 Axes>"
      ]
     },
     "metadata": {},
     "output_type": "display_data"
    },
    {
     "data": {
      "image/png": "[encoded data removed]",
      "text/plain": [
       "<Figure size 432x288 with 1 Axes>"
      ]
     },
     "metadata": {
      "needs_background": "light"
     },
     "output_type": "display_data"
    }
   ],
   "source": [
    "plt.figure(figsize=(10, 5))\n",
    "fig1 = feature_importance.sort_values('importance', ascending=False).head(10)\n",
    "fig1.plot(kind='barh', title='Feature Importance',color='brown')\n",
    "plt.legend(loc='upper right')\n",
    "plt.show()"
   ]
  },
  {
   "cell_type": "code",
   "execution_count": 111,
   "id": "6c416cfc-9417-4158-a6da-4a6dd8076810",
   "metadata": {},
   "outputs": [
    {
     "name": "stdout",
     "output_type": "stream",
     "text": [
      "Model: LinearRegression\n",
      "Mean absolute error (MAE): 0.3389005640915459\n",
      "Root Mean squared error (RMSE): 0.4291257003064197\n",
      "R2 score train data: 0.20484601413136838\n",
      "R2 score test data: 0.20338037813357923\n",
      "\n",
      "Model: DecisionTreeRegressor\n",
      "Mean absolute error (MAE): 0.38532961931290627\n",
      "Root Mean squared error (RMSE): 0.5115313728442271\n",
      "R2 score train data: 0.9865217060204058\n",
      "R2 score test data: -0.13194805739699578\n",
      "\n",
      "Model: RandomForestRegressor\n",
      "Mean absolute error (MAE): 0.312644628487421\n",
      "Root Mean squared error (RMSE): 0.39036178537336147\n",
      "R2 score train data: 0.8903434489016536\n",
      "R2 score test data: 0.34080099916387696\n",
      "\n",
      "Model: GradientBoostingRegressor\n",
      "Mean absolute error (MAE): 0.30354710375026844\n",
      "Root Mean squared error (RMSE): 0.38280482606854394\n",
      "R2 score train data: 0.5112222374869082\n",
      "R2 score test data: 0.3660766369902495\n",
      "\n"
     ]
    }
   ],
   "source": [
    "# Let's see if other models can perform better\n",
    "models_ensemble(X_train_v2,Y_train_v2,X_test_v2,Y_test_v2)"
   ]
  },
  {
   "cell_type": "markdown",
   "id": "37f0c4ec-a4aa-43bd-99ea-11b91bf0495e",
   "metadata": {},
   "source": [
    "#### As expected, no. At this stage, there is no reason to keep these classes reduction."
   ]
  },
  {
   "cell_type": "markdown",
   "id": "63a50aaa-4494-4bf9-a97f-1ea2c3b52dcb",
   "metadata": {},
   "source": [
    "### <b>8. Conclusions </b>"
   ]
  },
  {
   "cell_type": "markdown",
   "id": "10d65733-4d28-43c9-9ce2-e46eb69bc9a5",
   "metadata": {},
   "source": [
    "#### Throughout this notebook, we extensively analyzed and modeled the chocolate bar ratings dataset. The main findings can be summarized as follows:\n",
    "- Initially, we identified a significant number of missing values in the \"Bean_Type\" feature, which we replaced with a new class called \"Unknown.\"We observed that two features, namely \"Specific Bar Origin\" and \"Company,\" had a large number of distinct classes compared to the available data (around 1800 samples).\n",
    "- A correlation was discovered between two features, \"REF\" and \"Review_Date.\" To address this, we performed data engineering and created a new feature that captured information from both, avoiding the use of correlated features in our model.\n",
    "- As many features contained categorical data, encoding was necessary to prepare them for modeling. We chose to use a smoothed version of Target Encoding as our encoding method.\n",
    "- For modeling, we selected XGBoost and split the dataset into a training set (80% of the data). Given the limited amount of data, we decided not to use cross-validation to preserve as much data as possible for training and testing. Model evaluation was performed using SMAPE, MAE, RMSE, and R2 score on both the training and test sets. Initially, the model showed good performance on the first three metrics for both sets. However, the R2 score on the test set was lower than the training set, indicating potential overfitting or issues with reproducibility. To address this, we conducted hyperparameter tuning and selected the model with the lowest R2 score for both datasets. At this stage, we achieved satisfactory results considering the available dataset, but there was room for improvement and further exploration.\n",
    "    - We analyzed the feature importance and found that the model attributed significant importance to two features: \"Specific_Bean_Origin_or_Bar_Name\" and \"Company,\" which had a large number of classes. This raised several questions:\n",
    "        - What would happen if we dropped these features?\n",
    "        - How would the model perform if we grouped their classes?\n",
    "        - How would different encodings affect the model's performance?\n",
    "- Before addressing these questions, we conducted model ensembling, exploring different models to assess their performance compared to XGBoost. Ultimately, only one model performed as well as XGBoost, reaffirming its suitability for the task.\n",
    "- In an effort to improve the best model and answer the aforementioned questions, we attempted to aggregate classes within the \"Specific_Bean_Origin_or_Bar_Name\" and \"Company\" features and retrained the model. However, these modifications did not lead to improvement.\n",
    "- To conclude, it is very difficult for the model to get trained in a dataset with too many classes but not much data, specially because there will be classes that can not be reasonably split into training and test sets. That's why it is very unlikely we can improve the model we got, I believe there are only two ways to do that:\n",
    "    1. Aggregate more and better the classes: but this would require a reasonably significant amount of time to study all the classes in the features; \n",
    "    2. Synthetic Data Creation: by analyzing the statistical distribution of the features, we could create more data and increase the amount of data to feed the model. \n",
    "    Both would require more time to work on and it would go beyond this assignment, I believe.\n",
    "- Therefore, I believe our model satisfactorily reproduces the data given the complexity and amount of data and features we have available."
   ]
  },
  {
   "cell_type": "code",
   "execution_count": null,
   "id": "80a9303c-3b14-4543-be48-360f320f311b",
   "metadata": {},
   "outputs": [],
   "source": []
  },
  {
   "cell_type": "markdown",
   "id": "5513f5e8-b78a-47b8-a709-6cb55ae848dd",
   "metadata": {},
   "source": [
    "### <b>9. Appendix </b>: extra tests"
   ]
  },
  {
   "cell_type": "markdown",
   "id": "f74f214e-f7ff-4dfd-912d-34dd2cfca6e4",
   "metadata": {},
   "source": [
    "#### In this section, I performed several tests to see whether we can improve our best model or not, they are:\n",
    "- class reduction on Ratings\n",
    "- Model with One Hot Encoding\n",
    "- Encoding before splitting\n",
    "- Model with Feature Hash\n",
    "\n",
    "#### Results: None of these tests could improve our model. It is unfortunate but a result anyway and that's why I kept it."
   ]
  },
  {
   "cell_type": "code",
   "execution_count": 112,
   "id": "a9e110ca-ff12-49b1-b9b9-7d8df7674b1e",
   "metadata": {},
   "outputs": [],
   "source": [
    "test=df_encod.copy()"
   ]
  },
  {
   "cell_type": "code",
   "execution_count": 113,
   "id": "f8417ebf-de68-4df2-9843-9106340c696f",
   "metadata": {},
   "outputs": [
    {
     "data": {
      "text/html": [
       "<div>\n",
       "<style scoped>\n",
       "    .dataframe tbody tr th:only-of-type {\n",
       "        vertical-align: middle;\n",
       "    }\n",
       "\n",
       "    .dataframe tbody tr th {\n",
       "        vertical-align: top;\n",
       "    }\n",
       "\n",
       "    .dataframe thead th {\n",
       "        text-align: right;\n",
       "    }\n",
       "</style>\n",
       "<table border=\"1\" class=\"dataframe\">\n",
       "  <thead>\n",
       "    <tr style=\"text-align: right;\">\n",
       "      <th></th>\n",
       "      <th>Cocoa_Percent</th>\n",
       "      <th>Rating</th>\n",
       "      <th>Time_Difference</th>\n",
       "      <th>NCompany</th>\n",
       "      <th>NSpecific_Bean_Origin_or_Bar_Name</th>\n",
       "      <th>NCompany_Location</th>\n",
       "      <th>NBean_Type</th>\n",
       "      <th>NBroad_Bean_Origin</th>\n",
       "    </tr>\n",
       "  </thead>\n",
       "  <tbody>\n",
       "    <tr>\n",
       "      <th>0</th>\n",
       "      <td>63.0</td>\n",
       "      <td>3.75</td>\n",
       "      <td>16.000000</td>\n",
       "      <td>3.222303</td>\n",
       "      <td>3.191518</td>\n",
       "      <td>3.225950</td>\n",
       "      <td>3.143313</td>\n",
       "      <td>3.184939</td>\n",
       "    </tr>\n",
       "    <tr>\n",
       "      <th>1</th>\n",
       "      <td>70.0</td>\n",
       "      <td>2.75</td>\n",
       "      <td>15.000684</td>\n",
       "      <td>3.222303</td>\n",
       "      <td>3.181617</td>\n",
       "      <td>3.225950</td>\n",
       "      <td>3.143313</td>\n",
       "      <td>3.182945</td>\n",
       "    </tr>\n",
       "    <tr>\n",
       "      <th>2</th>\n",
       "      <td>70.0</td>\n",
       "      <td>3.00</td>\n",
       "      <td>15.000684</td>\n",
       "      <td>3.222303</td>\n",
       "      <td>3.184092</td>\n",
       "      <td>3.225950</td>\n",
       "      <td>3.143313</td>\n",
       "      <td>3.182945</td>\n",
       "    </tr>\n",
       "    <tr>\n",
       "      <th>3</th>\n",
       "      <td>70.0</td>\n",
       "      <td>3.50</td>\n",
       "      <td>15.000684</td>\n",
       "      <td>3.222303</td>\n",
       "      <td>3.189043</td>\n",
       "      <td>3.225950</td>\n",
       "      <td>3.143313</td>\n",
       "      <td>3.182945</td>\n",
       "    </tr>\n",
       "    <tr>\n",
       "      <th>4</th>\n",
       "      <td>70.0</td>\n",
       "      <td>3.50</td>\n",
       "      <td>15.000684</td>\n",
       "      <td>3.222303</td>\n",
       "      <td>3.189043</td>\n",
       "      <td>3.225950</td>\n",
       "      <td>3.143313</td>\n",
       "      <td>3.156013</td>\n",
       "    </tr>\n",
       "    <tr>\n",
       "      <th>...</th>\n",
       "      <td>...</td>\n",
       "      <td>...</td>\n",
       "      <td>...</td>\n",
       "      <td>...</td>\n",
       "      <td>...</td>\n",
       "      <td>...</td>\n",
       "      <td>...</td>\n",
       "      <td>...</td>\n",
       "    </tr>\n",
       "    <tr>\n",
       "      <th>1790</th>\n",
       "      <td>70.0</td>\n",
       "      <td>3.75</td>\n",
       "      <td>11.000684</td>\n",
       "      <td>3.203789</td>\n",
       "      <td>3.104092</td>\n",
       "      <td>3.197169</td>\n",
       "      <td>3.143313</td>\n",
       "      <td>3.156013</td>\n",
       "    </tr>\n",
       "    <tr>\n",
       "      <th>1791</th>\n",
       "      <td>65.0</td>\n",
       "      <td>3.00</td>\n",
       "      <td>11.000684</td>\n",
       "      <td>3.203789</td>\n",
       "      <td>3.189640</td>\n",
       "      <td>3.197169</td>\n",
       "      <td>3.146221</td>\n",
       "      <td>3.198576</td>\n",
       "    </tr>\n",
       "    <tr>\n",
       "      <th>1792</th>\n",
       "      <td>65.0</td>\n",
       "      <td>3.50</td>\n",
       "      <td>11.000684</td>\n",
       "      <td>3.203789</td>\n",
       "      <td>3.189640</td>\n",
       "      <td>3.197169</td>\n",
       "      <td>3.146221</td>\n",
       "      <td>3.183590</td>\n",
       "    </tr>\n",
       "    <tr>\n",
       "      <th>1793</th>\n",
       "      <td>62.0</td>\n",
       "      <td>3.25</td>\n",
       "      <td>11.000684</td>\n",
       "      <td>3.203789</td>\n",
       "      <td>3.189640</td>\n",
       "      <td>3.197169</td>\n",
       "      <td>3.143313</td>\n",
       "      <td>3.183590</td>\n",
       "    </tr>\n",
       "    <tr>\n",
       "      <th>1794</th>\n",
       "      <td>65.0</td>\n",
       "      <td>3.00</td>\n",
       "      <td>10.001369</td>\n",
       "      <td>3.203789</td>\n",
       "      <td>3.184092</td>\n",
       "      <td>3.197169</td>\n",
       "      <td>3.143313</td>\n",
       "      <td>3.222110</td>\n",
       "    </tr>\n",
       "  </tbody>\n",
       "</table>\n",
       "<p>1795 rows × 8 columns</p>\n",
       "</div>"
      ],
      "text/plain": [
       "      Cocoa_Percent  Rating  Time_Difference  NCompany  \\\n",
       "0              63.0    3.75        16.000000  3.222303   \n",
       "1              70.0    2.75        15.000684  3.222303   \n",
       "2              70.0    3.00        15.000684  3.222303   \n",
       "3              70.0    3.50        15.000684  3.222303   \n",
       "4              70.0    3.50        15.000684  3.222303   \n",
       "...             ...     ...              ...       ...   \n",
       "1790           70.0    3.75        11.000684  3.203789   \n",
       "1791           65.0    3.00        11.000684  3.203789   \n",
       "1792           65.0    3.50        11.000684  3.203789   \n",
       "1793           62.0    3.25        11.000684  3.203789   \n",
       "1794           65.0    3.00        10.001369  3.203789   \n",
       "\n",
       "      NSpecific_Bean_Origin_or_Bar_Name  NCompany_Location  NBean_Type  \\\n",
       "0                              3.191518           3.225950    3.143313   \n",
       "1                              3.181617           3.225950    3.143313   \n",
       "2                              3.184092           3.225950    3.143313   \n",
       "3                              3.189043           3.225950    3.143313   \n",
       "4                              3.189043           3.225950    3.143313   \n",
       "...                                 ...                ...         ...   \n",
       "1790                           3.104092           3.197169    3.143313   \n",
       "1791                           3.189640           3.197169    3.146221   \n",
       "1792                           3.189640           3.197169    3.146221   \n",
       "1793                           3.189640           3.197169    3.143313   \n",
       "1794                           3.184092           3.197169    3.143313   \n",
       "\n",
       "      NBroad_Bean_Origin  \n",
       "0               3.184939  \n",
       "1               3.182945  \n",
       "2               3.182945  \n",
       "3               3.182945  \n",
       "4               3.156013  \n",
       "...                  ...  \n",
       "1790            3.156013  \n",
       "1791            3.198576  \n",
       "1792            3.183590  \n",
       "1793            3.183590  \n",
       "1794            3.222110  \n",
       "\n",
       "[1795 rows x 8 columns]"
      ]
     },
     "execution_count": 113,
     "metadata": {},
     "output_type": "execute_result"
    }
   ],
   "source": [
    "test"
   ]
  },
  {
   "cell_type": "markdown",
   "id": "1db0f59c-91ba-4589-ab8f-a618058812dc",
   "metadata": {
    "tags": []
   },
   "source": [
    "#### Let's see if reducing the amount of classes on the Rating will help the modelling."
   ]
  },
  {
   "cell_type": "code",
   "execution_count": 114,
   "id": "100035e4-2d4c-41d6-ad89-2319a752ccb5",
   "metadata": {},
   "outputs": [],
   "source": [
    "def rating_to_stars(rating):\n",
    "    \"\"\"\n",
    "    This function groups the ratings in 1,2,3,4,5 like when you give stars on a review in Google, for example.\n",
    "    \"\"\"\n",
    "    if (rating == 0.0 ):\n",
    "        return 0\n",
    "    elif (rating > 0 ) and (rating <= 1.49 ):\n",
    "        return 1\n",
    "    elif (rating >= 1.50 ) and (rating <= 2.49 ):\n",
    "        return 2\n",
    "    elif (rating >= 2.50 ) and (rating <= 3.49 ):\n",
    "        return 3\n",
    "    elif (rating >= 3.50 ) and (rating <= 4.49 ):\n",
    "        return 4\n",
    "    else:\n",
    "        return 5"
   ]
  },
  {
   "cell_type": "code",
   "execution_count": 115,
   "id": "7961e748-0bbb-495f-a0c3-6cf9b48eb850",
   "metadata": {},
   "outputs": [],
   "source": [
    "test['Rating'] = test['Rating'].apply(rating_to_stars)"
   ]
  },
  {
   "cell_type": "code",
   "execution_count": 116,
   "id": "e57dd8d2-bdcf-4891-a535-39dbf50cf646",
   "metadata": {},
   "outputs": [
    {
     "data": {
      "text/plain": [
       "array([4, 3, 5, 2, 1])"
      ]
     },
     "execution_count": 116,
     "metadata": {},
     "output_type": "execute_result"
    }
   ],
   "source": [
    "test['Rating'].unique()"
   ]
  },
  {
   "cell_type": "code",
   "execution_count": 117,
   "id": "a5638a0d-dd5b-43da-ac6d-9a01a9995d00",
   "metadata": {},
   "outputs": [],
   "source": [
    "X_new_ = test.drop([\"Rating\"],axis =1)#,\"NSpecific_Bean_Origin_or_Bar_Name\",\"NCompany\"],axis =1)\n",
    "Y_new_ = test['Rating']\n",
    "X_train_v3,X_test_v3,Y_train_v3,Y_test_v3 = train_test_split(X_new_,Y_new_,test_size=0.2,random_state = 42)"
   ]
  },
  {
   "cell_type": "code",
   "execution_count": 118,
   "id": "4a241370-804e-4954-9d1e-a2b20b1d63a8",
   "metadata": {},
   "outputs": [
    {
     "name": "stdout",
     "output_type": "stream",
     "text": [
      "CPU times: user 82 µs, sys: 2 µs, total: 84 µs\n",
      "Wall time: 91.1 µs\n"
     ]
    }
   ],
   "source": [
    "%%time\n",
    "regrXGB_new = xgb.XGBRegressor(\n",
    "    booster='gbtree',\n",
    "    n_estimators=10000,\n",
    "    #early_stopping_rounds=50,\n",
    "    objective='reg:squarederror',#'reg:linear',\n",
    "    max_depth=5,\n",
    "    learning_rate=0.0008,                \n",
    "    gamma=0.5,\n",
    "    reg_alpha=0.1,\n",
    "    reg_lambda=0\n",
    "    \n",
    ")"
   ]
  },
  {
   "cell_type": "code",
   "execution_count": 119,
   "id": "b48a467d-4619-4c6d-b971-5f5ec1afee27",
   "metadata": {},
   "outputs": [
    {
     "name": "stdout",
     "output_type": "stream",
     "text": [
      "[0]\tvalidation_0-rmse:2.91377\n",
      "[2000]\tvalidation_0-rmse:0.65510\n",
      "[4000]\tvalidation_0-rmse:0.29660\n",
      "[6000]\tvalidation_0-rmse:0.26952\n",
      "[8000]\tvalidation_0-rmse:0.26775\n",
      "[9999]\tvalidation_0-rmse:0.26771\n",
      "CPU times: user 1min 36s, sys: 3.09 s, total: 1min 39s\n",
      "Wall time: 15.9 s\n"
     ]
    },
    {
     "data": {
      "text/plain": [
       "XGBRegressor(base_score=0.5, booster='gbtree', colsample_bylevel=1,\n",
       "             colsample_bynode=1, colsample_bytree=1, enable_categorical=False,\n",
       "             gamma=0.5, gpu_id=-1, importance_type=None,\n",
       "             interaction_constraints='', learning_rate=0.0008, max_delta_step=0,\n",
       "             max_depth=5, min_child_weight=1, missing=nan,\n",
       "             monotone_constraints='()', n_estimators=10000, n_jobs=8,\n",
       "             num_parallel_tree=1, predictor='auto', random_state=0,\n",
       "             reg_alpha=0.1, reg_lambda=0, scale_pos_weight=1, subsample=1,\n",
       "             tree_method='exact', validate_parameters=1, verbosity=None)"
      ]
     },
     "execution_count": 119,
     "metadata": {},
     "output_type": "execute_result"
    }
   ],
   "source": [
    "%%time\n",
    "regrXGB_new.fit(X_train_v3, Y_train_v3,\n",
    "        eval_set=[(X_train_v3._get_numeric_data(), Y_train_v3._get_numeric_data())]\n",
    "        ,verbose=2000)"
   ]
  },
  {
   "cell_type": "code",
   "execution_count": 120,
   "id": "88deca57-156e-4522-868f-1c228151665c",
   "metadata": {},
   "outputs": [
    {
     "name": "stdout",
     "output_type": "stream",
     "text": [
      "\tSMAPE: 2.570075870144309\n",
      "\tMean absolute error (MAE): 0.16755521795543787\n",
      "\tRoot Mean squared error (RMSE): 0.2677116330547972\n",
      "\tR2 score: 0.7671415647932818\n"
     ]
    }
   ],
   "source": [
    "print_metrics(X_train_v3,Y_train_v3,model=regrXGB_new)"
   ]
  },
  {
   "cell_type": "code",
   "execution_count": 121,
   "id": "266c3348-7338-4829-a333-de58126615d5",
   "metadata": {},
   "outputs": [
    {
     "name": "stdout",
     "output_type": "stream",
     "text": [
      "\tSMAPE: 3.6658052206045997\n",
      "\tMean absolute error (MAE): 0.2345117008453624\n",
      "\tRoot Mean squared error (RMSE): 0.3648478922299977\n",
      "\tR2 score: 0.5827042364323947\n"
     ]
    }
   ],
   "source": [
    "print_metrics(X_test_v3,Y_test_v3,model=regrXGB_new)"
   ]
  },
  {
   "cell_type": "markdown",
   "id": "db651d86-4c02-4c53-9b23-0efab2b42c43",
   "metadata": {},
   "source": [
    "#### Overfitting yet but still not as good the previous models. Therefore, we can say it did not improve to take this in consideration."
   ]
  },
  {
   "cell_type": "code",
   "execution_count": 122,
   "id": "efd40e9a-0a47-419d-a95f-ffccaff03790",
   "metadata": {},
   "outputs": [
    {
     "data": {
      "text/html": [
       "<div>\n",
       "<style scoped>\n",
       "    .dataframe tbody tr th:only-of-type {\n",
       "        vertical-align: middle;\n",
       "    }\n",
       "\n",
       "    .dataframe tbody tr th {\n",
       "        vertical-align: top;\n",
       "    }\n",
       "\n",
       "    .dataframe thead th {\n",
       "        text-align: right;\n",
       "    }\n",
       "</style>\n",
       "<table border=\"1\" class=\"dataframe\">\n",
       "  <thead>\n",
       "    <tr style=\"text-align: right;\">\n",
       "      <th></th>\n",
       "      <th>importance</th>\n",
       "    </tr>\n",
       "  </thead>\n",
       "  <tbody>\n",
       "    <tr>\n",
       "      <th>NSpecific_Bean_Origin_or_Bar_Name</th>\n",
       "      <td>0.465055</td>\n",
       "    </tr>\n",
       "    <tr>\n",
       "      <th>NCompany</th>\n",
       "      <td>0.173971</td>\n",
       "    </tr>\n",
       "    <tr>\n",
       "      <th>Cocoa_Percent</th>\n",
       "      <td>0.093779</td>\n",
       "    </tr>\n",
       "    <tr>\n",
       "      <th>Time_Difference</th>\n",
       "      <td>0.077201</td>\n",
       "    </tr>\n",
       "    <tr>\n",
       "      <th>NBean_Type</th>\n",
       "      <td>0.071840</td>\n",
       "    </tr>\n",
       "    <tr>\n",
       "      <th>NBroad_Bean_Origin</th>\n",
       "      <td>0.067871</td>\n",
       "    </tr>\n",
       "    <tr>\n",
       "      <th>NCompany_Location</th>\n",
       "      <td>0.050284</td>\n",
       "    </tr>\n",
       "  </tbody>\n",
       "</table>\n",
       "</div>"
      ],
      "text/plain": [
       "                                   importance\n",
       "NSpecific_Bean_Origin_or_Bar_Name    0.465055\n",
       "NCompany                             0.173971\n",
       "Cocoa_Percent                        0.093779\n",
       "Time_Difference                      0.077201\n",
       "NBean_Type                           0.071840\n",
       "NBroad_Bean_Origin                   0.067871\n",
       "NCompany_Location                    0.050284"
      ]
     },
     "execution_count": 122,
     "metadata": {},
     "output_type": "execute_result"
    }
   ],
   "source": [
    "# Here I am computing the feature importance\n",
    "feature_importance= pd.DataFrame(data=regrXGB_new.feature_importances_,\n",
    "                 index  = regrXGB_new.get_booster().feature_names,\n",
    "                 columns= ['importance'])\n",
    "feature_importance.sort_values('importance', ascending=False).head(10)"
   ]
  },
  {
   "cell_type": "code",
   "execution_count": 123,
   "id": "cc5c88bb-9f4a-4124-bc3b-67e92c893aa1",
   "metadata": {},
   "outputs": [
    {
     "data": {
      "text/plain": [
       "<Figure size 720x360 with 0 Axes>"
      ]
     },
     "metadata": {},
     "output_type": "display_data"
    },
    {
     "data": {
      "image/png": "[encoded data removed]",
      "text/plain": [
       "<Figure size 432x288 with 1 Axes>"
      ]
     },
     "metadata": {
      "needs_background": "light"
     },
     "output_type": "display_data"
    }
   ],
   "source": [
    "plt.figure(figsize=(10, 5))\n",
    "fig1 = feature_importance.sort_values('importance', ascending=False).head(10)\n",
    "fig1.plot(kind='barh', title='Feature Importance',color='brown')\n",
    "plt.legend(loc='upper right')\n",
    "plt.show()"
   ]
  },
  {
   "cell_type": "markdown",
   "id": "e36734dd-489a-4b5f-8063-9fdaf7f12602",
   "metadata": {},
   "source": [
    "### Given that we have tried several stuff, I also want to try the one hot encoding. "
   ]
  },
  {
   "cell_type": "code",
   "execution_count": 124,
   "id": "ef3e2f8d-7c7e-433a-b260-c5826a499da1",
   "metadata": {},
   "outputs": [],
   "source": [
    "def onehot_encode(data, columns):\n",
    "    \"\"\"\n",
    "    This function computes the one hot encoding for the features\n",
    "    \"\"\"\n",
    "    for column in columns:\n",
    "        dummies = pd.get_dummies(data[column])\n",
    "        data = pd.concat([data, dummies], axis=1)\n",
    "        data.drop(column, axis=1, inplace=True)\n",
    "    return data"
   ]
  },
  {
   "cell_type": "code",
   "execution_count": 125,
   "id": "42c6c00a-7546-458a-b4b4-6badede3354d",
   "metadata": {},
   "outputs": [],
   "source": [
    "# Applying one hot encoding and dropping duplicates. \n",
    "df_encod_onehot =onehot_encode(df,features)\n",
    "duplicate_columns = df_encod_onehot.columns[df_encod_onehot.columns.duplicated()]\n",
    "df_encod_onehot.drop(duplicate_columns, axis=1, inplace=True)"
   ]
  },
  {
   "cell_type": "code",
   "execution_count": 126,
   "id": "76a4e8e3-1921-4619-8b16-14f38a0f5cf3",
   "metadata": {},
   "outputs": [
    {
     "data": {
      "text/html": [
       "<div>\n",
       "<style scoped>\n",
       "    .dataframe tbody tr th:only-of-type {\n",
       "        vertical-align: middle;\n",
       "    }\n",
       "\n",
       "    .dataframe tbody tr th {\n",
       "        vertical-align: top;\n",
       "    }\n",
       "\n",
       "    .dataframe thead th {\n",
       "        text-align: right;\n",
       "    }\n",
       "</style>\n",
       "<table border=\"1\" class=\"dataframe\">\n",
       "  <thead>\n",
       "    <tr style=\"text-align: right;\">\n",
       "      <th></th>\n",
       "      <th>Cocoa_Percent</th>\n",
       "      <th>Rating</th>\n",
       "      <th>Time_Difference</th>\n",
       "      <th>NCompany</th>\n",
       "      <th>NSpecific_Bean_Origin_or_Bar_Name</th>\n",
       "      <th>NCompany_Location</th>\n",
       "      <th>NBean_Type</th>\n",
       "      <th>NBroad_Bean_Origin</th>\n",
       "    </tr>\n",
       "  </thead>\n",
       "  <tbody>\n",
       "    <tr>\n",
       "      <th>0</th>\n",
       "      <td>63.0</td>\n",
       "      <td>3.75</td>\n",
       "      <td>16.000000</td>\n",
       "      <td>3.222303</td>\n",
       "      <td>3.191518</td>\n",
       "      <td>3.225950</td>\n",
       "      <td>3.143313</td>\n",
       "      <td>3.184939</td>\n",
       "    </tr>\n",
       "    <tr>\n",
       "      <th>1</th>\n",
       "      <td>70.0</td>\n",
       "      <td>2.75</td>\n",
       "      <td>15.000684</td>\n",
       "      <td>3.222303</td>\n",
       "      <td>3.181617</td>\n",
       "      <td>3.225950</td>\n",
       "      <td>3.143313</td>\n",
       "      <td>3.182945</td>\n",
       "    </tr>\n",
       "    <tr>\n",
       "      <th>2</th>\n",
       "      <td>70.0</td>\n",
       "      <td>3.00</td>\n",
       "      <td>15.000684</td>\n",
       "      <td>3.222303</td>\n",
       "      <td>3.184092</td>\n",
       "      <td>3.225950</td>\n",
       "      <td>3.143313</td>\n",
       "      <td>3.182945</td>\n",
       "    </tr>\n",
       "    <tr>\n",
       "      <th>3</th>\n",
       "      <td>70.0</td>\n",
       "      <td>3.50</td>\n",
       "      <td>15.000684</td>\n",
       "      <td>3.222303</td>\n",
       "      <td>3.189043</td>\n",
       "      <td>3.225950</td>\n",
       "      <td>3.143313</td>\n",
       "      <td>3.182945</td>\n",
       "    </tr>\n",
       "    <tr>\n",
       "      <th>4</th>\n",
       "      <td>70.0</td>\n",
       "      <td>3.50</td>\n",
       "      <td>15.000684</td>\n",
       "      <td>3.222303</td>\n",
       "      <td>3.189043</td>\n",
       "      <td>3.225950</td>\n",
       "      <td>3.143313</td>\n",
       "      <td>3.156013</td>\n",
       "    </tr>\n",
       "    <tr>\n",
       "      <th>...</th>\n",
       "      <td>...</td>\n",
       "      <td>...</td>\n",
       "      <td>...</td>\n",
       "      <td>...</td>\n",
       "      <td>...</td>\n",
       "      <td>...</td>\n",
       "      <td>...</td>\n",
       "      <td>...</td>\n",
       "    </tr>\n",
       "    <tr>\n",
       "      <th>1790</th>\n",
       "      <td>70.0</td>\n",
       "      <td>3.75</td>\n",
       "      <td>11.000684</td>\n",
       "      <td>3.203789</td>\n",
       "      <td>3.104092</td>\n",
       "      <td>3.197169</td>\n",
       "      <td>3.143313</td>\n",
       "      <td>3.156013</td>\n",
       "    </tr>\n",
       "    <tr>\n",
       "      <th>1791</th>\n",
       "      <td>65.0</td>\n",
       "      <td>3.00</td>\n",
       "      <td>11.000684</td>\n",
       "      <td>3.203789</td>\n",
       "      <td>3.189640</td>\n",
       "      <td>3.197169</td>\n",
       "      <td>3.146221</td>\n",
       "      <td>3.198576</td>\n",
       "    </tr>\n",
       "    <tr>\n",
       "      <th>1792</th>\n",
       "      <td>65.0</td>\n",
       "      <td>3.50</td>\n",
       "      <td>11.000684</td>\n",
       "      <td>3.203789</td>\n",
       "      <td>3.189640</td>\n",
       "      <td>3.197169</td>\n",
       "      <td>3.146221</td>\n",
       "      <td>3.183590</td>\n",
       "    </tr>\n",
       "    <tr>\n",
       "      <th>1793</th>\n",
       "      <td>62.0</td>\n",
       "      <td>3.25</td>\n",
       "      <td>11.000684</td>\n",
       "      <td>3.203789</td>\n",
       "      <td>3.189640</td>\n",
       "      <td>3.197169</td>\n",
       "      <td>3.143313</td>\n",
       "      <td>3.183590</td>\n",
       "    </tr>\n",
       "    <tr>\n",
       "      <th>1794</th>\n",
       "      <td>65.0</td>\n",
       "      <td>3.00</td>\n",
       "      <td>10.001369</td>\n",
       "      <td>3.203789</td>\n",
       "      <td>3.184092</td>\n",
       "      <td>3.197169</td>\n",
       "      <td>3.143313</td>\n",
       "      <td>3.222110</td>\n",
       "    </tr>\n",
       "  </tbody>\n",
       "</table>\n",
       "<p>1795 rows × 8 columns</p>\n",
       "</div>"
      ],
      "text/plain": [
       "      Cocoa_Percent  Rating  Time_Difference  NCompany  \\\n",
       "0              63.0    3.75        16.000000  3.222303   \n",
       "1              70.0    2.75        15.000684  3.222303   \n",
       "2              70.0    3.00        15.000684  3.222303   \n",
       "3              70.0    3.50        15.000684  3.222303   \n",
       "4              70.0    3.50        15.000684  3.222303   \n",
       "...             ...     ...              ...       ...   \n",
       "1790           70.0    3.75        11.000684  3.203789   \n",
       "1791           65.0    3.00        11.000684  3.203789   \n",
       "1792           65.0    3.50        11.000684  3.203789   \n",
       "1793           62.0    3.25        11.000684  3.203789   \n",
       "1794           65.0    3.00        10.001369  3.203789   \n",
       "\n",
       "      NSpecific_Bean_Origin_or_Bar_Name  NCompany_Location  NBean_Type  \\\n",
       "0                              3.191518           3.225950    3.143313   \n",
       "1                              3.181617           3.225950    3.143313   \n",
       "2                              3.184092           3.225950    3.143313   \n",
       "3                              3.189043           3.225950    3.143313   \n",
       "4                              3.189043           3.225950    3.143313   \n",
       "...                                 ...                ...         ...   \n",
       "1790                           3.104092           3.197169    3.143313   \n",
       "1791                           3.189640           3.197169    3.146221   \n",
       "1792                           3.189640           3.197169    3.146221   \n",
       "1793                           3.189640           3.197169    3.143313   \n",
       "1794                           3.184092           3.197169    3.143313   \n",
       "\n",
       "      NBroad_Bean_Origin  \n",
       "0               3.184939  \n",
       "1               3.182945  \n",
       "2               3.182945  \n",
       "3               3.182945  \n",
       "4               3.156013  \n",
       "...                  ...  \n",
       "1790            3.156013  \n",
       "1791            3.198576  \n",
       "1792            3.183590  \n",
       "1793            3.183590  \n",
       "1794            3.222110  \n",
       "\n",
       "[1795 rows x 8 columns]"
      ]
     },
     "execution_count": 126,
     "metadata": {},
     "output_type": "execute_result"
    }
   ],
   "source": [
    "df_encod"
   ]
  },
  {
   "cell_type": "code",
   "execution_count": 127,
   "id": "75d0e294-a989-4d6e-b81e-e4ad5ee5e57d",
   "metadata": {},
   "outputs": [],
   "source": [
    "# Preparing the splits for the model\n",
    "X = df_encod_onehot.drop([\"Rating\"],axis =1)#,\"NSpecific_Bean_Origin_or_Bar_Name\",\"NCompany\"],axis =1)\n",
    "Y = df_encod_onehot['Rating']\n",
    "scaler = MinMaxScaler()\n",
    "X = pd.DataFrame(scaler.fit_transform(X), columns=X.columns)\n",
    "\n",
    "X_train_one,X_test_one,Y_train_one,Y_test_one = train_test_split(X,Y,test_size=0.2,random_state = 42)"
   ]
  },
  {
   "cell_type": "code",
   "execution_count": 128,
   "id": "13f371b3-f4b0-4488-a1e2-ca2af5db5c27",
   "metadata": {},
   "outputs": [
    {
     "data": {
      "text/plain": [
       "(1436, 1516)"
      ]
     },
     "execution_count": 128,
     "metadata": {},
     "output_type": "execute_result"
    }
   ],
   "source": [
    "X_train_one.shape\n",
    "# More features than data. :D"
   ]
  },
  {
   "cell_type": "code",
   "execution_count": 129,
   "id": "0f298ace-8158-4cf7-898e-717405c580ee",
   "metadata": {},
   "outputs": [
    {
     "name": "stdout",
     "output_type": "stream",
     "text": [
      "CPU times: user 37 µs, sys: 1e+03 ns, total: 38 µs\n",
      "Wall time: 42 µs\n"
     ]
    }
   ],
   "source": [
    "%%time\n",
    "regrXGB_one_hot = xgb.XGBRegressor(\n",
    "    booster='gbtree',\n",
    "    n_estimators=10000,\n",
    "    #early_stopping_rounds=50,\n",
    "    objective='reg:squarederror',#'reg:linear',\n",
    "    max_depth=5,\n",
    "    learning_rate=0.0008,\n",
    ")\n"
   ]
  },
  {
   "cell_type": "code",
   "execution_count": 130,
   "id": "bb4130f0-684c-4309-bf96-2330924b8a1e",
   "metadata": {},
   "outputs": [
    {
     "name": "stdout",
     "output_type": "stream",
     "text": [
      "[0]\tvalidation_0-rmse:2.72963\n",
      "[2000]\tvalidation_0-rmse:0.68848\n",
      "[4000]\tvalidation_0-rmse:0.41458\n",
      "[6000]\tvalidation_0-rmse:0.38910\n",
      "[8000]\tvalidation_0-rmse:0.37966\n",
      "[9999]\tvalidation_0-rmse:0.37194\n",
      "CPU times: user 1h 18min 42s, sys: 2min 1s, total: 1h 20min 43s\n",
      "Wall time: 11min 44s\n"
     ]
    },
    {
     "data": {
      "text/plain": [
       "XGBRegressor(base_score=0.5, booster='gbtree', colsample_bylevel=1,\n",
       "             colsample_bynode=1, colsample_bytree=1, enable_categorical=False,\n",
       "             gamma=0, gpu_id=-1, importance_type=None,\n",
       "             interaction_constraints='', learning_rate=0.0008, max_delta_step=0,\n",
       "             max_depth=5, min_child_weight=1, missing=nan,\n",
       "             monotone_constraints='()', n_estimators=10000, n_jobs=8,\n",
       "             num_parallel_tree=1, predictor='auto', random_state=0, reg_alpha=0,\n",
       "             reg_lambda=1, scale_pos_weight=1, subsample=1, tree_method='exact',\n",
       "             validate_parameters=1, verbosity=None)"
      ]
     },
     "execution_count": 130,
     "metadata": {},
     "output_type": "execute_result"
    }
   ],
   "source": [
    "%%time\n",
    "regrXGB_one_hot.fit(X_train_one, Y_train_one,\n",
    "        eval_set=[(X_train_one._get_numeric_data(), Y_train_one._get_numeric_data())]\n",
    "        ,verbose=2000)"
   ]
  },
  {
   "cell_type": "code",
   "execution_count": 131,
   "id": "56e28176-c86d-45e0-97dd-37456221121c",
   "metadata": {},
   "outputs": [
    {
     "name": "stdout",
     "output_type": "stream",
     "text": [
      "\tSMAPE: 4.994048523754812\n",
      "\tMean absolute error (MAE): 0.310589691473581\n",
      "\tRoot Mean squared error (RMSE): 0.3719407701982894\n",
      "\tR2 score: 0.3923299914303535\n"
     ]
    }
   ],
   "source": [
    "print_metrics(X_train_one,Y_train_one,model=regrXGB_one_hot)"
   ]
  },
  {
   "cell_type": "code",
   "execution_count": 132,
   "id": "b467b76e-3bb0-4d41-b3ac-a5c4653780d6",
   "metadata": {},
   "outputs": [
    {
     "name": "stdout",
     "output_type": "stream",
     "text": [
      "\tSMAPE: 5.586913867086988\n",
      "\tMean absolute error (MAE): 0.3414862215684981\n",
      "\tRoot Mean squared error (RMSE): 0.4453999317330355\n",
      "\tR2 score: 0.14181238753303993\n"
     ]
    }
   ],
   "source": [
    "print_metrics(X_test_one,Y_test_one,model=regrXGB_one_hot)"
   ]
  },
  {
   "cell_type": "code",
   "execution_count": 133,
   "id": "32380896-4d29-4118-b6dd-d32f38f7d9e7",
   "metadata": {},
   "outputs": [
    {
     "data": {
      "text/html": [
       "<div>\n",
       "<style scoped>\n",
       "    .dataframe tbody tr th:only-of-type {\n",
       "        vertical-align: middle;\n",
       "    }\n",
       "\n",
       "    .dataframe tbody tr th {\n",
       "        vertical-align: top;\n",
       "    }\n",
       "\n",
       "    .dataframe thead th {\n",
       "        text-align: right;\n",
       "    }\n",
       "</style>\n",
       "<table border=\"1\" class=\"dataframe\">\n",
       "  <thead>\n",
       "    <tr style=\"text-align: right;\">\n",
       "      <th></th>\n",
       "      <th>importance</th>\n",
       "    </tr>\n",
       "  </thead>\n",
       "  <tbody>\n",
       "    <tr>\n",
       "      <th>Baking</th>\n",
       "      <td>0.027360</td>\n",
       "    </tr>\n",
       "    <tr>\n",
       "      <th>Cote d' Or (Kraft)</th>\n",
       "      <td>0.017375</td>\n",
       "    </tr>\n",
       "    <tr>\n",
       "      <th>Houseblend</th>\n",
       "      <td>0.016676</td>\n",
       "    </tr>\n",
       "    <tr>\n",
       "      <th>Ki' Xocolatl</th>\n",
       "      <td>0.013370</td>\n",
       "    </tr>\n",
       "    <tr>\n",
       "      <th>Cacao Barry</th>\n",
       "      <td>0.013008</td>\n",
       "    </tr>\n",
       "    <tr>\n",
       "      <th>Le Noir Extra Amer</th>\n",
       "      <td>0.012885</td>\n",
       "    </tr>\n",
       "    <tr>\n",
       "      <th>Escazu</th>\n",
       "      <td>0.012812</td>\n",
       "    </tr>\n",
       "    <tr>\n",
       "      <th>Dark</th>\n",
       "      <td>0.012064</td>\n",
       "    </tr>\n",
       "    <tr>\n",
       "      <th>Middlebury</th>\n",
       "      <td>0.011889</td>\n",
       "    </tr>\n",
       "    <tr>\n",
       "      <th>Soma</th>\n",
       "      <td>0.011665</td>\n",
       "    </tr>\n",
       "  </tbody>\n",
       "</table>\n",
       "</div>"
      ],
      "text/plain": [
       "                    importance\n",
       "Baking                0.027360\n",
       "Cote d' Or (Kraft)    0.017375\n",
       "Houseblend            0.016676\n",
       "Ki' Xocolatl          0.013370\n",
       "Cacao Barry           0.013008\n",
       "Le Noir Extra Amer    0.012885\n",
       "Escazu                0.012812\n",
       "Dark                  0.012064\n",
       "Middlebury            0.011889\n",
       "Soma                  0.011665"
      ]
     },
     "execution_count": 133,
     "metadata": {},
     "output_type": "execute_result"
    }
   ],
   "source": [
    "# Here I am computing the feature importance\n",
    "feature_importance= pd.DataFrame(data=regrXGB_one_hot.feature_importances_,\n",
    "                 index  = regrXGB_one_hot.get_booster().feature_names,\n",
    "                 columns= ['importance'])\n",
    "feature_importance.sort_values('importance', ascending=False).head(10)"
   ]
  },
  {
   "cell_type": "code",
   "execution_count": 134,
   "id": "4a6e2566-15ed-43cd-8246-f9fc2d02243a",
   "metadata": {},
   "outputs": [],
   "source": [
    "test=df_encod.copy()"
   ]
  },
  {
   "cell_type": "markdown",
   "id": "fe9a6984-ef0e-424e-90d1-9f1599e383cb",
   "metadata": {},
   "source": [
    "### Extra testing: encoding the features after splitting the datasets in Train and Test."
   ]
  },
  {
   "cell_type": "code",
   "execution_count": 135,
   "id": "d3d05bc0-5b97-4043-bba9-673b8080a423",
   "metadata": {},
   "outputs": [
    {
     "data": {
      "text/html": [
       "<div>\n",
       "<style scoped>\n",
       "    .dataframe tbody tr th:only-of-type {\n",
       "        vertical-align: middle;\n",
       "    }\n",
       "\n",
       "    .dataframe tbody tr th {\n",
       "        vertical-align: top;\n",
       "    }\n",
       "\n",
       "    .dataframe thead th {\n",
       "        text-align: right;\n",
       "    }\n",
       "</style>\n",
       "<table border=\"1\" class=\"dataframe\">\n",
       "  <thead>\n",
       "    <tr style=\"text-align: right;\">\n",
       "      <th></th>\n",
       "      <th>Company</th>\n",
       "      <th>Specific_Bean_Origin_or_Bar_Name</th>\n",
       "      <th>Cocoa_Percent</th>\n",
       "      <th>Company_Location</th>\n",
       "      <th>Rating</th>\n",
       "      <th>Bean_Type</th>\n",
       "      <th>Broad_Bean_Origin</th>\n",
       "      <th>Time_Difference</th>\n",
       "    </tr>\n",
       "  </thead>\n",
       "  <tbody>\n",
       "    <tr>\n",
       "      <th>0</th>\n",
       "      <td>A. Morin</td>\n",
       "      <td>Agua Grande</td>\n",
       "      <td>63.0</td>\n",
       "      <td>France</td>\n",
       "      <td>3.75</td>\n",
       "      <td>Unknown</td>\n",
       "      <td>Sao Tome</td>\n",
       "      <td>16.000000</td>\n",
       "    </tr>\n",
       "    <tr>\n",
       "      <th>1</th>\n",
       "      <td>A. Morin</td>\n",
       "      <td>Kpime</td>\n",
       "      <td>70.0</td>\n",
       "      <td>France</td>\n",
       "      <td>2.75</td>\n",
       "      <td>Unknown</td>\n",
       "      <td>Togo</td>\n",
       "      <td>15.000684</td>\n",
       "    </tr>\n",
       "    <tr>\n",
       "      <th>2</th>\n",
       "      <td>A. Morin</td>\n",
       "      <td>Atsane</td>\n",
       "      <td>70.0</td>\n",
       "      <td>France</td>\n",
       "      <td>3.00</td>\n",
       "      <td>Unknown</td>\n",
       "      <td>Togo</td>\n",
       "      <td>15.000684</td>\n",
       "    </tr>\n",
       "    <tr>\n",
       "      <th>3</th>\n",
       "      <td>A. Morin</td>\n",
       "      <td>Akata</td>\n",
       "      <td>70.0</td>\n",
       "      <td>France</td>\n",
       "      <td>3.50</td>\n",
       "      <td>Unknown</td>\n",
       "      <td>Togo</td>\n",
       "      <td>15.000684</td>\n",
       "    </tr>\n",
       "    <tr>\n",
       "      <th>4</th>\n",
       "      <td>A. Morin</td>\n",
       "      <td>Quilla</td>\n",
       "      <td>70.0</td>\n",
       "      <td>France</td>\n",
       "      <td>3.50</td>\n",
       "      <td>Unknown</td>\n",
       "      <td>Peru</td>\n",
       "      <td>15.000684</td>\n",
       "    </tr>\n",
       "    <tr>\n",
       "      <th>...</th>\n",
       "      <td>...</td>\n",
       "      <td>...</td>\n",
       "      <td>...</td>\n",
       "      <td>...</td>\n",
       "      <td>...</td>\n",
       "      <td>...</td>\n",
       "      <td>...</td>\n",
       "      <td>...</td>\n",
       "    </tr>\n",
       "    <tr>\n",
       "      <th>1790</th>\n",
       "      <td>Zotter</td>\n",
       "      <td>Peru</td>\n",
       "      <td>70.0</td>\n",
       "      <td>Austria</td>\n",
       "      <td>3.75</td>\n",
       "      <td>Unknown</td>\n",
       "      <td>Peru</td>\n",
       "      <td>11.000684</td>\n",
       "    </tr>\n",
       "    <tr>\n",
       "      <th>1791</th>\n",
       "      <td>Zotter</td>\n",
       "      <td>Congo</td>\n",
       "      <td>65.0</td>\n",
       "      <td>Austria</td>\n",
       "      <td>3.00</td>\n",
       "      <td>Forastero</td>\n",
       "      <td>Congo</td>\n",
       "      <td>11.000684</td>\n",
       "    </tr>\n",
       "    <tr>\n",
       "      <th>1792</th>\n",
       "      <td>Zotter</td>\n",
       "      <td>Kerala State</td>\n",
       "      <td>65.0</td>\n",
       "      <td>Austria</td>\n",
       "      <td>3.50</td>\n",
       "      <td>Forastero</td>\n",
       "      <td>India</td>\n",
       "      <td>11.000684</td>\n",
       "    </tr>\n",
       "    <tr>\n",
       "      <th>1793</th>\n",
       "      <td>Zotter</td>\n",
       "      <td>Kerala State</td>\n",
       "      <td>62.0</td>\n",
       "      <td>Austria</td>\n",
       "      <td>3.25</td>\n",
       "      <td>Unknown</td>\n",
       "      <td>India</td>\n",
       "      <td>11.000684</td>\n",
       "    </tr>\n",
       "    <tr>\n",
       "      <th>1794</th>\n",
       "      <td>Zotter</td>\n",
       "      <td>Brazil, Mitzi Blue</td>\n",
       "      <td>65.0</td>\n",
       "      <td>Austria</td>\n",
       "      <td>3.00</td>\n",
       "      <td>Unknown</td>\n",
       "      <td>Brazil</td>\n",
       "      <td>10.001369</td>\n",
       "    </tr>\n",
       "  </tbody>\n",
       "</table>\n",
       "<p>1795 rows × 8 columns</p>\n",
       "</div>"
      ],
      "text/plain": [
       "       Company Specific_Bean_Origin_or_Bar_Name  Cocoa_Percent  \\\n",
       "0     A. Morin                      Agua Grande           63.0   \n",
       "1     A. Morin                            Kpime           70.0   \n",
       "2     A. Morin                           Atsane           70.0   \n",
       "3     A. Morin                            Akata           70.0   \n",
       "4     A. Morin                           Quilla           70.0   \n",
       "...        ...                              ...            ...   \n",
       "1790    Zotter                             Peru           70.0   \n",
       "1791    Zotter                            Congo           65.0   \n",
       "1792    Zotter                     Kerala State           65.0   \n",
       "1793    Zotter                     Kerala State           62.0   \n",
       "1794    Zotter               Brazil, Mitzi Blue           65.0   \n",
       "\n",
       "     Company_Location  Rating  Bean_Type Broad_Bean_Origin  Time_Difference  \n",
       "0              France    3.75    Unknown          Sao Tome        16.000000  \n",
       "1              France    2.75    Unknown              Togo        15.000684  \n",
       "2              France    3.00    Unknown              Togo        15.000684  \n",
       "3              France    3.50    Unknown              Togo        15.000684  \n",
       "4              France    3.50    Unknown              Peru        15.000684  \n",
       "...               ...     ...        ...               ...              ...  \n",
       "1790          Austria    3.75    Unknown              Peru        11.000684  \n",
       "1791          Austria    3.00  Forastero             Congo        11.000684  \n",
       "1792          Austria    3.50  Forastero             India        11.000684  \n",
       "1793          Austria    3.25    Unknown             India        11.000684  \n",
       "1794          Austria    3.00    Unknown            Brazil        10.001369  \n",
       "\n",
       "[1795 rows x 8 columns]"
      ]
     },
     "execution_count": 135,
     "metadata": {},
     "output_type": "execute_result"
    }
   ],
   "source": [
    "test2 = df.copy()\n",
    "test2"
   ]
  },
  {
   "cell_type": "code",
   "execution_count": 136,
   "id": "89febf3c-6bb0-465c-aa87-b42e1f449d4b",
   "metadata": {},
   "outputs": [],
   "source": [
    "from sklearn.model_selection import StratifiedShuffleSplit\n",
    "\n",
    "split = StratifiedShuffleSplit(n_splits=1, test_size=0.2,random_state=42)\n",
    "for train_index,test_index in split.split(df,df['Rating']):\n",
    "    strat_train_set= test2.loc[train_index]\n",
    "    strat_test_set= test2.loc[test_index]"
   ]
  },
  {
   "cell_type": "code",
   "execution_count": 137,
   "id": "96fd80fa-b003-45b2-8cc3-2a83c667821b",
   "metadata": {},
   "outputs": [],
   "source": [
    "strat_train_set=target_encod(strat_train_set,features)"
   ]
  },
  {
   "cell_type": "code",
   "execution_count": 138,
   "id": "538e66c2-9b43-4277-96fc-e76973faeb85",
   "metadata": {},
   "outputs": [],
   "source": [
    "strat_test_set=target_encod(strat_test_set,features)"
   ]
  },
  {
   "cell_type": "code",
   "execution_count": 139,
   "id": "11bb4140-85c3-4a16-868e-5f6f73fded5c",
   "metadata": {},
   "outputs": [],
   "source": [
    "X_strat_train = strat_train_set.drop([\"Rating\"],axis =1)\n",
    "Y_strat_train = strat_train_set['Rating']\n",
    "\n",
    "X_strat_test = strat_test_set.drop([\"Rating\"],axis =1)\n",
    "Y_strat_test = strat_test_set['Rating']"
   ]
  },
  {
   "cell_type": "code",
   "execution_count": 140,
   "id": "44bb3ac5-71db-4a77-a793-8a34215b3717",
   "metadata": {},
   "outputs": [
    {
     "data": {
      "text/plain": [
       "(1436, 7)"
      ]
     },
     "execution_count": 140,
     "metadata": {},
     "output_type": "execute_result"
    }
   ],
   "source": [
    "X_strat_train.shape\n",
    "# More features than data. :D"
   ]
  },
  {
   "cell_type": "code",
   "execution_count": 141,
   "id": "a362dd0c-a6aa-4128-9890-91c9a463f1f9",
   "metadata": {},
   "outputs": [
    {
     "name": "stdout",
     "output_type": "stream",
     "text": [
      "CPU times: user 65 µs, sys: 53 µs, total: 118 µs\n",
      "Wall time: 126 µs\n"
     ]
    }
   ],
   "source": [
    "%%time\n",
    "regrXGB_strat = xgb.XGBRegressor(\n",
    "    booster='gbtree',\n",
    "    n_estimators=10000,\n",
    "    #early_stopping_rounds=50,\n",
    "    objective='reg:squarederror',#'reg:linear',\n",
    "    max_depth=5,\n",
    "    learning_rate=0.0008,\n",
    ")\n"
   ]
  },
  {
   "cell_type": "code",
   "execution_count": 142,
   "id": "73b18236-312f-4538-8b4b-374826ee1a51",
   "metadata": {},
   "outputs": [
    {
     "name": "stdout",
     "output_type": "stream",
     "text": [
      "[0]\tvalidation_0-rmse:2.72664\n",
      "[2000]\tvalidation_0-rmse:0.61003\n",
      "[4000]\tvalidation_0-rmse:0.24258\n",
      "[6000]\tvalidation_0-rmse:0.19428\n",
      "[8000]\tvalidation_0-rmse:0.17896\n",
      "[9999]\tvalidation_0-rmse:0.16726\n",
      "CPU times: user 2min 28s, sys: 6.54 s, total: 2min 34s\n",
      "Wall time: 25.5 s\n"
     ]
    },
    {
     "data": {
      "text/plain": [
       "XGBRegressor(base_score=0.5, booster='gbtree', colsample_bylevel=1,\n",
       "             colsample_bynode=1, colsample_bytree=1, enable_categorical=False,\n",
       "             gamma=0, gpu_id=-1, importance_type=None,\n",
       "             interaction_constraints='', learning_rate=0.0008, max_delta_step=0,\n",
       "             max_depth=5, min_child_weight=1, missing=nan,\n",
       "             monotone_constraints='()', n_estimators=10000, n_jobs=8,\n",
       "             num_parallel_tree=1, predictor='auto', random_state=0, reg_alpha=0,\n",
       "             reg_lambda=1, scale_pos_weight=1, subsample=1, tree_method='exact',\n",
       "             validate_parameters=1, verbosity=None)"
      ]
     },
     "execution_count": 142,
     "metadata": {},
     "output_type": "execute_result"
    }
   ],
   "source": [
    "%%time\n",
    "regrXGB_strat.fit(X_strat_train, Y_strat_train,\n",
    "        eval_set=[(X_strat_train._get_numeric_data(), Y_strat_train._get_numeric_data())]\n",
    "        ,verbose=2000)"
   ]
  },
  {
   "cell_type": "code",
   "execution_count": 143,
   "id": "7650d3cb-424e-43ff-8598-6432f70823f0",
   "metadata": {},
   "outputs": [
    {
     "name": "stdout",
     "output_type": "stream",
     "text": [
      "\tSMAPE: 1.8105026269445745\n",
      "\tMean absolute error (MAE): 0.10939307191245735\n",
      "\tRoot Mean squared error (RMSE): 0.16726428909337152\n",
      "\tR2 score: 0.8774608869162054\n"
     ]
    }
   ],
   "source": [
    "print_metrics(X_strat_train,Y_strat_train,model=regrXGB_strat)"
   ]
  },
  {
   "cell_type": "code",
   "execution_count": 144,
   "id": "b9ff01ca-ecb4-4a17-a74c-d97839664f6b",
   "metadata": {},
   "outputs": [
    {
     "name": "stdout",
     "output_type": "stream",
     "text": [
      "\tSMAPE: 4.2398811838189605\n",
      "\tMean absolute error (MAE): 0.26344989402048435\n",
      "\tRoot Mean squared error (RMSE): 0.3184445746990383\n",
      "\tR2 score: 0.5568220426644075\n"
     ]
    }
   ],
   "source": [
    "print_metrics(X_strat_test,Y_strat_test,model=regrXGB_strat)"
   ]
  },
  {
   "cell_type": "markdown",
   "id": "d9cd6da4-f82c-4733-bc86-af24c484e91d",
   "metadata": {},
   "source": [
    "#### It's overfitting significantly yet."
   ]
  },
  {
   "cell_type": "code",
   "execution_count": 145,
   "id": "2948a96c-7376-461d-a696-35dc3acdbb2a",
   "metadata": {},
   "outputs": [
    {
     "data": {
      "text/html": [
       "<div>\n",
       "<style scoped>\n",
       "    .dataframe tbody tr th:only-of-type {\n",
       "        vertical-align: middle;\n",
       "    }\n",
       "\n",
       "    .dataframe tbody tr th {\n",
       "        vertical-align: top;\n",
       "    }\n",
       "\n",
       "    .dataframe thead th {\n",
       "        text-align: right;\n",
       "    }\n",
       "</style>\n",
       "<table border=\"1\" class=\"dataframe\">\n",
       "  <thead>\n",
       "    <tr style=\"text-align: right;\">\n",
       "      <th></th>\n",
       "      <th>importance</th>\n",
       "    </tr>\n",
       "  </thead>\n",
       "  <tbody>\n",
       "    <tr>\n",
       "      <th>NSpecific_Bean_Origin_or_Bar_Name</th>\n",
       "      <td>0.497408</td>\n",
       "    </tr>\n",
       "    <tr>\n",
       "      <th>NCompany</th>\n",
       "      <td>0.189753</td>\n",
       "    </tr>\n",
       "    <tr>\n",
       "      <th>Time_Difference</th>\n",
       "      <td>0.077735</td>\n",
       "    </tr>\n",
       "    <tr>\n",
       "      <th>NBroad_Bean_Origin</th>\n",
       "      <td>0.077482</td>\n",
       "    </tr>\n",
       "    <tr>\n",
       "      <th>NCompany_Location</th>\n",
       "      <td>0.059274</td>\n",
       "    </tr>\n",
       "    <tr>\n",
       "      <th>Cocoa_Percent</th>\n",
       "      <td>0.056411</td>\n",
       "    </tr>\n",
       "    <tr>\n",
       "      <th>NBean_Type</th>\n",
       "      <td>0.041937</td>\n",
       "    </tr>\n",
       "  </tbody>\n",
       "</table>\n",
       "</div>"
      ],
      "text/plain": [
       "                                   importance\n",
       "NSpecific_Bean_Origin_or_Bar_Name    0.497408\n",
       "NCompany                             0.189753\n",
       "Time_Difference                      0.077735\n",
       "NBroad_Bean_Origin                   0.077482\n",
       "NCompany_Location                    0.059274\n",
       "Cocoa_Percent                        0.056411\n",
       "NBean_Type                           0.041937"
      ]
     },
     "execution_count": 145,
     "metadata": {},
     "output_type": "execute_result"
    }
   ],
   "source": [
    "# Here I am computing the feature importance\n",
    "feature_importance= pd.DataFrame(data=regrXGB_strat.feature_importances_,\n",
    "                 index  = regrXGB_strat.get_booster().feature_names,\n",
    "                 columns= ['importance'])\n",
    "feature_importance.sort_values('importance', ascending=False).head(10)"
   ]
  },
  {
   "cell_type": "code",
   "execution_count": 146,
   "id": "0e05b24a-63d0-405d-a173-d35ad91f7d82",
   "metadata": {},
   "outputs": [
    {
     "data": {
      "text/html": [
       "<div>\n",
       "<style scoped>\n",
       "    .dataframe tbody tr th:only-of-type {\n",
       "        vertical-align: middle;\n",
       "    }\n",
       "\n",
       "    .dataframe tbody tr th {\n",
       "        vertical-align: top;\n",
       "    }\n",
       "\n",
       "    .dataframe thead th {\n",
       "        text-align: right;\n",
       "    }\n",
       "</style>\n",
       "<table border=\"1\" class=\"dataframe\">\n",
       "  <thead>\n",
       "    <tr style=\"text-align: right;\">\n",
       "      <th></th>\n",
       "      <th>Company</th>\n",
       "      <th>Specific_Bean_Origin_or_Bar_Name</th>\n",
       "      <th>Cocoa_Percent</th>\n",
       "      <th>Company_Location</th>\n",
       "      <th>Rating</th>\n",
       "      <th>Bean_Type</th>\n",
       "      <th>Broad_Bean_Origin</th>\n",
       "      <th>Time_Difference</th>\n",
       "    </tr>\n",
       "  </thead>\n",
       "  <tbody>\n",
       "    <tr>\n",
       "      <th>0</th>\n",
       "      <td>A. Morin</td>\n",
       "      <td>Agua Grande</td>\n",
       "      <td>63.0</td>\n",
       "      <td>France</td>\n",
       "      <td>3.75</td>\n",
       "      <td>Unknown</td>\n",
       "      <td>Sao Tome</td>\n",
       "      <td>16.000000</td>\n",
       "    </tr>\n",
       "    <tr>\n",
       "      <th>1</th>\n",
       "      <td>A. Morin</td>\n",
       "      <td>Kpime</td>\n",
       "      <td>70.0</td>\n",
       "      <td>France</td>\n",
       "      <td>2.75</td>\n",
       "      <td>Unknown</td>\n",
       "      <td>Togo</td>\n",
       "      <td>15.000684</td>\n",
       "    </tr>\n",
       "    <tr>\n",
       "      <th>2</th>\n",
       "      <td>A. Morin</td>\n",
       "      <td>Atsane</td>\n",
       "      <td>70.0</td>\n",
       "      <td>France</td>\n",
       "      <td>3.00</td>\n",
       "      <td>Unknown</td>\n",
       "      <td>Togo</td>\n",
       "      <td>15.000684</td>\n",
       "    </tr>\n",
       "    <tr>\n",
       "      <th>3</th>\n",
       "      <td>A. Morin</td>\n",
       "      <td>Akata</td>\n",
       "      <td>70.0</td>\n",
       "      <td>France</td>\n",
       "      <td>3.50</td>\n",
       "      <td>Unknown</td>\n",
       "      <td>Togo</td>\n",
       "      <td>15.000684</td>\n",
       "    </tr>\n",
       "    <tr>\n",
       "      <th>4</th>\n",
       "      <td>A. Morin</td>\n",
       "      <td>Quilla</td>\n",
       "      <td>70.0</td>\n",
       "      <td>France</td>\n",
       "      <td>3.50</td>\n",
       "      <td>Unknown</td>\n",
       "      <td>Peru</td>\n",
       "      <td>15.000684</td>\n",
       "    </tr>\n",
       "    <tr>\n",
       "      <th>...</th>\n",
       "      <td>...</td>\n",
       "      <td>...</td>\n",
       "      <td>...</td>\n",
       "      <td>...</td>\n",
       "      <td>...</td>\n",
       "      <td>...</td>\n",
       "      <td>...</td>\n",
       "      <td>...</td>\n",
       "    </tr>\n",
       "    <tr>\n",
       "      <th>1790</th>\n",
       "      <td>Zotter</td>\n",
       "      <td>Peru</td>\n",
       "      <td>70.0</td>\n",
       "      <td>Austria</td>\n",
       "      <td>3.75</td>\n",
       "      <td>Unknown</td>\n",
       "      <td>Peru</td>\n",
       "      <td>11.000684</td>\n",
       "    </tr>\n",
       "    <tr>\n",
       "      <th>1791</th>\n",
       "      <td>Zotter</td>\n",
       "      <td>Congo</td>\n",
       "      <td>65.0</td>\n",
       "      <td>Austria</td>\n",
       "      <td>3.00</td>\n",
       "      <td>Forastero</td>\n",
       "      <td>Congo</td>\n",
       "      <td>11.000684</td>\n",
       "    </tr>\n",
       "    <tr>\n",
       "      <th>1792</th>\n",
       "      <td>Zotter</td>\n",
       "      <td>Kerala State</td>\n",
       "      <td>65.0</td>\n",
       "      <td>Austria</td>\n",
       "      <td>3.50</td>\n",
       "      <td>Forastero</td>\n",
       "      <td>India</td>\n",
       "      <td>11.000684</td>\n",
       "    </tr>\n",
       "    <tr>\n",
       "      <th>1793</th>\n",
       "      <td>Zotter</td>\n",
       "      <td>Kerala State</td>\n",
       "      <td>62.0</td>\n",
       "      <td>Austria</td>\n",
       "      <td>3.25</td>\n",
       "      <td>Unknown</td>\n",
       "      <td>India</td>\n",
       "      <td>11.000684</td>\n",
       "    </tr>\n",
       "    <tr>\n",
       "      <th>1794</th>\n",
       "      <td>Zotter</td>\n",
       "      <td>Brazil, Mitzi Blue</td>\n",
       "      <td>65.0</td>\n",
       "      <td>Austria</td>\n",
       "      <td>3.00</td>\n",
       "      <td>Unknown</td>\n",
       "      <td>Brazil</td>\n",
       "      <td>10.001369</td>\n",
       "    </tr>\n",
       "  </tbody>\n",
       "</table>\n",
       "<p>1795 rows × 8 columns</p>\n",
       "</div>"
      ],
      "text/plain": [
       "       Company Specific_Bean_Origin_or_Bar_Name  Cocoa_Percent  \\\n",
       "0     A. Morin                      Agua Grande           63.0   \n",
       "1     A. Morin                            Kpime           70.0   \n",
       "2     A. Morin                           Atsane           70.0   \n",
       "3     A. Morin                            Akata           70.0   \n",
       "4     A. Morin                           Quilla           70.0   \n",
       "...        ...                              ...            ...   \n",
       "1790    Zotter                             Peru           70.0   \n",
       "1791    Zotter                            Congo           65.0   \n",
       "1792    Zotter                     Kerala State           65.0   \n",
       "1793    Zotter                     Kerala State           62.0   \n",
       "1794    Zotter               Brazil, Mitzi Blue           65.0   \n",
       "\n",
       "     Company_Location  Rating  Bean_Type Broad_Bean_Origin  Time_Difference  \n",
       "0              France    3.75    Unknown          Sao Tome        16.000000  \n",
       "1              France    2.75    Unknown              Togo        15.000684  \n",
       "2              France    3.00    Unknown              Togo        15.000684  \n",
       "3              France    3.50    Unknown              Togo        15.000684  \n",
       "4              France    3.50    Unknown              Peru        15.000684  \n",
       "...               ...     ...        ...               ...              ...  \n",
       "1790          Austria    3.75    Unknown              Peru        11.000684  \n",
       "1791          Austria    3.00  Forastero             Congo        11.000684  \n",
       "1792          Austria    3.50  Forastero             India        11.000684  \n",
       "1793          Austria    3.25    Unknown             India        11.000684  \n",
       "1794          Austria    3.00    Unknown            Brazil        10.001369  \n",
       "\n",
       "[1795 rows x 8 columns]"
      ]
     },
     "execution_count": 146,
     "metadata": {},
     "output_type": "execute_result"
    }
   ],
   "source": [
    "test2"
   ]
  },
  {
   "cell_type": "markdown",
   "id": "4565474c-d126-43ee-9512-6c19d3765592",
   "metadata": {},
   "source": [
    "### Another type of encoding: Feature Hasher"
   ]
  },
  {
   "cell_type": "code",
   "execution_count": 147,
   "id": "b9ef6fcf-9d2a-49c3-9700-f3fbc7ddc492",
   "metadata": {},
   "outputs": [],
   "source": [
    "from sklearn.feature_extraction import FeatureHasher\n",
    "from sklearn.preprocessing import LabelEncoder\n",
    "\n",
    "# Define the columns to be hashed\n",
    "columns_to_hash = ['Specific_Bean_Origin_or_Bar_Name', 'Company']\n",
    "\n",
    "# Create a feature hasher object\n",
    "hasher = FeatureHasher(n_features=10, input_type='string')\n",
    "\n",
    "# Perform feature hashing on the selected columns\n",
    "hashed_features = hasher.transform(test2[columns_to_hash].astype(str))\n",
    "\n",
    "# Convert the hashed features into a dense matrix\n",
    "hashed_features = hashed_features.toarray()\n",
    "\n",
    "# Create a new DataFrame with the hashed features\n",
    "hashed_df = pd.DataFrame(hashed_features)\n",
    "\n",
    "# Encode the remaining categorical features\n",
    "label_encoder = LabelEncoder()\n",
    "encoded_features = test2.drop(columns_to_hash, axis=1).apply(label_encoder.fit_transform)\n",
    "\n",
    "# Concatenate the hashed DataFrame with the encoded features\n",
    "df_processed = pd.concat([hashed_df, encoded_features], axis=1)\n",
    "\n",
    "# Split the data into train and test sets\n",
    "X_hash = df_processed.drop('Rating', axis=1)\n",
    "Y_hash = df_processed['Rating']\n",
    "X_train_hash, X_test_hash, Y_train_hash, Y_test_hash = train_test_split(X_hash, Y_hash, test_size=0.2, random_state=42)"
   ]
  },
  {
   "cell_type": "code",
   "execution_count": 148,
   "id": "09b7f4ce-7fd0-4399-9b82-3d41a4d9b09f",
   "metadata": {},
   "outputs": [
    {
     "data": {
      "text/html": [
       "<div>\n",
       "<style scoped>\n",
       "    .dataframe tbody tr th:only-of-type {\n",
       "        vertical-align: middle;\n",
       "    }\n",
       "\n",
       "    .dataframe tbody tr th {\n",
       "        vertical-align: top;\n",
       "    }\n",
       "\n",
       "    .dataframe thead th {\n",
       "        text-align: right;\n",
       "    }\n",
       "</style>\n",
       "<table border=\"1\" class=\"dataframe\">\n",
       "  <thead>\n",
       "    <tr style=\"text-align: right;\">\n",
       "      <th></th>\n",
       "      <th>0</th>\n",
       "      <th>1</th>\n",
       "      <th>2</th>\n",
       "      <th>3</th>\n",
       "      <th>4</th>\n",
       "      <th>5</th>\n",
       "      <th>6</th>\n",
       "      <th>7</th>\n",
       "      <th>8</th>\n",
       "      <th>9</th>\n",
       "      <th>Cocoa_Percent</th>\n",
       "      <th>Company_Location</th>\n",
       "      <th>Rating</th>\n",
       "      <th>Bean_Type</th>\n",
       "      <th>Broad_Bean_Origin</th>\n",
       "      <th>Time_Difference</th>\n",
       "    </tr>\n",
       "  </thead>\n",
       "  <tbody>\n",
       "    <tr>\n",
       "      <th>0</th>\n",
       "      <td>3.0</td>\n",
       "      <td>-4.0</td>\n",
       "      <td>-2.0</td>\n",
       "      <td>7.0</td>\n",
       "      <td>-2.0</td>\n",
       "      <td>3.0</td>\n",
       "      <td>0.0</td>\n",
       "      <td>-3.0</td>\n",
       "      <td>-1.0</td>\n",
       "      <td>3.0</td>\n",
       "      <td>12</td>\n",
       "      <td>18</td>\n",
       "      <td>10</td>\n",
       "      <td>40</td>\n",
       "      <td>67</td>\n",
       "      <td>10</td>\n",
       "    </tr>\n",
       "    <tr>\n",
       "      <th>1</th>\n",
       "      <td>1.0</td>\n",
       "      <td>-1.0</td>\n",
       "      <td>0.0</td>\n",
       "      <td>1.0</td>\n",
       "      <td>0.0</td>\n",
       "      <td>0.0</td>\n",
       "      <td>0.0</td>\n",
       "      <td>0.0</td>\n",
       "      <td>0.0</td>\n",
       "      <td>0.0</td>\n",
       "      <td>19</td>\n",
       "      <td>18</td>\n",
       "      <td>6</td>\n",
       "      <td>40</td>\n",
       "      <td>77</td>\n",
       "      <td>9</td>\n",
       "    </tr>\n",
       "    <tr>\n",
       "      <th>2</th>\n",
       "      <td>NaN</td>\n",
       "      <td>NaN</td>\n",
       "      <td>NaN</td>\n",
       "      <td>NaN</td>\n",
       "      <td>NaN</td>\n",
       "      <td>NaN</td>\n",
       "      <td>NaN</td>\n",
       "      <td>NaN</td>\n",
       "      <td>NaN</td>\n",
       "      <td>NaN</td>\n",
       "      <td>19</td>\n",
       "      <td>18</td>\n",
       "      <td>7</td>\n",
       "      <td>40</td>\n",
       "      <td>77</td>\n",
       "      <td>9</td>\n",
       "    </tr>\n",
       "    <tr>\n",
       "      <th>3</th>\n",
       "      <td>NaN</td>\n",
       "      <td>NaN</td>\n",
       "      <td>NaN</td>\n",
       "      <td>NaN</td>\n",
       "      <td>NaN</td>\n",
       "      <td>NaN</td>\n",
       "      <td>NaN</td>\n",
       "      <td>NaN</td>\n",
       "      <td>NaN</td>\n",
       "      <td>NaN</td>\n",
       "      <td>19</td>\n",
       "      <td>18</td>\n",
       "      <td>9</td>\n",
       "      <td>40</td>\n",
       "      <td>77</td>\n",
       "      <td>9</td>\n",
       "    </tr>\n",
       "    <tr>\n",
       "      <th>4</th>\n",
       "      <td>NaN</td>\n",
       "      <td>NaN</td>\n",
       "      <td>NaN</td>\n",
       "      <td>NaN</td>\n",
       "      <td>NaN</td>\n",
       "      <td>NaN</td>\n",
       "      <td>NaN</td>\n",
       "      <td>NaN</td>\n",
       "      <td>NaN</td>\n",
       "      <td>NaN</td>\n",
       "      <td>19</td>\n",
       "      <td>18</td>\n",
       "      <td>9</td>\n",
       "      <td>40</td>\n",
       "      <td>55</td>\n",
       "      <td>9</td>\n",
       "    </tr>\n",
       "    <tr>\n",
       "      <th>...</th>\n",
       "      <td>...</td>\n",
       "      <td>...</td>\n",
       "      <td>...</td>\n",
       "      <td>...</td>\n",
       "      <td>...</td>\n",
       "      <td>...</td>\n",
       "      <td>...</td>\n",
       "      <td>...</td>\n",
       "      <td>...</td>\n",
       "      <td>...</td>\n",
       "      <td>...</td>\n",
       "      <td>...</td>\n",
       "      <td>...</td>\n",
       "      <td>...</td>\n",
       "      <td>...</td>\n",
       "      <td>...</td>\n",
       "    </tr>\n",
       "    <tr>\n",
       "      <th>1790</th>\n",
       "      <td>NaN</td>\n",
       "      <td>NaN</td>\n",
       "      <td>NaN</td>\n",
       "      <td>NaN</td>\n",
       "      <td>NaN</td>\n",
       "      <td>NaN</td>\n",
       "      <td>NaN</td>\n",
       "      <td>NaN</td>\n",
       "      <td>NaN</td>\n",
       "      <td>NaN</td>\n",
       "      <td>19</td>\n",
       "      <td>3</td>\n",
       "      <td>10</td>\n",
       "      <td>40</td>\n",
       "      <td>55</td>\n",
       "      <td>5</td>\n",
       "    </tr>\n",
       "    <tr>\n",
       "      <th>1791</th>\n",
       "      <td>NaN</td>\n",
       "      <td>NaN</td>\n",
       "      <td>NaN</td>\n",
       "      <td>NaN</td>\n",
       "      <td>NaN</td>\n",
       "      <td>NaN</td>\n",
       "      <td>NaN</td>\n",
       "      <td>NaN</td>\n",
       "      <td>NaN</td>\n",
       "      <td>NaN</td>\n",
       "      <td>14</td>\n",
       "      <td>3</td>\n",
       "      <td>7</td>\n",
       "      <td>19</td>\n",
       "      <td>12</td>\n",
       "      <td>5</td>\n",
       "    </tr>\n",
       "    <tr>\n",
       "      <th>1792</th>\n",
       "      <td>NaN</td>\n",
       "      <td>NaN</td>\n",
       "      <td>NaN</td>\n",
       "      <td>NaN</td>\n",
       "      <td>NaN</td>\n",
       "      <td>NaN</td>\n",
       "      <td>NaN</td>\n",
       "      <td>NaN</td>\n",
       "      <td>NaN</td>\n",
       "      <td>NaN</td>\n",
       "      <td>14</td>\n",
       "      <td>3</td>\n",
       "      <td>9</td>\n",
       "      <td>19</td>\n",
       "      <td>38</td>\n",
       "      <td>5</td>\n",
       "    </tr>\n",
       "    <tr>\n",
       "      <th>1793</th>\n",
       "      <td>NaN</td>\n",
       "      <td>NaN</td>\n",
       "      <td>NaN</td>\n",
       "      <td>NaN</td>\n",
       "      <td>NaN</td>\n",
       "      <td>NaN</td>\n",
       "      <td>NaN</td>\n",
       "      <td>NaN</td>\n",
       "      <td>NaN</td>\n",
       "      <td>NaN</td>\n",
       "      <td>11</td>\n",
       "      <td>3</td>\n",
       "      <td>8</td>\n",
       "      <td>40</td>\n",
       "      <td>38</td>\n",
       "      <td>5</td>\n",
       "    </tr>\n",
       "    <tr>\n",
       "      <th>1794</th>\n",
       "      <td>NaN</td>\n",
       "      <td>NaN</td>\n",
       "      <td>NaN</td>\n",
       "      <td>NaN</td>\n",
       "      <td>NaN</td>\n",
       "      <td>NaN</td>\n",
       "      <td>NaN</td>\n",
       "      <td>NaN</td>\n",
       "      <td>NaN</td>\n",
       "      <td>NaN</td>\n",
       "      <td>14</td>\n",
       "      <td>3</td>\n",
       "      <td>7</td>\n",
       "      <td>40</td>\n",
       "      <td>4</td>\n",
       "      <td>4</td>\n",
       "    </tr>\n",
       "  </tbody>\n",
       "</table>\n",
       "<p>1795 rows × 16 columns</p>\n",
       "</div>"
      ],
      "text/plain": [
       "        0    1    2    3    4    5    6    7    8    9  Cocoa_Percent  \\\n",
       "0     3.0 -4.0 -2.0  7.0 -2.0  3.0  0.0 -3.0 -1.0  3.0             12   \n",
       "1     1.0 -1.0  0.0  1.0  0.0  0.0  0.0  0.0  0.0  0.0             19   \n",
       "2     NaN  NaN  NaN  NaN  NaN  NaN  NaN  NaN  NaN  NaN             19   \n",
       "3     NaN  NaN  NaN  NaN  NaN  NaN  NaN  NaN  NaN  NaN             19   \n",
       "4     NaN  NaN  NaN  NaN  NaN  NaN  NaN  NaN  NaN  NaN             19   \n",
       "...   ...  ...  ...  ...  ...  ...  ...  ...  ...  ...            ...   \n",
       "1790  NaN  NaN  NaN  NaN  NaN  NaN  NaN  NaN  NaN  NaN             19   \n",
       "1791  NaN  NaN  NaN  NaN  NaN  NaN  NaN  NaN  NaN  NaN             14   \n",
       "1792  NaN  NaN  NaN  NaN  NaN  NaN  NaN  NaN  NaN  NaN             14   \n",
       "1793  NaN  NaN  NaN  NaN  NaN  NaN  NaN  NaN  NaN  NaN             11   \n",
       "1794  NaN  NaN  NaN  NaN  NaN  NaN  NaN  NaN  NaN  NaN             14   \n",
       "\n",
       "      Company_Location  Rating  Bean_Type  Broad_Bean_Origin  Time_Difference  \n",
       "0                   18      10         40                 67               10  \n",
       "1                   18       6         40                 77                9  \n",
       "2                   18       7         40                 77                9  \n",
       "3                   18       9         40                 77                9  \n",
       "4                   18       9         40                 55                9  \n",
       "...                ...     ...        ...                ...              ...  \n",
       "1790                 3      10         40                 55                5  \n",
       "1791                 3       7         19                 12                5  \n",
       "1792                 3       9         19                 38                5  \n",
       "1793                 3       8         40                 38                5  \n",
       "1794                 3       7         40                  4                4  \n",
       "\n",
       "[1795 rows x 16 columns]"
      ]
     },
     "execution_count": 148,
     "metadata": {},
     "output_type": "execute_result"
    }
   ],
   "source": [
    "df_processed"
   ]
  },
  {
   "cell_type": "code",
   "execution_count": 149,
   "id": "159a6ebd-3893-4e75-b33d-ee9444bae623",
   "metadata": {},
   "outputs": [
    {
     "name": "stdout",
     "output_type": "stream",
     "text": [
      "[0]\tvalidation_0-rmse:7.49616\n",
      "[2000]\tvalidation_0-rmse:2.19019\n",
      "[4000]\tvalidation_0-rmse:1.56068\n",
      "[6000]\tvalidation_0-rmse:1.48308\n",
      "[8000]\tvalidation_0-rmse:1.44667\n",
      "[9999]\tvalidation_0-rmse:1.41539\n",
      "CPU times: user 1min 40s, sys: 2.96 s, total: 1min 43s\n",
      "Wall time: 16.2 s\n"
     ]
    },
    {
     "data": {
      "text/plain": [
       "XGBRegressor(base_score=0.5, booster='gbtree', colsample_bylevel=1,\n",
       "             colsample_bynode=1, colsample_bytree=1, enable_categorical=False,\n",
       "             gamma=0.5, gpu_id=-1, importance_type=None,\n",
       "             interaction_constraints='', learning_rate=0.0008, max_delta_step=0,\n",
       "             max_depth=5, min_child_weight=1, missing=nan,\n",
       "             monotone_constraints='()', n_estimators=10000, n_jobs=8,\n",
       "             num_parallel_tree=1, predictor='auto', random_state=0,\n",
       "             reg_alpha=0.1, reg_lambda=0, scale_pos_weight=1, subsample=1,\n",
       "             tree_method='exact', validate_parameters=1, verbosity=None)"
      ]
     },
     "execution_count": 149,
     "metadata": {},
     "output_type": "execute_result"
    }
   ],
   "source": [
    "%%time\n",
    "regrXGB_hash = xgb.XGBRegressor(\n",
    "    booster='gbtree',\n",
    "    n_estimators=10000,\n",
    "    #early_stopping_rounds=50,\n",
    "    objective='reg:squarederror',#'reg:linear',\n",
    "    max_depth=5,\n",
    "    learning_rate=0.0008,                \n",
    "    gamma=0.5,\n",
    "    reg_alpha=0.1,\n",
    "    reg_lambda=0\n",
    "    \n",
    ")\n",
    "regrXGB_hash.fit(X_train_hash, Y_train_hash,\n",
    "        eval_set=[(X_train_hash._get_numeric_data(), Y_train_hash._get_numeric_data())]\n",
    "        ,verbose=2000)"
   ]
  },
  {
   "cell_type": "code",
   "execution_count": 150,
   "id": "0b0110e9-2ed3-47bf-884e-60b94809c8b5",
   "metadata": {},
   "outputs": [
    {
     "name": "stdout",
     "output_type": "stream",
     "text": [
      "\tSMAPE: 7.916801470154462\n",
      "\tMean absolute error (MAE): 1.1381779034987798\n",
      "\tRoot Mean squared error (RMSE): 1.4153857060547257\n",
      "\tR2 score: 0.44103977079164425\n"
     ]
    }
   ],
   "source": [
    "print_metrics(X_train_hash,Y_train_hash,model=regrXGB_hash)"
   ]
  },
  {
   "cell_type": "code",
   "execution_count": 151,
   "id": "868e0e0a-1eee-4f9c-a0f1-9c05f4f3a357",
   "metadata": {},
   "outputs": [
    {
     "name": "stdout",
     "output_type": "stream",
     "text": [
      "\tSMAPE: 9.982528415538281\n",
      "\tMean absolute error (MAE): 1.3915445887610773\n",
      "\tRoot Mean squared error (RMSE): 1.779093759332388\n",
      "\tR2 score: 0.10984601173548802\n"
     ]
    }
   ],
   "source": [
    "print_metrics(X_test_hash,Y_test_hash,model=regrXGB_hash)"
   ]
  },
  {
   "cell_type": "markdown",
   "id": "2a485ae3-43a2-439f-bd0c-ce3f9b452f61",
   "metadata": {},
   "source": [
    "#### Even worst! "
   ]
  },
  {
   "cell_type": "code",
   "execution_count": 152,
   "id": "4f8ceb38-4ad7-4ba3-8d7c-4b2e9fc19470",
   "metadata": {},
   "outputs": [
    {
     "data": {
      "text/html": [
       "<div>\n",
       "<style scoped>\n",
       "    .dataframe tbody tr th:only-of-type {\n",
       "        vertical-align: middle;\n",
       "    }\n",
       "\n",
       "    .dataframe tbody tr th {\n",
       "        vertical-align: top;\n",
       "    }\n",
       "\n",
       "    .dataframe thead th {\n",
       "        text-align: right;\n",
       "    }\n",
       "</style>\n",
       "<table border=\"1\" class=\"dataframe\">\n",
       "  <thead>\n",
       "    <tr style=\"text-align: right;\">\n",
       "      <th></th>\n",
       "      <th>importance</th>\n",
       "    </tr>\n",
       "  </thead>\n",
       "  <tbody>\n",
       "    <tr>\n",
       "      <th>Cocoa_Percent</th>\n",
       "      <td>0.287896</td>\n",
       "    </tr>\n",
       "    <tr>\n",
       "      <th>Bean_Type</th>\n",
       "      <td>0.186210</td>\n",
       "    </tr>\n",
       "    <tr>\n",
       "      <th>Time_Difference</th>\n",
       "      <td>0.180081</td>\n",
       "    </tr>\n",
       "    <tr>\n",
       "      <th>Company_Location</th>\n",
       "      <td>0.171179</td>\n",
       "    </tr>\n",
       "    <tr>\n",
       "      <th>Broad_Bean_Origin</th>\n",
       "      <td>0.141586</td>\n",
       "    </tr>\n",
       "    <tr>\n",
       "      <th>0</th>\n",
       "      <td>0.033047</td>\n",
       "    </tr>\n",
       "    <tr>\n",
       "      <th>1</th>\n",
       "      <td>0.000000</td>\n",
       "    </tr>\n",
       "    <tr>\n",
       "      <th>2</th>\n",
       "      <td>0.000000</td>\n",
       "    </tr>\n",
       "    <tr>\n",
       "      <th>3</th>\n",
       "      <td>0.000000</td>\n",
       "    </tr>\n",
       "    <tr>\n",
       "      <th>4</th>\n",
       "      <td>0.000000</td>\n",
       "    </tr>\n",
       "  </tbody>\n",
       "</table>\n",
       "</div>"
      ],
      "text/plain": [
       "                   importance\n",
       "Cocoa_Percent        0.287896\n",
       "Bean_Type            0.186210\n",
       "Time_Difference      0.180081\n",
       "Company_Location     0.171179\n",
       "Broad_Bean_Origin    0.141586\n",
       "0                    0.033047\n",
       "1                    0.000000\n",
       "2                    0.000000\n",
       "3                    0.000000\n",
       "4                    0.000000"
      ]
     },
     "execution_count": 152,
     "metadata": {},
     "output_type": "execute_result"
    }
   ],
   "source": [
    "# Here I am computing the feature importance\n",
    "feature_importance= pd.DataFrame(data=regrXGB_hash.feature_importances_,\n",
    "                 index  = regrXGB_hash.get_booster().feature_names,\n",
    "                 columns= ['importance'])\n",
    "feature_importance.sort_values('importance', ascending=False).head(10)"
   ]
  },
  {
   "cell_type": "code",
   "execution_count": null,
   "id": "4a630fe4-1f81-414c-b5e2-67c857477b07",
   "metadata": {},
   "outputs": [],
   "source": []
  }
 ],
 "metadata": {
  "kernelspec": {
   "display_name": "Python 3",
   "language": "python",
   "name": "python3"
  },
  "language_info": {
   "codemirror_mode": {
    "name": "ipython",
    "version": 3
   },
   "file_extension": ".py",
   "mimetype": "text/x-python",
   "name": "python",
   "nbconvert_exporter": "python",
   "pygments_lexer": "ipython3",
   "version": "3.6.8"
  }
 },
 "nbformat": 4,
 "nbformat_minor": 5
}
